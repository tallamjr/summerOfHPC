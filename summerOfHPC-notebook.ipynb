{
 "cells": [
  {
   "cell_type": "markdown",
   "metadata": {},
   "source": [
    "## Programming Exercise Background\n",
    "\n",
    "The following expansion gives an approximation to the exact value of π:"
   ]
  },
  {
   "cell_type": "markdown",
   "metadata": {},
   "source": [
    "$$\\pi(N) = \\frac{4}{N}\\sum_{i=1}^N\\frac{1}{1 + \\left(\\frac{i - \\frac{1}{2}}{N}\\right)^2}$$"
   ]
  },
  {
   "cell_type": "markdown",
   "metadata": {},
   "source": [
    "We can check this by hand like so..."
   ]
  },
  {
   "cell_type": "markdown",
   "metadata": {},
   "source": [
    "$$\\pi(1) = 4\\frac{4}{5} = 3.2$$, $$\\pi(2) = 4\\left(\\frac{16}{17}+\\frac{16}{25}\\right) = 3.162$$"
   ]
  },
  {
   "cell_type": "markdown",
   "metadata": {},
   "source": [
    "It can be shown that the approximation continues to become more accurate as N is increased."
   ]
  },
  {
   "cell_type": "markdown",
   "metadata": {},
   "source": [
    "### Exercises\n",
    "\n",
    "Note that you must use double-precision variables for ALL floating-point numbers.\n",
    "\n",
    "### Exercise 1\n",
    "\n",
    "Write a program in C, C++, Fortran or Java that computes an approximation to π using the above formula for the following values of N: 1, 2, 10, 50, 100, 500. For each value of N, print out the approximate value π(N) and the error err(N). The error is the difference between π(N) and the true value of π, ie err(N) = π(N) − π. As N increases the value of the error should decrease."
   ]
  },
  {
   "cell_type": "code",
   "execution_count": 119,
   "metadata": {
    "collapsed": true
   },
   "outputs": [],
   "source": [
    "import numpy as np\n",
    "import matplotlib.pyplot as plt\n",
    "import pandas as pd\n",
    "\n",
    "%matplotlib inline"
   ]
  },
  {
   "cell_type": "code",
   "execution_count": 120,
   "metadata": {
    "collapsed": false
   },
   "outputs": [
    {
     "name": "stdout",
     "output_type": "stream",
     "text": [
      "3.141592653589793\n"
     ]
    }
   ],
   "source": [
    "pi_true = np.pi\n",
    "print(pi_true)"
   ]
  },
  {
   "cell_type": "code",
   "execution_count": 95,
   "metadata": {
    "collapsed": false
   },
   "outputs": [],
   "source": [
    "def pi_approx(N):\n",
    "    summation = 0\n",
    "    for i in range(N):\n",
    "        alpha  = (i - 0.5)/N       \n",
    "        summation = summation + 1 / (1 + alpha**2)\n",
    "        #print(\"i = {} and summation = {}\".format(i, summation))\n",
    " \n",
    "    result = (4 / N)*summation\n",
    "    #print(\"pi approximation = {}\".format(result))\n",
    "        \n",
    "    return result"
   ]
  },
  {
   "cell_type": "code",
   "execution_count": 96,
   "metadata": {
    "collapsed": false
   },
   "outputs": [
    {
     "data": {
      "text/plain": [
       "3.4950161216478772"
      ]
     },
     "execution_count": 96,
     "metadata": {},
     "output_type": "execute_result"
    }
   ],
   "source": [
    "pi_approx(5)"
   ]
  },
  {
   "cell_type": "code",
   "execution_count": 117,
   "metadata": {
    "collapsed": false
   },
   "outputs": [
    {
     "name": "stdout",
     "output_type": "stream",
     "text": [
      "The true value of pi = 3.141592653589793, the approxiamtion = 3.4950161216478772\n",
      "Thus, the error is = 0.3534234680580841\n"
     ]
    },
    {
     "data": {
      "text/plain": [
       "0.35342346805808411"
      ]
     },
     "execution_count": 117,
     "metadata": {},
     "output_type": "execute_result"
    }
   ],
   "source": [
    "def pi_error(N):\n",
    "    \n",
    "    pi_err = np.abs(pi_true - pi_approx(N))\n",
    "\n",
    "    print(\"The true value of pi = {}, the approxiamtion = {}\".format(pi_true, pi_approx(N)))\n",
    "    print(\"Thus, the error is = {}\".format(pi_err))\n",
    "    \n",
    "    return pi_err\n",
    "\n",
    "pi_error(5)"
   ]
  },
  {
   "cell_type": "code",
   "execution_count": 118,
   "metadata": {
    "collapsed": false
   },
   "outputs": [
    {
     "name": "stdout",
     "output_type": "stream",
     "text": [
      "1 inputs = PI approximation of 3.2.\n",
      "The true value of pi = 3.141592653589793, the approxiamtion = 3.2\n",
      "Thus, the error is = 0.05840734641020706\n",
      "0.0584073464102\n",
      "2 inputs = PI approximation of 3.764705882352941.\n",
      "The true value of pi = 3.141592653589793, the approxiamtion = 3.764705882352941\n",
      "Thus, the error is = 0.623113228763148\n",
      "0.623113228763\n",
      "10 inputs = PI approximation of 3.3311788072817965.\n",
      "The true value of pi = 3.141592653589793, the approxiamtion = 3.3311788072817965\n",
      "Thus, the error is = 0.18958615369200338\n",
      "0.189586153692\n",
      "50 inputs = PI approximation of 3.1812159878239283.\n",
      "The true value of pi = 3.141592653589793, the approxiamtion = 3.1812159878239283\n",
      "Thus, the error is = 0.03962333423413522\n",
      "0.0396233342341\n",
      "100 inputs = PI approximation of 3.161499736951266.\n",
      "The true value of pi = 3.141592653589793, the approxiamtion = 3.161499736951266\n",
      "Thus, the error is = 0.019907083361472733\n",
      "0.0199070833615\n",
      "500 inputs = PI approximation of 3.145588976923137.\n",
      "The true value of pi = 3.141592653589793, the approxiamtion = 3.145588976923137\n",
      "Thus, the error is = 0.003996323333343987\n",
      "0.00399632333334\n"
     ]
    }
   ],
   "source": [
    "N = [1,2,10,50,100,500]\n",
    "\n",
    "for input in N:\n",
    "    outputs = pi_approx(input)\n",
    "    print(\"{} inputs = PI approximation of {}.\".format(input, outputs))\n",
    "    print(pi_error(input))\n",
    "    "
   ]
  },
  {
   "cell_type": "markdown",
   "metadata": {},
   "source": [
    "### Exercise 2\n",
    "\n",
    "We now want to find out the minimum value of N that is required to give a value for π(N) that is accurate to some specified value. We will call this value Nmin. By computing π(N) for increasing values of N, calculate Nmin such that err(Nmin) < 10−6"
   ]
  },
  {
   "cell_type": "markdown",
   "metadata": {},
   "source": [
    "### Exercise 3\n",
    "\n",
    "This way of computing Nmin is clearly inefficient. For example, if we require err(Nmin) < 10−6. and we calculate err(2) = 0.02, it is a waste of time to calculate err(3) as it is already obvious that Nmin is very much larger than 2!  ",
    " Rewrite your program so that is uses a more efficient way to locate the minimum value of N. Your new method must produce exactly the same value for Nmin as before but should be faster. For example, you might try and reduce the number of times that you have to evaluate err(N). You should also tell us how much faster your new program is."
   ]
  }
 ],
 "metadata": {
  "kernelspec": {
   "display_name": "Python 3",
   "language": "python",
   "name": "python3"
  },
  "language_info": {
   "codemirror_mode": {
    "name": "ipython",
    "version": 3
   },
   "file_extension": ".py",
   "mimetype": "text/x-python",
   "name": "python",
   "nbconvert_exporter": "python",
   "pygments_lexer": "ipython3",
   "version": "3.5.1"
  }
 },
 "nbformat": 4,
 "nbformat_minor": 2
}
