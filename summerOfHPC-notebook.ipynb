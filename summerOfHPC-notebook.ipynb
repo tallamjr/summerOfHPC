{
 "cells": [
  {
   "cell_type": "markdown",
   "metadata": {},
   "source": [
    "## Programming Exercise Background\n",
    "\n",
    "The following expansion gives an approximation to the exact value of π:"
   ]
  },
  {
   "cell_type": "markdown",
   "metadata": {},
   "source": [
    "$$\\pi(N) = \\frac{4}{N}\\sum_{i=1}^N\\frac{1}{1 + \\left(\\frac{i - \\frac{1}{2}}{N}\\right)^2}$$"
   ]
  },
  {
   "cell_type": "markdown",
   "metadata": {},
   "source": [
    "We can check this by hand like so..."
   ]
  },
  {
   "cell_type": "markdown",
   "metadata": {},
   "source": [
    "$$\\pi(1) = 4\\frac{4}{5} = 3.2$$, $$\\pi(2) = 4\\left(\\frac{16}{17}+\\frac{16}{25}\\right) = 3.162$$"
   ]
  },
  {
   "cell_type": "markdown",
   "metadata": {},
   "source": [
    "It can be shown that the approximation continues to become more accurate as N is increased."
   ]
  },
  {
   "cell_type": "markdown",
   "metadata": {},
   "source": [
    "### Exercises\n",
    "\n",
    "Note that you must use double-precision variables for ALL floating-point numbers.\n",
    "\n",
    "### Exercise 1\n",
    "\n",
    "Write a program in C, C++, Fortran or Java that computes an approximation to π using the above formula for the following values of N: 1, 2, 10, 50, 100, 500. For each value of N, print out the approximate value π(N) and the error err(N). The error is the difference between π(N) and the true value of π, ie err(N) = π(N) − π. As N increases the value of the error should decrease."
   ]
  },
  {
   "cell_type": "code",
   "execution_count": 49,
   "metadata": {
    "collapsed": true
   },
   "outputs": [],
   "source": [
    "import numpy as np\n",
    "import matplotlib.pyplot as plt\n",
    "import pandas as pd\n",
    "\n",
    "%matplotlib inline\n",
    "import mpld3\n",
    "mpld3.enable_notebook()"
   ]
  },
  {
   "cell_type": "code",
   "execution_count": 50,
   "metadata": {
    "collapsed": false
   },
   "outputs": [
    {
     "name": "stdout",
     "output_type": "stream",
     "text": [
      "3.141592653589793\n"
     ]
    }
   ],
   "source": [
    "pi_true = np.pi\n",
    "print(pi_true)"
   ]
  },
  {
   "cell_type": "code",
   "execution_count": 51,
   "metadata": {
    "collapsed": false
   },
   "outputs": [],
   "source": [
    "def pi_approx(N):\n",
    "    summation = 0\n",
    "    for i in range(N):\n",
    "        alpha  = (i - 0.5)/N       \n",
    "        summation = summation + 1 / (1 + alpha**2)\n",
    "        #print(\"i = {} and summation = {}\".format(i, summation))\n",
    " \n",
    "    result = (4 / N)*summation\n",
    "    #print(\"pi approximation = {}\".format(result))\n",
    "        \n",
    "    return result"
   ]
  },
  {
   "cell_type": "code",
   "execution_count": 52,
   "metadata": {
    "collapsed": false
   },
   "outputs": [
    {
     "data": {
      "text/plain": [
       "3.4950161216478772"
      ]
     },
     "execution_count": 52,
     "metadata": {},
     "output_type": "execute_result"
    }
   ],
   "source": [
    "pi_approx(5)"
   ]
  },
  {
   "cell_type": "code",
   "execution_count": 53,
   "metadata": {
    "collapsed": false
   },
   "outputs": [
    {
     "name": "stdout",
     "output_type": "stream",
     "text": [
      "The true value of pi = 3.141592653589793, the approxiamtion = 3.4950161216478772\n",
      "Thus, the error is = 0.3534234680580841\n"
     ]
    },
    {
     "data": {
      "text/plain": [
       "0.35342346805808411"
      ]
     },
     "execution_count": 53,
     "metadata": {},
     "output_type": "execute_result"
    }
   ],
   "source": [
    "def pi_error(N):\n",
    "    \n",
    "    pi_err = np.abs(pi_true - pi_approx(N))\n",
    "\n",
    "    print(\"The true value of pi = {}, the approxiamtion = {}\".format(pi_true, pi_approx(N)))\n",
    "    print(\"Thus, the error is = {}\".format(pi_err))\n",
    "    \n",
    "    return pi_err\n",
    "\n",
    "pi_error(5)"
   ]
  },
  {
   "cell_type": "code",
   "execution_count": 54,
   "metadata": {
    "collapsed": false
   },
   "outputs": [
    {
     "name": "stdout",
     "output_type": "stream",
     "text": [
      "The true value of pi = 3.141592653589793, the approxiamtion = 3.14259242426687\n",
      "Thus, the error is = 0.0009997706770770165\n",
      "2000 inputs = PI approximation of 3.14259242426687.\n",
      "The true value of pi = 3.141592653589793, the approxiamtion = 3.14259242426687\n",
      "Thus, the error is = 0.0009997706770770165\n",
      "0.000999770677077\n",
      "The true value of pi = 3.141592653589793, the approxiamtion = 3.141992616913123\n",
      "Thus, the error is = 0.00039996332332981055\n",
      "5000 inputs = PI approximation of 3.141992616913123.\n",
      "The true value of pi = 3.141592653589793, the approxiamtion = 3.141992616913123\n",
      "Thus, the error is = 0.00039996332332981055\n",
      "0.00039996332333\n",
      "The true value of pi = 3.141592653589793, the approxiamtion = 3.1417926444218836\n",
      "Thus, the error is = 0.00019999083209043533\n",
      "10000 inputs = PI approximation of 3.1417926444218836.\n",
      "The true value of pi = 3.141592653589793, the approxiamtion = 3.1417926444218836\n",
      "Thus, the error is = 0.00019999083209043533\n",
      "0.00019999083209\n",
      "The true value of pi = 3.141592653589793, the approxiamtion = 3.141692651297969\n",
      "Thus, the error is = 9.999770817570308e-05\n",
      "20000 inputs = PI approximation of 3.141692651297969.\n",
      "The true value of pi = 3.141592653589793, the approxiamtion = 3.141692651297969\n",
      "Thus, the error is = 9.999770817570308e-05\n",
      "9.99977081757e-05\n"
     ]
    }
   ],
   "source": [
    "N = [1,2,10,50,100,500]\n",
    "N = [2000, 5000, 10000, 20000]\n",
    "\n",
    "outputs_list = []\n",
    "for input in N:\n",
    "    outputs = pi_approx(input)\n",
    "    outputs_list.append(pi_error(input))\n",
    "    print(\"{} inputs = PI approximation of {}.\".format(input, outputs))\n",
    "    print(pi_error(input))\n",
    "    "
   ]
  },
  {
   "cell_type": "code",
   "execution_count": 55,
   "metadata": {
    "collapsed": false
   },
   "outputs": [
    {
     "data": {
      "text/plain": [
       "[0.0009997706770770165,\n",
       " 0.00039996332332981055,\n",
       " 0.00019999083209043533,\n",
       " 9.9997708175703082e-05]"
      ]
     },
     "execution_count": 55,
     "metadata": {},
     "output_type": "execute_result"
    }
   ],
   "source": [
    "N\n",
    "outputs_list"
   ]
  },
  {
   "cell_type": "code",
   "execution_count": 56,
   "metadata": {
    "collapsed": false
   },
   "outputs": [
    {
     "data": {
      "text/plain": [
       "<matplotlib.lines.Line2D at 0x110768b70>"
      ]
     },
     "execution_count": 56,
     "metadata": {},
     "output_type": "execute_result"
    },
    {
     "name": "stderr",
     "output_type": "stream",
     "text": [
      "/Users/tarek_allam/anaconda/envs/py3/lib/python3.5/site-packages/mpld3/mplexporter/exporter.py:84: UserWarning: Blended transforms not yet supported. Zoom behavior may not work as expected.\n",
      "  warnings.warn(\"Blended transforms not yet supported. \"\n"
     ]
    },
    {
     "data": {
      "image/png": "[encoded data removed]",
      "text/html": [
       "\n",
       "\n",
       "<style>\n",
       "\n",
       "</style>\n",
       "\n",
       "<div id=\"fig_el9316045711719203528617015\"></div>\n",
       "<script>\n",
       "function mpld3_load_lib(url, callback){\n",
       "  var s = document.createElement('script');\n",
       "  s.src = url;\n",
       "  s.async = true;\n",
       "  s.onreadystatechange = s.onload = callback;\n",
       "  s.onerror = function(){console.warn(\"failed to load library \" + url);};\n",
       "  document.getElementsByTagName(\"head\")[0].appendChild(s);\n",
       "}\n",
       "\n",
       "if(typeof(mpld3) !== \"undefined\" && mpld3._mpld3IsLoaded){\n",
       "   // already loaded: just create the figure\n",
       "   !function(mpld3){\n",
       "       \n",
       "       mpld3.draw_figure(\"fig_el9316045711719203528617015\", {\"plugins\": [{\"type\": \"reset\"}, {\"enabled\": false, \"type\": \"zoom\", \"button\": true}, {\"enabled\": false, \"type\": \"boxzoom\", \"button\": true}], \"axes\": [{\"paths\": [], \"axesbgalpha\": null, \"bbox\": [0.125, 0.125, 0.775, 0.775], \"xlim\": [2000.0, 20000.0], \"ylim\": [0.0, 1.2000000000000002], \"collections\": [], \"lines\": [{\"color\": \"#0000FF\", \"dasharray\": \"none\", \"drawstyle\": \"default\", \"id\": \"el931604575718928\", \"xindex\": 0, \"coordinates\": \"data\", \"alpha\": 1, \"linewidth\": 1.0, \"zorder\": 2, \"yindex\": 1, \"data\": \"data01\"}, {\"color\": \"#FF0000\", \"dasharray\": \"none\", \"drawstyle\": \"default\", \"id\": \"el931604571171696\", \"xindex\": 0, \"coordinates\": \"display\", \"alpha\": 1, \"linewidth\": 4.0, \"zorder\": 2, \"yindex\": 1, \"data\": \"data02\"}], \"ydomain\": [0.0, 1.2000000000000002], \"xdomain\": [2000.0, 20000.0], \"axes\": [{\"tickvalues\": null, \"fontsize\": 10.0, \"scale\": \"linear\", \"position\": \"bottom\", \"nticks\": 10, \"visible\": true, \"grid\": {\"gridOn\": false}, \"tickformat\": null}, {\"tickvalues\": null, \"fontsize\": 10.0, \"scale\": \"linear\", \"position\": \"left\", \"nticks\": 8, \"visible\": true, \"grid\": {\"gridOn\": false}, \"tickformat\": null}], \"zoomable\": true, \"markers\": [], \"sharey\": [], \"xscale\": \"linear\", \"axesbg\": \"#FFFFFF\", \"id\": \"el931604573977344\", \"yscale\": \"linear\", \"images\": [], \"texts\": [], \"sharex\": []}], \"data\": {\"data02\": [[54.0, 221.99999999999997], [388.8, 221.99999999999997]], \"data01\": [[2000.0, 0.0009997706770770165], [5000.0, 0.00039996332332981055], [10000.0, 0.00019999083209043533], [20000.0, 9.999770817570308e-05]]}, \"height\": 288.0, \"width\": 432.0, \"id\": \"el931604571171920\"});\n",
       "   }(mpld3);\n",
       "}else if(typeof define === \"function\" && define.amd){\n",
       "   // require.js is available: use it to load d3/mpld3\n",
       "   require.config({paths: {d3: \"https://mpld3.github.io/js/d3.v3.min\"}});\n",
       "   require([\"d3\"], function(d3){\n",
       "      window.d3 = d3;\n",
       "      mpld3_load_lib(\"https://mpld3.github.io/js/mpld3.v0.3.js\", function(){\n",
       "         \n",
       "         mpld3.draw_figure(\"fig_el9316045711719203528617015\", {\"plugins\": [{\"type\": \"reset\"}, {\"enabled\": false, \"type\": \"zoom\", \"button\": true}, {\"enabled\": false, \"type\": \"boxzoom\", \"button\": true}], \"axes\": [{\"paths\": [], \"axesbgalpha\": null, \"bbox\": [0.125, 0.125, 0.775, 0.775], \"xlim\": [2000.0, 20000.0], \"ylim\": [0.0, 1.2000000000000002], \"collections\": [], \"lines\": [{\"color\": \"#0000FF\", \"dasharray\": \"none\", \"drawstyle\": \"default\", \"id\": \"el931604575718928\", \"xindex\": 0, \"coordinates\": \"data\", \"alpha\": 1, \"linewidth\": 1.0, \"zorder\": 2, \"yindex\": 1, \"data\": \"data01\"}, {\"color\": \"#FF0000\", \"dasharray\": \"none\", \"drawstyle\": \"default\", \"id\": \"el931604571171696\", \"xindex\": 0, \"coordinates\": \"display\", \"alpha\": 1, \"linewidth\": 4.0, \"zorder\": 2, \"yindex\": 1, \"data\": \"data02\"}], \"ydomain\": [0.0, 1.2000000000000002], \"xdomain\": [2000.0, 20000.0], \"axes\": [{\"tickvalues\": null, \"fontsize\": 10.0, \"scale\": \"linear\", \"position\": \"bottom\", \"nticks\": 10, \"visible\": true, \"grid\": {\"gridOn\": false}, \"tickformat\": null}, {\"tickvalues\": null, \"fontsize\": 10.0, \"scale\": \"linear\", \"position\": \"left\", \"nticks\": 8, \"visible\": true, \"grid\": {\"gridOn\": false}, \"tickformat\": null}], \"zoomable\": true, \"markers\": [], \"sharey\": [], \"xscale\": \"linear\", \"axesbg\": \"#FFFFFF\", \"id\": \"el931604573977344\", \"yscale\": \"linear\", \"images\": [], \"texts\": [], \"sharex\": []}], \"data\": {\"data02\": [[54.0, 221.99999999999997], [388.8, 221.99999999999997]], \"data01\": [[2000.0, 0.0009997706770770165], [5000.0, 0.00039996332332981055], [10000.0, 0.00019999083209043533], [20000.0, 9.999770817570308e-05]]}, \"height\": 288.0, \"width\": 432.0, \"id\": \"el931604571171920\"});\n",
       "      });\n",
       "    });\n",
       "}else{\n",
       "    // require.js not available: dynamically load d3 & mpld3\n",
       "    mpld3_load_lib(\"https://mpld3.github.io/js/d3.v3.min.js\", function(){\n",
       "         mpld3_load_lib(\"https://mpld3.github.io/js/mpld3.v0.3.js\", function(){\n",
       "                 \n",
       "                 mpld3.draw_figure(\"fig_el9316045711719203528617015\", {\"plugins\": [{\"type\": \"reset\"}, {\"enabled\": false, \"type\": \"zoom\", \"button\": true}, {\"enabled\": false, \"type\": \"boxzoom\", \"button\": true}], \"axes\": [{\"paths\": [], \"axesbgalpha\": null, \"bbox\": [0.125, 0.125, 0.775, 0.775], \"xlim\": [2000.0, 20000.0], \"ylim\": [0.0, 1.2000000000000002], \"collections\": [], \"lines\": [{\"color\": \"#0000FF\", \"dasharray\": \"none\", \"drawstyle\": \"default\", \"id\": \"el931604575718928\", \"xindex\": 0, \"coordinates\": \"data\", \"alpha\": 1, \"linewidth\": 1.0, \"zorder\": 2, \"yindex\": 1, \"data\": \"data01\"}, {\"color\": \"#FF0000\", \"dasharray\": \"none\", \"drawstyle\": \"default\", \"id\": \"el931604571171696\", \"xindex\": 0, \"coordinates\": \"display\", \"alpha\": 1, \"linewidth\": 4.0, \"zorder\": 2, \"yindex\": 1, \"data\": \"data02\"}], \"ydomain\": [0.0, 1.2000000000000002], \"xdomain\": [2000.0, 20000.0], \"axes\": [{\"tickvalues\": null, \"fontsize\": 10.0, \"scale\": \"linear\", \"position\": \"bottom\", \"nticks\": 10, \"visible\": true, \"grid\": {\"gridOn\": false}, \"tickformat\": null}, {\"tickvalues\": null, \"fontsize\": 10.0, \"scale\": \"linear\", \"position\": \"left\", \"nticks\": 8, \"visible\": true, \"grid\": {\"gridOn\": false}, \"tickformat\": null}], \"zoomable\": true, \"markers\": [], \"sharey\": [], \"xscale\": \"linear\", \"axesbg\": \"#FFFFFF\", \"id\": \"el931604573977344\", \"yscale\": \"linear\", \"images\": [], \"texts\": [], \"sharex\": []}], \"data\": {\"data02\": [[54.0, 221.99999999999997], [388.8, 221.99999999999997]], \"data01\": [[2000.0, 0.0009997706770770165], [5000.0, 0.00039996332332981055], [10000.0, 0.00019999083209043533], [20000.0, 9.999770817570308e-05]]}, \"height\": 288.0, \"width\": 432.0, \"id\": \"el931604571171920\"});\n",
       "            })\n",
       "         });\n",
       "}\n",
       "</script>"
      ],
      "text/plain": [
       "<matplotlib.figure.Figure at 0x110768c50>"
      ]
     },
     "metadata": {},
     "output_type": "display_data"
    }
   ],
   "source": [
    "plt.plot(N,outputs_list)\n",
    "plt.axhline(y=1, linewidth=4, color='r')"
   ]
  },
  {
   "cell_type": "code",
   "execution_count": 57,
   "metadata": {
    "collapsed": false
   },
   "outputs": [
    {
     "data": {
      "text/plain": [
       "1e-06"
      ]
     },
     "execution_count": 57,
     "metadata": {},
     "output_type": "execute_result"
    }
   ],
   "source": [
    "0.000001"
   ]
  },
  {
   "cell_type": "markdown",
   "metadata": {},
   "source": [
    "### Exercise 2\n",
    "\n",
    "We now want to find out the minimum value of N that is required to give a value for π(N) that is accurate to some specified value. We will call this value Nmin. By computing π(N) for increasing values of N, calculate Nmin such that err(Nmin) < 10−6"
   ]
  },
  {
   "cell_type": "code",
   "execution_count": 61,
   "metadata": {
    "collapsed": false
   },
   "outputs": [],
   "source": [
    "#N = [1,2,10,50,100,500]\n",
    "#N = [2000, 5000, 10000, 20000]\n",
    "\n",
    "#outputs_list = []\n",
    "\n",
    "for input in range(500, 500, 200000):\n",
    "    #outputs = pi_approx(input)\n",
    "    \n",
    "    if pi_error(input) < 0.000001:\n",
    "        print(\"Got 'eeeem at {}\".format(input))\n",
    "        break\n",
    "    else:\n",
    "        print(\"Where they at doh?\")\n",
    "    #outputs_list.append(pi_error(input))\n",
    "    #print(\"{} inputs = PI approximation of {}.\".format(input, outputs))\n",
    "    #print(pi_error(input))\n",
    "    "
   ]
  },
  {
   "cell_type": "markdown",
   "metadata": {},
   "source": [
    "### Exercise 3\n",
    "\n",
    "This way of computing Nmin is clearly inefficient. For example, if we require err(Nmin) < 10−6. and we calculate err(2) = 0.02, it is a waste of time to calculate err(3) as it is already obvious that Nmin is very much larger than 2!  ",
    " Rewrite your program so that is uses a more efficient way to locate the minimum value of N. Your new method must produce exactly the same value for Nmin as before but should be faster. For example, you might try and reduce the number of times that you have to evaluate err(N). You should also tell us how much faster your new program is."
   ]
  }
 ],
 "metadata": {
  "kernelspec": {
   "display_name": "Python 3",
   "language": "python",
   "name": "python3"
  },
  "language_info": {
   "codemirror_mode": {
    "name": "ipython",
    "version": 3
   },
   "file_extension": ".py",
   "mimetype": "text/x-python",
   "name": "python",
   "nbconvert_exporter": "python",
   "pygments_lexer": "ipython3",
   "version": "3.5.1"
  }
 },
 "nbformat": 4,
 "nbformat_minor": 2
}
