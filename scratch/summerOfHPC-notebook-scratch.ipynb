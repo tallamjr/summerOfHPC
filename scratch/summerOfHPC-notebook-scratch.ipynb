{
 "cells": [
  {
   "cell_type": "markdown",
   "metadata": {},
   "source": [
    "## Programming Exercise Background\n",
    "\n",
    "The following expansion gives an approximation to the exact value of π:"
   ]
  },
  {
   "cell_type": "markdown",
   "metadata": {},
   "source": [
    "$$\\pi(N) = \\frac{4}{N}\\sum_{i=1}^N\\frac{1}{1 + \\left(\\frac{i - \\frac{1}{2}}{N}\\right)^2}$$"
   ]
  },
  {
   "cell_type": "markdown",
   "metadata": {},
   "source": [
    "We can check this by hand like so..."
   ]
  },
  {
   "cell_type": "markdown",
   "metadata": {},
   "source": [
    "$$\\pi(1) = 4\\frac{4}{5} = 3.2$$, $$\\pi(2) = 4\\left(\\frac{16}{17}+\\frac{16}{25}\\right) = 3.162$$"
   ]
  },
  {
   "cell_type": "markdown",
   "metadata": {},
   "source": [
    "It can be shown that the approximation continues to become more accurate as N is increased."
   ]
  },
  {
   "cell_type": "markdown",
   "metadata": {},
   "source": [
    "### Exercises\n",
    "\n",
    "Note that you must use double-precision variables for ALL floating-point numbers.\n",
    "\n",
    "### Exercise 1\n",
    "\n",
    "Write a program in C, C++, Fortran or Java that computes an approximation to π using the above formula for the following values of N: 1, 2, 10, 50, 100, 500. For each value of N, print out the approximate value π(N) and the error err(N). The error is the difference between π(N) and the true value of π, ie err(N) = π(N) − π. As N increases the value of the error should decrease."
   ]
  },
  {
   "cell_type": "code",
   "execution_count": 113,
   "metadata": {
    "collapsed": true
   },
   "outputs": [],
   "source": [
    "import numpy as np\n",
    "import matplotlib.pyplot as plt\n",
    "import pandas as pd\n",
    "\n",
    "%matplotlib inline\n",
    "import mpld3\n",
    "mpld3.enable_notebook()"
   ]
  },
  {
   "cell_type": "code",
   "execution_count": 114,
   "metadata": {
    "collapsed": false
   },
   "outputs": [
    {
     "name": "stdout",
     "output_type": "stream",
     "text": [
      "3.141592653589793\n"
     ]
    }
   ],
   "source": [
    "pi_true = np.pi\n",
    "print(pi_true)"
   ]
  },
  {
   "cell_type": "code",
   "execution_count": 115,
   "metadata": {
    "collapsed": false
   },
   "outputs": [],
   "source": [
    "def pi_approx(N):\n",
    "    summation = 0\n",
    "    for i in range(N):\n",
    "        alpha  = (i - 0.5)/N       \n",
    "        summation = summation + 1 / (1 + alpha**2)\n",
    "        #print(\"i = {} and summation = {}\".format(i, summation))\n",
    " \n",
    "    result = (4 / N)*summation\n",
    "    #print(\"pi approximation = {}\".format(result))\n",
    "        \n",
    "    return result"
   ]
  },
  {
   "cell_type": "code",
   "execution_count": 116,
   "metadata": {
    "collapsed": false
   },
   "outputs": [
    {
     "data": {
      "text/plain": [
       "3.4950161216478772"
      ]
     },
     "execution_count": 116,
     "metadata": {},
     "output_type": "execute_result"
    }
   ],
   "source": [
    "pi_approx(5)"
   ]
  },
  {
   "cell_type": "code",
   "execution_count": 117,
   "metadata": {
    "collapsed": false
   },
   "outputs": [
    {
     "data": {
      "text/plain": [
       "0.35342346805808411"
      ]
     },
     "execution_count": 117,
     "metadata": {},
     "output_type": "execute_result"
    }
   ],
   "source": [
    "def pi_error(N):\n",
    "    \n",
    "    pi_err = np.abs(pi_true - pi_approx(N))\n",
    "\n",
    "    #print(\"The true value of pi = {}, the approxiamtion = {}\".format(pi_true, pi_approx(N)))\n",
    "    #print(\"Thus, the error is = {}\".format(pi_err))\n",
    "    \n",
    "    return pi_err\n",
    "\n",
    "pi_error(5)"
   ]
  },
  {
   "cell_type": "code",
   "execution_count": 118,
   "metadata": {
    "collapsed": false
   },
   "outputs": [
    {
     "name": "stdout",
     "output_type": "stream",
     "text": [
      "2000 inputs = PI approximation of 3.14259242426687.\n",
      "0.000999770677077\n",
      "5000 inputs = PI approximation of 3.141992616913123.\n",
      "0.00039996332333\n",
      "10000 inputs = PI approximation of 3.1417926444218836.\n",
      "0.00019999083209\n",
      "20000 inputs = PI approximation of 3.141692651297969.\n",
      "9.99977081757e-05\n"
     ]
    }
   ],
   "source": [
    "N = [1,2,10,50,100,500]\n",
    "N = [2000, 5000, 10000, 20000]\n",
    "\n",
    "outputs_list = []\n",
    "for input in N:\n",
    "    outputs = pi_approx(input)\n",
    "    outputs_list.append(pi_error(input))\n",
    "    print(\"{} inputs = PI approximation of {}.\".format(input, outputs))\n",
    "    print(pi_error(input))\n",
    "    "
   ]
  },
  {
   "cell_type": "code",
   "execution_count": 119,
   "metadata": {
    "collapsed": false
   },
   "outputs": [
    {
     "data": {
      "text/plain": [
       "[0.0009997706770770165,\n",
       " 0.00039996332332981055,\n",
       " 0.00019999083209043533,\n",
       " 9.9997708175703082e-05]"
      ]
     },
     "execution_count": 119,
     "metadata": {},
     "output_type": "execute_result"
    }
   ],
   "source": [
    "N\n",
    "outputs_list"
   ]
  },
  {
   "cell_type": "code",
   "execution_count": 120,
   "metadata": {
    "collapsed": false
   },
   "outputs": [
    {
     "data": {
      "text/plain": [
       "<matplotlib.lines.Line2D at 0x10f1a0b38>"
      ]
     },
     "execution_count": 120,
     "metadata": {},
     "output_type": "execute_result"
    },
    {
     "name": "stderr",
     "output_type": "stream",
     "text": [
      "/Users/tarek_allam/anaconda/envs/py3/lib/python3.5/site-packages/mpld3/mplexporter/exporter.py:84: UserWarning: Blended transforms not yet supported. Zoom behavior may not work as expected.\n",
      "  warnings.warn(\"Blended transforms not yet supported. \"\n"
     ]
    },
    {
     "data": {
      "image/png": "[encoded data removed]",
      "text/html": [
       "\n",
       "\n",
       "<style>\n",
       "\n",
       "</style>\n",
       "\n",
       "<div id=\"fig_el33845483329047413433417\"></div>\n",
       "<script>\n",
       "function mpld3_load_lib(url, callback){\n",
       "  var s = document.createElement('script');\n",
       "  s.src = url;\n",
       "  s.async = true;\n",
       "  s.onreadystatechange = s.onload = callback;\n",
       "  s.onerror = function(){console.warn(\"failed to load library \" + url);};\n",
       "  document.getElementsByTagName(\"head\")[0].appendChild(s);\n",
       "}\n",
       "\n",
       "if(typeof(mpld3) !== \"undefined\" && mpld3._mpld3IsLoaded){\n",
       "   // already loaded: just create the figure\n",
       "   !function(mpld3){\n",
       "       \n",
       "       mpld3.draw_figure(\"fig_el33845483329047413433417\", {\"plugins\": [{\"type\": \"reset\"}, {\"type\": \"zoom\", \"enabled\": false, \"button\": true}, {\"type\": \"boxzoom\", \"enabled\": false, \"button\": true}], \"height\": 288.0, \"width\": 432.0, \"id\": \"el3384548332904\", \"axes\": [{\"xlim\": [2000.0, 20000.0], \"xscale\": \"linear\", \"axesbgalpha\": null, \"texts\": [], \"yscale\": \"linear\", \"collections\": [], \"markers\": [], \"ydomain\": [0.0, 1.2000000000000002], \"sharey\": [], \"axes\": [{\"grid\": {\"gridOn\": false}, \"nticks\": 10, \"fontsize\": 10.0, \"position\": \"bottom\", \"tickformat\": null, \"visible\": true, \"tickvalues\": null, \"scale\": \"linear\"}, {\"grid\": {\"gridOn\": false}, \"nticks\": 8, \"fontsize\": 10.0, \"position\": \"left\", \"tickformat\": null, \"visible\": true, \"tickvalues\": null, \"scale\": \"linear\"}], \"xdomain\": [2000.0, 20000.0], \"images\": [], \"sharex\": [], \"axesbg\": \"#FFFFFF\", \"lines\": [{\"xindex\": 0, \"coordinates\": \"data\", \"drawstyle\": \"default\", \"alpha\": 1, \"id\": \"el3384546902840\", \"yindex\": 1, \"linewidth\": 1.0, \"data\": \"data01\", \"color\": \"#0000FF\", \"zorder\": 2, \"dasharray\": \"none\"}, {\"xindex\": 0, \"coordinates\": \"display\", \"drawstyle\": \"default\", \"alpha\": 1, \"id\": \"el3384548332344\", \"yindex\": 1, \"linewidth\": 4.0, \"data\": \"data02\", \"color\": \"#FF0000\", \"zorder\": 2, \"dasharray\": \"none\"}], \"ylim\": [0.0, 1.2000000000000002], \"id\": \"el3384548427728\", \"bbox\": [0.125, 0.125, 0.775, 0.775], \"paths\": [], \"zoomable\": true}], \"data\": {\"data02\": [[54.0, 221.99999999999997], [388.8, 221.99999999999997]], \"data01\": [[2000.0, 0.0009997706770770165], [5000.0, 0.00039996332332981055], [10000.0, 0.00019999083209043533], [20000.0, 9.999770817570308e-05]]}});\n",
       "   }(mpld3);\n",
       "}else if(typeof define === \"function\" && define.amd){\n",
       "   // require.js is available: use it to load d3/mpld3\n",
       "   require.config({paths: {d3: \"https://mpld3.github.io/js/d3.v3.min\"}});\n",
       "   require([\"d3\"], function(d3){\n",
       "      window.d3 = d3;\n",
       "      mpld3_load_lib(\"https://mpld3.github.io/js/mpld3.v0.3.js\", function(){\n",
       "         \n",
       "         mpld3.draw_figure(\"fig_el33845483329047413433417\", {\"plugins\": [{\"type\": \"reset\"}, {\"type\": \"zoom\", \"enabled\": false, \"button\": true}, {\"type\": \"boxzoom\", \"enabled\": false, \"button\": true}], \"height\": 288.0, \"width\": 432.0, \"id\": \"el3384548332904\", \"axes\": [{\"xlim\": [2000.0, 20000.0], \"xscale\": \"linear\", \"axesbgalpha\": null, \"texts\": [], \"yscale\": \"linear\", \"collections\": [], \"markers\": [], \"ydomain\": [0.0, 1.2000000000000002], \"sharey\": [], \"axes\": [{\"grid\": {\"gridOn\": false}, \"nticks\": 10, \"fontsize\": 10.0, \"position\": \"bottom\", \"tickformat\": null, \"visible\": true, \"tickvalues\": null, \"scale\": \"linear\"}, {\"grid\": {\"gridOn\": false}, \"nticks\": 8, \"fontsize\": 10.0, \"position\": \"left\", \"tickformat\": null, \"visible\": true, \"tickvalues\": null, \"scale\": \"linear\"}], \"xdomain\": [2000.0, 20000.0], \"images\": [], \"sharex\": [], \"axesbg\": \"#FFFFFF\", \"lines\": [{\"xindex\": 0, \"coordinates\": \"data\", \"drawstyle\": \"default\", \"alpha\": 1, \"id\": \"el3384546902840\", \"yindex\": 1, \"linewidth\": 1.0, \"data\": \"data01\", \"color\": \"#0000FF\", \"zorder\": 2, \"dasharray\": \"none\"}, {\"xindex\": 0, \"coordinates\": \"display\", \"drawstyle\": \"default\", \"alpha\": 1, \"id\": \"el3384548332344\", \"yindex\": 1, \"linewidth\": 4.0, \"data\": \"data02\", \"color\": \"#FF0000\", \"zorder\": 2, \"dasharray\": \"none\"}], \"ylim\": [0.0, 1.2000000000000002], \"id\": \"el3384548427728\", \"bbox\": [0.125, 0.125, 0.775, 0.775], \"paths\": [], \"zoomable\": true}], \"data\": {\"data02\": [[54.0, 221.99999999999997], [388.8, 221.99999999999997]], \"data01\": [[2000.0, 0.0009997706770770165], [5000.0, 0.00039996332332981055], [10000.0, 0.00019999083209043533], [20000.0, 9.999770817570308e-05]]}});\n",
       "      });\n",
       "    });\n",
       "}else{\n",
       "    // require.js not available: dynamically load d3 & mpld3\n",
       "    mpld3_load_lib(\"https://mpld3.github.io/js/d3.v3.min.js\", function(){\n",
       "         mpld3_load_lib(\"https://mpld3.github.io/js/mpld3.v0.3.js\", function(){\n",
       "                 \n",
       "                 mpld3.draw_figure(\"fig_el33845483329047413433417\", {\"plugins\": [{\"type\": \"reset\"}, {\"type\": \"zoom\", \"enabled\": false, \"button\": true}, {\"type\": \"boxzoom\", \"enabled\": false, \"button\": true}], \"height\": 288.0, \"width\": 432.0, \"id\": \"el3384548332904\", \"axes\": [{\"xlim\": [2000.0, 20000.0], \"xscale\": \"linear\", \"axesbgalpha\": null, \"texts\": [], \"yscale\": \"linear\", \"collections\": [], \"markers\": [], \"ydomain\": [0.0, 1.2000000000000002], \"sharey\": [], \"axes\": [{\"grid\": {\"gridOn\": false}, \"nticks\": 10, \"fontsize\": 10.0, \"position\": \"bottom\", \"tickformat\": null, \"visible\": true, \"tickvalues\": null, \"scale\": \"linear\"}, {\"grid\": {\"gridOn\": false}, \"nticks\": 8, \"fontsize\": 10.0, \"position\": \"left\", \"tickformat\": null, \"visible\": true, \"tickvalues\": null, \"scale\": \"linear\"}], \"xdomain\": [2000.0, 20000.0], \"images\": [], \"sharex\": [], \"axesbg\": \"#FFFFFF\", \"lines\": [{\"xindex\": 0, \"coordinates\": \"data\", \"drawstyle\": \"default\", \"alpha\": 1, \"id\": \"el3384546902840\", \"yindex\": 1, \"linewidth\": 1.0, \"data\": \"data01\", \"color\": \"#0000FF\", \"zorder\": 2, \"dasharray\": \"none\"}, {\"xindex\": 0, \"coordinates\": \"display\", \"drawstyle\": \"default\", \"alpha\": 1, \"id\": \"el3384548332344\", \"yindex\": 1, \"linewidth\": 4.0, \"data\": \"data02\", \"color\": \"#FF0000\", \"zorder\": 2, \"dasharray\": \"none\"}], \"ylim\": [0.0, 1.2000000000000002], \"id\": \"el3384548427728\", \"bbox\": [0.125, 0.125, 0.775, 0.775], \"paths\": [], \"zoomable\": true}], \"data\": {\"data02\": [[54.0, 221.99999999999997], [388.8, 221.99999999999997]], \"data01\": [[2000.0, 0.0009997706770770165], [5000.0, 0.00039996332332981055], [10000.0, 0.00019999083209043533], [20000.0, 9.999770817570308e-05]]}});\n",
       "            })\n",
       "         });\n",
       "}\n",
       "</script>"
      ],
      "text/plain": [
       "<matplotlib.figure.Figure at 0x10f1a0d68>"
      ]
     },
     "metadata": {},
     "output_type": "display_data"
    }
   ],
   "source": [
    "plt.plot(N,outputs_list)\n",
    "plt.axhline(y=1, linewidth=4, color='r')"
   ]
  },
  {
   "cell_type": "code",
   "execution_count": 121,
   "metadata": {
    "collapsed": false
   },
   "outputs": [
    {
     "data": {
      "text/plain": [
       "1e-06"
      ]
     },
     "execution_count": 121,
     "metadata": {},
     "output_type": "execute_result"
    }
   ],
   "source": [
    "0.000001"
   ]
  },
  {
   "cell_type": "markdown",
   "metadata": {},
   "source": [
    "### Exercise 2\n",
    "\n",
    "We now want to find out the minimum value of N that is required to give a value for π(N) that is accurate to some specified value. We will call this value Nmin. By computing π(N) for increasing values of N, calculate Nmin such that err(Nmin) < 10−6"
   ]
  },
  {
   "cell_type": "code",
   "execution_count": 122,
   "metadata": {
    "collapsed": false
   },
   "outputs": [
    {
     "name": "stdout",
     "output_type": "stream",
     "text": [
      "Got 'eeeem at 2000000\n"
     ]
    }
   ],
   "source": [
    "#N = [1,2,10,50,100,500]\n",
    "#N = [2000, 5000, 10000, 20000]\n",
    "\n",
    "# put in timing metrics\n",
    "\n",
    "#outputs_list = []\n",
    "\n",
    "for input in range(1999900, 2001000):\n",
    "                   #1747627\n",
    "    #outputs = pi_approx(input)\n",
    "    \n",
    "    if pi_error(input) < 0.000001:\n",
    "        print(\"Got 'eeeem at {}\".format(input))\n",
    "        break\n",
    "    #else:\n",
    "        #print(\"Where they at doh?\")\n",
    "    #outputs_list.append(pi_error(input))\n",
    "    #print(\"{} inputs = PI approximation of {}.\".format(input, outputs))\n",
    "    #print(pi_error(input))\n",
    "    "
   ]
  },
  {
   "cell_type": "code",
   "execution_count": 123,
   "metadata": {
    "collapsed": false
   },
   "outputs": [
    {
     "name": "stdout",
     "output_type": "stream",
     "text": [
      "3.1415936535897444\n"
     ]
    }
   ],
   "source": [
    "print(pi_approx(2000000))"
   ]
  },
  {
   "cell_type": "code",
   "execution_count": 124,
   "metadata": {
    "collapsed": false
   },
   "outputs": [
    {
     "name": "stdout",
     "output_type": "stream",
     "text": [
      "9.9999995129e-07\n"
     ]
    }
   ],
   "source": [
    "print(pi_error(2000000))"
   ]
  },
  {
   "cell_type": "markdown",
   "metadata": {},
   "source": [
    "### Exercise 3\n",
    "\n",
    "This way of computing Nmin is clearly inefficient. For example, if we require err(Nmin) < 10−6. and we calculate err(2) = 0.02, it is a waste of time to calculate err(3) as it is already obvious that Nmin is very much larger than 2!  ",
    " Rewrite your program so that is uses a more efficient way to locate the minimum value of N. Your new method must produce exactly the same value for Nmin as before but should be faster. For example, you might try and reduce the number of times that you have to evaluate err(N). You should also tell us how much faster your new program is."
   ]
  },
  {
   "cell_type": "markdown",
   "metadata": {},
   "source": [
    "\n",
    "* scipy.optimize\n",
    "* Newtons method\n",
    "\n",
    "Look up other methods\n",
    "\n",
    "Use recusion"
   ]
  },
  {
   "cell_type": "code",
   "execution_count": 150,
   "metadata": {
    "collapsed": false
   },
   "outputs": [
    {
     "name": "stdout",
     "output_type": "stream",
     "text": [
      "20\n",
      "40\n",
      "80\n",
      "160\n",
      "320\n",
      "640\n",
      "1280\n",
      "2560\n",
      "5120\n",
      "10240\n",
      "20480\n",
      "40960\n",
      "81920\n",
      "163840\n",
      "327680\n",
      "655360\n",
      "1310720\n",
      "2621440\n",
      "2621440\n"
     ]
    }
   ],
   "source": [
    "guesses = []\n",
    "\n",
    "guess = 10\n",
    "\n",
    "while pi_error(guess) > 0.000001:\n",
    "    guesses = [guess]\n",
    "    guess = guess * 2\n",
    "    guesses.append(guess)\n",
    "    print(guess)\n",
    "\n",
    "print(guesses.pop())\n",
    "\n",
    "#guess = guesses.pop()"
   ]
  },
  {
   "cell_type": "code",
   "execution_count": 167,
   "metadata": {
    "collapsed": false
   },
   "outputs": [],
   "source": [
    "upper_lim = guess"
   ]
  },
  {
   "cell_type": "code",
   "execution_count": 165,
   "metadata": {
    "collapsed": true
   },
   "outputs": [],
   "source": [
    "lower_lim = guesses.pop()"
   ]
  },
  {
   "cell_type": "code",
   "execution_count": 166,
   "metadata": {
    "collapsed": false
   },
   "outputs": [
    {
     "data": {
      "text/plain": [
       "1310720"
      ]
     },
     "execution_count": 166,
     "metadata": {},
     "output_type": "execute_result"
    }
   ],
   "source": [
    "lower_lim"
   ]
  },
  {
   "cell_type": "code",
   "execution_count": 169,
   "metadata": {
    "collapsed": false
   },
   "outputs": [
    {
     "name": "stdout",
     "output_type": "stream",
     "text": [
      "1966080\n"
     ]
    }
   ],
   "source": [
    "import math\n",
    "middle = math.floor(upper_lim - lower_lim / 2)\n",
    "print(middle)"
   ]
  },
  {
   "cell_type": "code",
   "execution_count": 181,
   "metadata": {
    "collapsed": false
   },
   "outputs": [
    {
     "name": "stdout",
     "output_type": "stream",
     "text": [
      "1529600\n"
     ]
    }
   ],
   "source": [
    "print(middle)"
   ]
  },
  {
   "cell_type": "code",
   "execution_count": 200,
   "metadata": {
    "collapsed": false
   },
   "outputs": [
    {
     "name": "stdout",
     "output_type": "stream",
     "text": [
      "20\n",
      "40\n",
      "80\n",
      "160\n",
      "320\n",
      "640\n",
      "1280\n",
      "2560\n",
      "5120\n",
      "10240\n",
      "20480\n",
      "40960\n",
      "81920\n",
      "163840\n",
      "327680\n",
      "655360\n",
      "1310720\n",
      "2621440\n",
      "2621440\n",
      "Upper - 2621440,\n",
      "Lower - 1310720,\n",
      "Middle - 1966080\n"
     ]
    }
   ],
   "source": [
    "import math\n",
    "# first search\n",
    "guesses = []\n",
    "guess = 10\n",
    "\n",
    "while pi_error(guess) > 0.000001:\n",
    "    guesses = [guess]\n",
    "    guess = guess * 2\n",
    "    guesses.append(guess)\n",
    "    print(guess)\n",
    "\n",
    "print(guesses.pop())\n",
    "\n",
    "upper_lim = guess\n",
    "lower_lim = guesses.pop()\n",
    "middle = math.floor(upper_lim - lower_lim / 2)\n",
    "\n",
    "print(\"Upper - {},\\nLower - {},\\nMiddle - {}\".format(upper_lim, lower_lim, middle))"
   ]
  },
  {
   "cell_type": "code",
   "execution_count": 223,
   "metadata": {
    "collapsed": false
   },
   "outputs": [
    {
     "name": "stdout",
     "output_type": "stream",
     "text": [
      "Below\n",
      "Upper - 2000000,\n",
      "Lower - 1999999,\n",
      "Middle - 1999999\n"
     ]
    }
   ],
   "source": [
    "#Is middle point above or below desired answer?\n",
    "if pi_error(middle) < 0.000001:\n",
    "    print(\"Above\")\n",
    "    upper_lim = middle\n",
    "    # lower, no change\n",
    "    diff = math.floor((upper_lim - lower_lim) / 2)\n",
    "    middle = lower_lim + diff\n",
    "else:\n",
    "    print(\"Below\")\n",
    "    #upper_lim stays the same\n",
    "    lower_lim = middle\n",
    "    diff = math.floor((upper_lim - lower_lim) / 2)\n",
    "    middle = lower_lim + diff\n",
    "print(\"Upper - {},\\nLower - {},\\nMiddle - {}\".format(upper_lim, lower_lim, middle))"
   ]
  },
  {
   "cell_type": "code",
   "execution_count": 162,
   "metadata": {
    "collapsed": false
   },
   "outputs": [
    {
     "name": "stdout",
     "output_type": "stream",
     "text": [
      "DIFF = 1310720\n",
      "I'm here fam 1\n",
      "Guessing 1966080\n",
      "I'm here fam 2\n",
      "DIFF = 1474560\n",
      "Guessing 2949120\n",
      "Got 'eeeem at 2949120\n",
      "Now looking for true min in closet interval range...\n",
      "DIFF = 1474560\n",
      "I'm here fam 1\n",
      "Guessing 2211840\n",
      "Got 'eeeem at 2211840\n",
      "Now looking for true min in closet interval range...\n",
      "DIFF = 1105920\n",
      "I'm here fam 1\n",
      "Guessing 1658880\n",
      "I'm here fam 2\n",
      "DIFF = 1244160\n",
      "Guessing 2488320\n",
      "Got 'eeeem at 2488320\n",
      "Now looking for true min in closet interval range...\n",
      "DIFF = 1244160\n",
      "I'm here fam 1\n",
      "Guessing 1866240\n",
      "I'm here fam 2\n",
      "DIFF = 1399680\n",
      "Guessing 2799360\n",
      "Got 'eeeem at 2799360\n",
      "Now looking for true min in closet interval range...\n",
      "DIFF = 1399680\n",
      "I'm here fam 1\n",
      "Guessing 2099520\n",
      "Got 'eeeem at 2099520\n",
      "Now looking for true min in closet interval range...\n",
      "DIFF = 1049760\n",
      "I'm here fam 1\n",
      "Guessing 1574640\n",
      "I'm here fam 2\n",
      "DIFF = 1180980\n",
      "Guessing 2361960\n",
      "Got 'eeeem at 2361960\n",
      "Now looking for true min in closet interval range...\n",
      "DIFF = 1180980\n",
      "I'm here fam 1\n",
      "Guessing 1771470\n",
      "I'm here fam 2\n",
      "DIFF = 1328603\n",
      "Guessing 2657205\n",
      "Got 'eeeem at 2657205\n",
      "Now looking for true min in closet interval range...\n",
      "DIFF = 1328603\n",
      "I'm here fam 1\n",
      "Guessing 1992904\n",
      "I'm here fam 2\n",
      "DIFF = 1494678\n",
      "Guessing 2989356\n",
      "Got 'eeeem at 2989356\n",
      "Now looking for true min in closet interval range...\n",
      "DIFF = 1494678\n",
      "I'm here fam 1\n",
      "Guessing 2242017\n",
      "Got 'eeeem at 2242017\n",
      "Now looking for true min in closet interval range...\n",
      "DIFF = 1121009\n",
      "I'm here fam 1\n",
      "Guessing 1681513\n",
      "I'm here fam 2\n",
      "DIFF = 1261135\n",
      "Guessing 2522269\n",
      "Got 'eeeem at 2522269\n",
      "Now looking for true min in closet interval range...\n",
      "DIFF = 1261135\n",
      "I'm here fam 1\n",
      "Guessing 1891702\n",
      "I'm here fam 2\n",
      "DIFF = 1418777\n",
      "Guessing 2837553\n",
      "Got 'eeeem at 2837553\n",
      "Now looking for true min in closet interval range...\n",
      "DIFF = 1418777\n",
      "I'm here fam 1\n",
      "Guessing 2128165\n",
      "Got 'eeeem at 2128165\n",
      "Now looking for true min in closet interval range...\n",
      "DIFF = 1064083\n",
      "I'm here fam 1\n",
      "Guessing 1596124\n",
      "I'm here fam 2\n",
      "DIFF = 1197093\n",
      "Guessing 2394186\n",
      "Got 'eeeem at 2394186\n",
      "Now looking for true min in closet interval range...\n",
      "DIFF = 1197094\n",
      "I'm here fam 1\n",
      "Guessing 1795640\n",
      "I'm here fam 2\n",
      "DIFF = 1346730\n",
      "Guessing 2693460\n",
      "Got 'eeeem at 2693460\n",
      "Now looking for true min in closet interval range...\n",
      "DIFF = 1346730\n",
      "I'm here fam 1\n",
      "Guessing 2020095\n",
      "Got 'eeeem at 2020095\n",
      "Now looking for true min in closet interval range...\n",
      "DIFF = 1010049\n",
      "I'm here fam 1\n",
      "Guessing 1515072\n",
      "I'm here fam 2\n",
      "DIFF = 1136304\n",
      "Guessing 2272608\n",
      "Got 'eeeem at 2272608\n",
      "Now looking for true min in closet interval range...\n",
      "DIFF = 1136304\n",
      "I'm here fam 1\n",
      "Guessing 1704456\n",
      "I'm here fam 2\n",
      "DIFF = 1278342\n",
      "Guessing 2556684\n",
      "Got 'eeeem at 2556684\n",
      "Now looking for true min in closet interval range...\n",
      "DIFF = 1278342\n",
      "I'm here fam 1\n",
      "Guessing 1917513\n",
      "I'm here fam 2\n",
      "DIFF = 1438135\n",
      "Guessing 2876269\n",
      "Got 'eeeem at 2876269\n",
      "Now looking for true min in closet interval range...\n",
      "DIFF = 1438135\n",
      "I'm here fam 1\n",
      "Guessing 2157202\n",
      "Got 'eeeem at 2157202\n",
      "Now looking for true min in closet interval range...\n",
      "DIFF = 1078602\n",
      "I'm here fam 1\n",
      "Guessing 1617902\n",
      "I'm here fam 2\n",
      "DIFF = 1213427\n",
      "Guessing 2426853\n",
      "Got 'eeeem at 2426853\n",
      "Now looking for true min in closet interval range...\n",
      "DIFF = 1213427\n",
      "I'm here fam 1\n",
      "Guessing 1820140\n",
      "I'm here fam 2\n",
      "DIFF = 1365105\n",
      "Guessing 2730210\n"
     ]
    },
    {
     "ename": "KeyboardInterrupt",
     "evalue": "",
     "output_type": "error",
     "traceback": [
      "\u001b[0;31m---------------------------------------------------------------------------\u001b[0m",
      "\u001b[0;31mKeyboardInterrupt\u001b[0m                         Traceback (most recent call last)",
      "\u001b[0;32m<ipython-input-162-ed8731024d48>\u001b[0m in \u001b[0;36m<module>\u001b[0;34m()\u001b[0m\n\u001b[1;32m     45\u001b[0m \u001b[0;34m\u001b[0m\u001b[0m\n\u001b[1;32m     46\u001b[0m \u001b[0;31m#find_min(guess)\u001b[0m\u001b[0;34m\u001b[0m\u001b[0;34m\u001b[0m\u001b[0m\n\u001b[0;32m---> 47\u001b[0;31m \u001b[0msearch_interval\u001b[0m\u001b[0;34m(\u001b[0m\u001b[0mguess\u001b[0m\u001b[0;34m)\u001b[0m\u001b[0;34m\u001b[0m\u001b[0m\n\u001b[0m",
      "\u001b[0;32m<ipython-input-162-ed8731024d48>\u001b[0m in \u001b[0;36msearch_interval\u001b[0;34m(guess)\u001b[0m\n\u001b[1;32m      9\u001b[0m         \u001b[0;31m#    return\u001b[0m\u001b[0;34m\u001b[0m\u001b[0;34m\u001b[0m\u001b[0m\n\u001b[1;32m     10\u001b[0m         \u001b[0mprint\u001b[0m\u001b[0;34m(\u001b[0m\u001b[0;34m\"I'm here fam 1\"\u001b[0m\u001b[0;34m)\u001b[0m\u001b[0;34m\u001b[0m\u001b[0m\n\u001b[0;32m---> 11\u001b[0;31m         \u001b[0mfind_min\u001b[0m\u001b[0;34m(\u001b[0m\u001b[0mguess\u001b[0m\u001b[0;34m)\u001b[0m\u001b[0;34m\u001b[0m\u001b[0m\n\u001b[0m\u001b[1;32m     12\u001b[0m     \u001b[0;32melif\u001b[0m \u001b[0mpi_error\u001b[0m\u001b[0;34m(\u001b[0m\u001b[0mguess\u001b[0m\u001b[0;34m)\u001b[0m \u001b[0;34m>\u001b[0m \u001b[0;36m0.000001\u001b[0m\u001b[0;34m:\u001b[0m\u001b[0;34m\u001b[0m\u001b[0m\n\u001b[1;32m     13\u001b[0m         \u001b[0mmid\u001b[0m \u001b[0;34m=\u001b[0m \u001b[0mmath\u001b[0m\u001b[0;34m.\u001b[0m\u001b[0mfloor\u001b[0m\u001b[0;34m(\u001b[0m\u001b[0;34m(\u001b[0m\u001b[0mguess\u001b[0m \u001b[0;34m+\u001b[0m \u001b[0;34m(\u001b[0m\u001b[0mguess\u001b[0m\u001b[0;34m/\u001b[0m\u001b[0;36m2\u001b[0m\u001b[0;34m)\u001b[0m\u001b[0;34m)\u001b[0m\u001b[0;34m/\u001b[0m\u001b[0;36m2\u001b[0m\u001b[0;34m)\u001b[0m\u001b[0;34m\u001b[0m\u001b[0m\n",
      "\u001b[0;32m<ipython-input-162-ed8731024d48>\u001b[0m in \u001b[0;36mfind_min\u001b[0;34m(guess, upper_lim)\u001b[0m\n\u001b[1;32m     38\u001b[0m     \u001b[0;31m#    if guess * 2 > upper_lim:\u001b[0m\u001b[0;34m\u001b[0m\u001b[0;34m\u001b[0m\u001b[0m\n\u001b[1;32m     39\u001b[0m     \u001b[0;31m#        print(\"I'm here fam 3\")\u001b[0m\u001b[0;34m\u001b[0m\u001b[0;34m\u001b[0m\u001b[0m\n\u001b[0;32m---> 40\u001b[0;31m             \u001b[0msearch_interval\u001b[0m\u001b[0;34m(\u001b[0m\u001b[0mguess\u001b[0m\u001b[0;34m)\u001b[0m\u001b[0;34m\u001b[0m\u001b[0m\n\u001b[0m\u001b[1;32m     41\u001b[0m     \u001b[0;31m#    else:\u001b[0m\u001b[0;34m\u001b[0m\u001b[0;34m\u001b[0m\u001b[0m\n\u001b[1;32m     42\u001b[0m     \u001b[0;31m#        guess = guess * 2\u001b[0m\u001b[0;34m\u001b[0m\u001b[0;34m\u001b[0m\u001b[0m\n",
      "\u001b[0;32m<ipython-input-162-ed8731024d48>\u001b[0m in \u001b[0;36msearch_interval\u001b[0;34m(guess)\u001b[0m\n\u001b[1;32m     17\u001b[0m         \u001b[0mprint\u001b[0m\u001b[0;34m(\u001b[0m\u001b[0;34m\"DIFF = {}\"\u001b[0m\u001b[0;34m.\u001b[0m\u001b[0mformat\u001b[0m\u001b[0;34m(\u001b[0m\u001b[0mguess\u001b[0m \u001b[0;34m-\u001b[0m \u001b[0mmid\u001b[0m\u001b[0;34m)\u001b[0m\u001b[0;34m)\u001b[0m\u001b[0;34m\u001b[0m\u001b[0m\n\u001b[1;32m     18\u001b[0m         \u001b[0;31m#guess = guess + mid\u001b[0m\u001b[0;34m\u001b[0m\u001b[0;34m\u001b[0m\u001b[0m\n\u001b[0;32m---> 19\u001b[0;31m         \u001b[0mfind_min\u001b[0m\u001b[0;34m(\u001b[0m\u001b[0mguess\u001b[0m\u001b[0;34m)\u001b[0m\u001b[0;34m\u001b[0m\u001b[0m\n\u001b[0m\u001b[1;32m     20\u001b[0m     \u001b[0;32melse\u001b[0m\u001b[0;34m:\u001b[0m\u001b[0;34m\u001b[0m\u001b[0m\n\u001b[1;32m     21\u001b[0m         \u001b[0mprint\u001b[0m\u001b[0;34m(\u001b[0m\u001b[0;34m\"Finally it's happened to me, right in front of my face and I just can not hide it. FIIINALLY YHH\"\u001b[0m\u001b[0;34m)\u001b[0m\u001b[0;34m\u001b[0m\u001b[0m\n",
      "\u001b[0;32m<ipython-input-162-ed8731024d48>\u001b[0m in \u001b[0;36mfind_min\u001b[0;34m(guess, upper_lim)\u001b[0m\n\u001b[1;32m     34\u001b[0m             \u001b[0;31m# maybe better to search backward\u001b[0m\u001b[0;34m\u001b[0m\u001b[0;34m\u001b[0m\u001b[0m\n\u001b[1;32m     35\u001b[0m             \u001b[0;31m#upper_lim = guess\u001b[0m\u001b[0;34m\u001b[0m\u001b[0;34m\u001b[0m\u001b[0m\n\u001b[0;32m---> 36\u001b[0;31m             \u001b[0msearch_interval\u001b[0m\u001b[0;34m(\u001b[0m\u001b[0mguess\u001b[0m\u001b[0;34m)\u001b[0m\u001b[0;34m\u001b[0m\u001b[0m\n\u001b[0m\u001b[1;32m     37\u001b[0m     \u001b[0;32melse\u001b[0m\u001b[0;34m:\u001b[0m\u001b[0;34m\u001b[0m\u001b[0m\n\u001b[1;32m     38\u001b[0m     \u001b[0;31m#    if guess * 2 > upper_lim:\u001b[0m\u001b[0;34m\u001b[0m\u001b[0;34m\u001b[0m\u001b[0m\n",
      "\u001b[0;32m<ipython-input-162-ed8731024d48>\u001b[0m in \u001b[0;36msearch_interval\u001b[0;34m(guess)\u001b[0m\n\u001b[1;32m      9\u001b[0m         \u001b[0;31m#    return\u001b[0m\u001b[0;34m\u001b[0m\u001b[0;34m\u001b[0m\u001b[0m\n\u001b[1;32m     10\u001b[0m         \u001b[0mprint\u001b[0m\u001b[0;34m(\u001b[0m\u001b[0;34m\"I'm here fam 1\"\u001b[0m\u001b[0;34m)\u001b[0m\u001b[0;34m\u001b[0m\u001b[0m\n\u001b[0;32m---> 11\u001b[0;31m         \u001b[0mfind_min\u001b[0m\u001b[0;34m(\u001b[0m\u001b[0mguess\u001b[0m\u001b[0;34m)\u001b[0m\u001b[0;34m\u001b[0m\u001b[0m\n\u001b[0m\u001b[1;32m     12\u001b[0m     \u001b[0;32melif\u001b[0m \u001b[0mpi_error\u001b[0m\u001b[0;34m(\u001b[0m\u001b[0mguess\u001b[0m\u001b[0;34m)\u001b[0m \u001b[0;34m>\u001b[0m \u001b[0;36m0.000001\u001b[0m\u001b[0;34m:\u001b[0m\u001b[0;34m\u001b[0m\u001b[0m\n\u001b[1;32m     13\u001b[0m         \u001b[0mmid\u001b[0m \u001b[0;34m=\u001b[0m \u001b[0mmath\u001b[0m\u001b[0;34m.\u001b[0m\u001b[0mfloor\u001b[0m\u001b[0;34m(\u001b[0m\u001b[0;34m(\u001b[0m\u001b[0mguess\u001b[0m \u001b[0;34m+\u001b[0m \u001b[0;34m(\u001b[0m\u001b[0mguess\u001b[0m\u001b[0;34m/\u001b[0m\u001b[0;36m2\u001b[0m\u001b[0;34m)\u001b[0m\u001b[0;34m)\u001b[0m\u001b[0;34m/\u001b[0m\u001b[0;36m2\u001b[0m\u001b[0;34m)\u001b[0m\u001b[0;34m\u001b[0m\u001b[0m\n",
      "\u001b[0;32m<ipython-input-162-ed8731024d48>\u001b[0m in \u001b[0;36mfind_min\u001b[0;34m(guess, upper_lim)\u001b[0m\n\u001b[1;32m     34\u001b[0m             \u001b[0;31m# maybe better to search backward\u001b[0m\u001b[0;34m\u001b[0m\u001b[0;34m\u001b[0m\u001b[0m\n\u001b[1;32m     35\u001b[0m             \u001b[0;31m#upper_lim = guess\u001b[0m\u001b[0;34m\u001b[0m\u001b[0;34m\u001b[0m\u001b[0m\n\u001b[0;32m---> 36\u001b[0;31m             \u001b[0msearch_interval\u001b[0m\u001b[0;34m(\u001b[0m\u001b[0mguess\u001b[0m\u001b[0;34m)\u001b[0m\u001b[0;34m\u001b[0m\u001b[0m\n\u001b[0m\u001b[1;32m     37\u001b[0m     \u001b[0;32melse\u001b[0m\u001b[0;34m:\u001b[0m\u001b[0;34m\u001b[0m\u001b[0m\n\u001b[1;32m     38\u001b[0m     \u001b[0;31m#    if guess * 2 > upper_lim:\u001b[0m\u001b[0;34m\u001b[0m\u001b[0;34m\u001b[0m\u001b[0m\n",
      "\u001b[0;32m<ipython-input-162-ed8731024d48>\u001b[0m in \u001b[0;36msearch_interval\u001b[0;34m(guess)\u001b[0m\n\u001b[1;32m      9\u001b[0m         \u001b[0;31m#    return\u001b[0m\u001b[0;34m\u001b[0m\u001b[0;34m\u001b[0m\u001b[0m\n\u001b[1;32m     10\u001b[0m         \u001b[0mprint\u001b[0m\u001b[0;34m(\u001b[0m\u001b[0;34m\"I'm here fam 1\"\u001b[0m\u001b[0;34m)\u001b[0m\u001b[0;34m\u001b[0m\u001b[0m\n\u001b[0;32m---> 11\u001b[0;31m         \u001b[0mfind_min\u001b[0m\u001b[0;34m(\u001b[0m\u001b[0mguess\u001b[0m\u001b[0;34m)\u001b[0m\u001b[0;34m\u001b[0m\u001b[0m\n\u001b[0m\u001b[1;32m     12\u001b[0m     \u001b[0;32melif\u001b[0m \u001b[0mpi_error\u001b[0m\u001b[0;34m(\u001b[0m\u001b[0mguess\u001b[0m\u001b[0;34m)\u001b[0m \u001b[0;34m>\u001b[0m \u001b[0;36m0.000001\u001b[0m\u001b[0;34m:\u001b[0m\u001b[0;34m\u001b[0m\u001b[0m\n\u001b[1;32m     13\u001b[0m         \u001b[0mmid\u001b[0m \u001b[0;34m=\u001b[0m \u001b[0mmath\u001b[0m\u001b[0;34m.\u001b[0m\u001b[0mfloor\u001b[0m\u001b[0;34m(\u001b[0m\u001b[0;34m(\u001b[0m\u001b[0mguess\u001b[0m \u001b[0;34m+\u001b[0m \u001b[0;34m(\u001b[0m\u001b[0mguess\u001b[0m\u001b[0;34m/\u001b[0m\u001b[0;36m2\u001b[0m\u001b[0;34m)\u001b[0m\u001b[0;34m)\u001b[0m\u001b[0;34m/\u001b[0m\u001b[0;36m2\u001b[0m\u001b[0;34m)\u001b[0m\u001b[0;34m\u001b[0m\u001b[0m\n",
      "\u001b[0;32m<ipython-input-162-ed8731024d48>\u001b[0m in \u001b[0;36mfind_min\u001b[0;34m(guess, upper_lim)\u001b[0m\n\u001b[1;32m     38\u001b[0m     \u001b[0;31m#    if guess * 2 > upper_lim:\u001b[0m\u001b[0;34m\u001b[0m\u001b[0;34m\u001b[0m\u001b[0m\n\u001b[1;32m     39\u001b[0m     \u001b[0;31m#        print(\"I'm here fam 3\")\u001b[0m\u001b[0;34m\u001b[0m\u001b[0;34m\u001b[0m\u001b[0m\n\u001b[0;32m---> 40\u001b[0;31m             \u001b[0msearch_interval\u001b[0m\u001b[0;34m(\u001b[0m\u001b[0mguess\u001b[0m\u001b[0;34m)\u001b[0m\u001b[0;34m\u001b[0m\u001b[0m\n\u001b[0m\u001b[1;32m     41\u001b[0m     \u001b[0;31m#    else:\u001b[0m\u001b[0;34m\u001b[0m\u001b[0;34m\u001b[0m\u001b[0m\n\u001b[1;32m     42\u001b[0m     \u001b[0;31m#        guess = guess * 2\u001b[0m\u001b[0;34m\u001b[0m\u001b[0;34m\u001b[0m\u001b[0m\n",
      "\u001b[0;32m<ipython-input-162-ed8731024d48>\u001b[0m in \u001b[0;36msearch_interval\u001b[0;34m(guess)\u001b[0m\n\u001b[1;32m     17\u001b[0m         \u001b[0mprint\u001b[0m\u001b[0;34m(\u001b[0m\u001b[0;34m\"DIFF = {}\"\u001b[0m\u001b[0;34m.\u001b[0m\u001b[0mformat\u001b[0m\u001b[0;34m(\u001b[0m\u001b[0mguess\u001b[0m \u001b[0;34m-\u001b[0m \u001b[0mmid\u001b[0m\u001b[0;34m)\u001b[0m\u001b[0;34m)\u001b[0m\u001b[0;34m\u001b[0m\u001b[0m\n\u001b[1;32m     18\u001b[0m         \u001b[0;31m#guess = guess + mid\u001b[0m\u001b[0;34m\u001b[0m\u001b[0;34m\u001b[0m\u001b[0m\n\u001b[0;32m---> 19\u001b[0;31m         \u001b[0mfind_min\u001b[0m\u001b[0;34m(\u001b[0m\u001b[0mguess\u001b[0m\u001b[0;34m)\u001b[0m\u001b[0;34m\u001b[0m\u001b[0m\n\u001b[0m\u001b[1;32m     20\u001b[0m     \u001b[0;32melse\u001b[0m\u001b[0;34m:\u001b[0m\u001b[0;34m\u001b[0m\u001b[0m\n\u001b[1;32m     21\u001b[0m         \u001b[0mprint\u001b[0m\u001b[0;34m(\u001b[0m\u001b[0;34m\"Finally it's happened to me, right in front of my face and I just can not hide it. FIIINALLY YHH\"\u001b[0m\u001b[0;34m)\u001b[0m\u001b[0;34m\u001b[0m\u001b[0m\n",
      "\u001b[0;32m<ipython-input-162-ed8731024d48>\u001b[0m in \u001b[0;36mfind_min\u001b[0;34m(guess, upper_lim)\u001b[0m\n\u001b[1;32m     34\u001b[0m             \u001b[0;31m# maybe better to search backward\u001b[0m\u001b[0;34m\u001b[0m\u001b[0;34m\u001b[0m\u001b[0m\n\u001b[1;32m     35\u001b[0m             \u001b[0;31m#upper_lim = guess\u001b[0m\u001b[0;34m\u001b[0m\u001b[0;34m\u001b[0m\u001b[0m\n\u001b[0;32m---> 36\u001b[0;31m             \u001b[0msearch_interval\u001b[0m\u001b[0;34m(\u001b[0m\u001b[0mguess\u001b[0m\u001b[0;34m)\u001b[0m\u001b[0;34m\u001b[0m\u001b[0m\n\u001b[0m\u001b[1;32m     37\u001b[0m     \u001b[0;32melse\u001b[0m\u001b[0;34m:\u001b[0m\u001b[0;34m\u001b[0m\u001b[0m\n\u001b[1;32m     38\u001b[0m     \u001b[0;31m#    if guess * 2 > upper_lim:\u001b[0m\u001b[0;34m\u001b[0m\u001b[0;34m\u001b[0m\u001b[0m\n",
      "\u001b[0;32m<ipython-input-162-ed8731024d48>\u001b[0m in \u001b[0;36msearch_interval\u001b[0;34m(guess)\u001b[0m\n\u001b[1;32m      9\u001b[0m         \u001b[0;31m#    return\u001b[0m\u001b[0;34m\u001b[0m\u001b[0;34m\u001b[0m\u001b[0m\n\u001b[1;32m     10\u001b[0m         \u001b[0mprint\u001b[0m\u001b[0;34m(\u001b[0m\u001b[0;34m\"I'm here fam 1\"\u001b[0m\u001b[0;34m)\u001b[0m\u001b[0;34m\u001b[0m\u001b[0m\n\u001b[0;32m---> 11\u001b[0;31m         \u001b[0mfind_min\u001b[0m\u001b[0;34m(\u001b[0m\u001b[0mguess\u001b[0m\u001b[0;34m)\u001b[0m\u001b[0;34m\u001b[0m\u001b[0m\n\u001b[0m\u001b[1;32m     12\u001b[0m     \u001b[0;32melif\u001b[0m \u001b[0mpi_error\u001b[0m\u001b[0;34m(\u001b[0m\u001b[0mguess\u001b[0m\u001b[0;34m)\u001b[0m \u001b[0;34m>\u001b[0m \u001b[0;36m0.000001\u001b[0m\u001b[0;34m:\u001b[0m\u001b[0;34m\u001b[0m\u001b[0m\n\u001b[1;32m     13\u001b[0m         \u001b[0mmid\u001b[0m \u001b[0;34m=\u001b[0m \u001b[0mmath\u001b[0m\u001b[0;34m.\u001b[0m\u001b[0mfloor\u001b[0m\u001b[0;34m(\u001b[0m\u001b[0;34m(\u001b[0m\u001b[0mguess\u001b[0m \u001b[0;34m+\u001b[0m \u001b[0;34m(\u001b[0m\u001b[0mguess\u001b[0m\u001b[0;34m/\u001b[0m\u001b[0;36m2\u001b[0m\u001b[0;34m)\u001b[0m\u001b[0;34m)\u001b[0m\u001b[0;34m/\u001b[0m\u001b[0;36m2\u001b[0m\u001b[0;34m)\u001b[0m\u001b[0;34m\u001b[0m\u001b[0m\n",
      "\u001b[0;32m<ipython-input-162-ed8731024d48>\u001b[0m in \u001b[0;36mfind_min\u001b[0;34m(guess, upper_lim)\u001b[0m\n\u001b[1;32m     38\u001b[0m     \u001b[0;31m#    if guess * 2 > upper_lim:\u001b[0m\u001b[0;34m\u001b[0m\u001b[0;34m\u001b[0m\u001b[0m\n\u001b[1;32m     39\u001b[0m     \u001b[0;31m#        print(\"I'm here fam 3\")\u001b[0m\u001b[0;34m\u001b[0m\u001b[0;34m\u001b[0m\u001b[0m\n\u001b[0;32m---> 40\u001b[0;31m             \u001b[0msearch_interval\u001b[0m\u001b[0;34m(\u001b[0m\u001b[0mguess\u001b[0m\u001b[0;34m)\u001b[0m\u001b[0;34m\u001b[0m\u001b[0m\n\u001b[0m\u001b[1;32m     41\u001b[0m     \u001b[0;31m#    else:\u001b[0m\u001b[0;34m\u001b[0m\u001b[0;34m\u001b[0m\u001b[0m\n\u001b[1;32m     42\u001b[0m     \u001b[0;31m#        guess = guess * 2\u001b[0m\u001b[0;34m\u001b[0m\u001b[0;34m\u001b[0m\u001b[0m\n",
      "\u001b[0;32m<ipython-input-162-ed8731024d48>\u001b[0m in \u001b[0;36msearch_interval\u001b[0;34m(guess)\u001b[0m\n\u001b[1;32m     17\u001b[0m         \u001b[0mprint\u001b[0m\u001b[0;34m(\u001b[0m\u001b[0;34m\"DIFF = {}\"\u001b[0m\u001b[0;34m.\u001b[0m\u001b[0mformat\u001b[0m\u001b[0;34m(\u001b[0m\u001b[0mguess\u001b[0m \u001b[0;34m-\u001b[0m \u001b[0mmid\u001b[0m\u001b[0;34m)\u001b[0m\u001b[0;34m)\u001b[0m\u001b[0;34m\u001b[0m\u001b[0m\n\u001b[1;32m     18\u001b[0m         \u001b[0;31m#guess = guess + mid\u001b[0m\u001b[0;34m\u001b[0m\u001b[0;34m\u001b[0m\u001b[0m\n\u001b[0;32m---> 19\u001b[0;31m         \u001b[0mfind_min\u001b[0m\u001b[0;34m(\u001b[0m\u001b[0mguess\u001b[0m\u001b[0;34m)\u001b[0m\u001b[0;34m\u001b[0m\u001b[0m\n\u001b[0m\u001b[1;32m     20\u001b[0m     \u001b[0;32melse\u001b[0m\u001b[0;34m:\u001b[0m\u001b[0;34m\u001b[0m\u001b[0m\n\u001b[1;32m     21\u001b[0m         \u001b[0mprint\u001b[0m\u001b[0;34m(\u001b[0m\u001b[0;34m\"Finally it's happened to me, right in front of my face and I just can not hide it. FIIINALLY YHH\"\u001b[0m\u001b[0;34m)\u001b[0m\u001b[0;34m\u001b[0m\u001b[0m\n",
      "\u001b[0;32m<ipython-input-162-ed8731024d48>\u001b[0m in \u001b[0;36mfind_min\u001b[0;34m(guess, upper_lim)\u001b[0m\n\u001b[1;32m     34\u001b[0m             \u001b[0;31m# maybe better to search backward\u001b[0m\u001b[0;34m\u001b[0m\u001b[0;34m\u001b[0m\u001b[0m\n\u001b[1;32m     35\u001b[0m             \u001b[0;31m#upper_lim = guess\u001b[0m\u001b[0;34m\u001b[0m\u001b[0;34m\u001b[0m\u001b[0m\n\u001b[0;32m---> 36\u001b[0;31m             \u001b[0msearch_interval\u001b[0m\u001b[0;34m(\u001b[0m\u001b[0mguess\u001b[0m\u001b[0;34m)\u001b[0m\u001b[0;34m\u001b[0m\u001b[0m\n\u001b[0m\u001b[1;32m     37\u001b[0m     \u001b[0;32melse\u001b[0m\u001b[0;34m:\u001b[0m\u001b[0;34m\u001b[0m\u001b[0m\n\u001b[1;32m     38\u001b[0m     \u001b[0;31m#    if guess * 2 > upper_lim:\u001b[0m\u001b[0;34m\u001b[0m\u001b[0;34m\u001b[0m\u001b[0m\n",
      "\u001b[0;32m<ipython-input-162-ed8731024d48>\u001b[0m in \u001b[0;36msearch_interval\u001b[0;34m(guess)\u001b[0m\n\u001b[1;32m      9\u001b[0m         \u001b[0;31m#    return\u001b[0m\u001b[0;34m\u001b[0m\u001b[0;34m\u001b[0m\u001b[0m\n\u001b[1;32m     10\u001b[0m         \u001b[0mprint\u001b[0m\u001b[0;34m(\u001b[0m\u001b[0;34m\"I'm here fam 1\"\u001b[0m\u001b[0;34m)\u001b[0m\u001b[0;34m\u001b[0m\u001b[0m\n\u001b[0;32m---> 11\u001b[0;31m         \u001b[0mfind_min\u001b[0m\u001b[0;34m(\u001b[0m\u001b[0mguess\u001b[0m\u001b[0;34m)\u001b[0m\u001b[0;34m\u001b[0m\u001b[0m\n\u001b[0m\u001b[1;32m     12\u001b[0m     \u001b[0;32melif\u001b[0m \u001b[0mpi_error\u001b[0m\u001b[0;34m(\u001b[0m\u001b[0mguess\u001b[0m\u001b[0;34m)\u001b[0m \u001b[0;34m>\u001b[0m \u001b[0;36m0.000001\u001b[0m\u001b[0;34m:\u001b[0m\u001b[0;34m\u001b[0m\u001b[0m\n\u001b[1;32m     13\u001b[0m         \u001b[0mmid\u001b[0m \u001b[0;34m=\u001b[0m \u001b[0mmath\u001b[0m\u001b[0;34m.\u001b[0m\u001b[0mfloor\u001b[0m\u001b[0;34m(\u001b[0m\u001b[0;34m(\u001b[0m\u001b[0mguess\u001b[0m \u001b[0;34m+\u001b[0m \u001b[0;34m(\u001b[0m\u001b[0mguess\u001b[0m\u001b[0;34m/\u001b[0m\u001b[0;36m2\u001b[0m\u001b[0;34m)\u001b[0m\u001b[0;34m)\u001b[0m\u001b[0;34m/\u001b[0m\u001b[0;36m2\u001b[0m\u001b[0;34m)\u001b[0m\u001b[0;34m\u001b[0m\u001b[0m\n",
      "\u001b[0;32m<ipython-input-162-ed8731024d48>\u001b[0m in \u001b[0;36mfind_min\u001b[0;34m(guess, upper_lim)\u001b[0m\n\u001b[1;32m     34\u001b[0m             \u001b[0;31m# maybe better to search backward\u001b[0m\u001b[0;34m\u001b[0m\u001b[0;34m\u001b[0m\u001b[0m\n\u001b[1;32m     35\u001b[0m             \u001b[0;31m#upper_lim = guess\u001b[0m\u001b[0;34m\u001b[0m\u001b[0;34m\u001b[0m\u001b[0m\n\u001b[0;32m---> 36\u001b[0;31m             \u001b[0msearch_interval\u001b[0m\u001b[0;34m(\u001b[0m\u001b[0mguess\u001b[0m\u001b[0;34m)\u001b[0m\u001b[0;34m\u001b[0m\u001b[0m\n\u001b[0m\u001b[1;32m     37\u001b[0m     \u001b[0;32melse\u001b[0m\u001b[0;34m:\u001b[0m\u001b[0;34m\u001b[0m\u001b[0m\n\u001b[1;32m     38\u001b[0m     \u001b[0;31m#    if guess * 2 > upper_lim:\u001b[0m\u001b[0;34m\u001b[0m\u001b[0;34m\u001b[0m\u001b[0m\n",
      "\u001b[0;32m<ipython-input-162-ed8731024d48>\u001b[0m in \u001b[0;36msearch_interval\u001b[0;34m(guess)\u001b[0m\n\u001b[1;32m      9\u001b[0m         \u001b[0;31m#    return\u001b[0m\u001b[0;34m\u001b[0m\u001b[0;34m\u001b[0m\u001b[0m\n\u001b[1;32m     10\u001b[0m         \u001b[0mprint\u001b[0m\u001b[0;34m(\u001b[0m\u001b[0;34m\"I'm here fam 1\"\u001b[0m\u001b[0;34m)\u001b[0m\u001b[0;34m\u001b[0m\u001b[0m\n\u001b[0;32m---> 11\u001b[0;31m         \u001b[0mfind_min\u001b[0m\u001b[0;34m(\u001b[0m\u001b[0mguess\u001b[0m\u001b[0;34m)\u001b[0m\u001b[0;34m\u001b[0m\u001b[0m\n\u001b[0m\u001b[1;32m     12\u001b[0m     \u001b[0;32melif\u001b[0m \u001b[0mpi_error\u001b[0m\u001b[0;34m(\u001b[0m\u001b[0mguess\u001b[0m\u001b[0;34m)\u001b[0m \u001b[0;34m>\u001b[0m \u001b[0;36m0.000001\u001b[0m\u001b[0;34m:\u001b[0m\u001b[0;34m\u001b[0m\u001b[0m\n\u001b[1;32m     13\u001b[0m         \u001b[0mmid\u001b[0m \u001b[0;34m=\u001b[0m \u001b[0mmath\u001b[0m\u001b[0;34m.\u001b[0m\u001b[0mfloor\u001b[0m\u001b[0;34m(\u001b[0m\u001b[0;34m(\u001b[0m\u001b[0mguess\u001b[0m \u001b[0;34m+\u001b[0m \u001b[0;34m(\u001b[0m\u001b[0mguess\u001b[0m\u001b[0;34m/\u001b[0m\u001b[0;36m2\u001b[0m\u001b[0;34m)\u001b[0m\u001b[0;34m)\u001b[0m\u001b[0;34m/\u001b[0m\u001b[0;36m2\u001b[0m\u001b[0;34m)\u001b[0m\u001b[0;34m\u001b[0m\u001b[0m\n",
      "\u001b[0;32m<ipython-input-162-ed8731024d48>\u001b[0m in \u001b[0;36mfind_min\u001b[0;34m(guess, upper_lim)\u001b[0m\n\u001b[1;32m     38\u001b[0m     \u001b[0;31m#    if guess * 2 > upper_lim:\u001b[0m\u001b[0;34m\u001b[0m\u001b[0;34m\u001b[0m\u001b[0m\n\u001b[1;32m     39\u001b[0m     \u001b[0;31m#        print(\"I'm here fam 3\")\u001b[0m\u001b[0;34m\u001b[0m\u001b[0;34m\u001b[0m\u001b[0m\n\u001b[0;32m---> 40\u001b[0;31m             \u001b[0msearch_interval\u001b[0m\u001b[0;34m(\u001b[0m\u001b[0mguess\u001b[0m\u001b[0;34m)\u001b[0m\u001b[0;34m\u001b[0m\u001b[0m\n\u001b[0m\u001b[1;32m     41\u001b[0m     \u001b[0;31m#    else:\u001b[0m\u001b[0;34m\u001b[0m\u001b[0;34m\u001b[0m\u001b[0m\n\u001b[1;32m     42\u001b[0m     \u001b[0;31m#        guess = guess * 2\u001b[0m\u001b[0;34m\u001b[0m\u001b[0;34m\u001b[0m\u001b[0m\n",
      "\u001b[0;32m<ipython-input-162-ed8731024d48>\u001b[0m in \u001b[0;36msearch_interval\u001b[0;34m(guess)\u001b[0m\n\u001b[1;32m     17\u001b[0m         \u001b[0mprint\u001b[0m\u001b[0;34m(\u001b[0m\u001b[0;34m\"DIFF = {}\"\u001b[0m\u001b[0;34m.\u001b[0m\u001b[0mformat\u001b[0m\u001b[0;34m(\u001b[0m\u001b[0mguess\u001b[0m \u001b[0;34m-\u001b[0m \u001b[0mmid\u001b[0m\u001b[0;34m)\u001b[0m\u001b[0;34m)\u001b[0m\u001b[0;34m\u001b[0m\u001b[0m\n\u001b[1;32m     18\u001b[0m         \u001b[0;31m#guess = guess + mid\u001b[0m\u001b[0;34m\u001b[0m\u001b[0;34m\u001b[0m\u001b[0m\n\u001b[0;32m---> 19\u001b[0;31m         \u001b[0mfind_min\u001b[0m\u001b[0;34m(\u001b[0m\u001b[0mguess\u001b[0m\u001b[0;34m)\u001b[0m\u001b[0;34m\u001b[0m\u001b[0m\n\u001b[0m\u001b[1;32m     20\u001b[0m     \u001b[0;32melse\u001b[0m\u001b[0;34m:\u001b[0m\u001b[0;34m\u001b[0m\u001b[0m\n\u001b[1;32m     21\u001b[0m         \u001b[0mprint\u001b[0m\u001b[0;34m(\u001b[0m\u001b[0;34m\"Finally it's happened to me, right in front of my face and I just can not hide it. FIIINALLY YHH\"\u001b[0m\u001b[0;34m)\u001b[0m\u001b[0;34m\u001b[0m\u001b[0m\n",
      "\u001b[0;32m<ipython-input-162-ed8731024d48>\u001b[0m in \u001b[0;36mfind_min\u001b[0;34m(guess, upper_lim)\u001b[0m\n\u001b[1;32m     34\u001b[0m             \u001b[0;31m# maybe better to search backward\u001b[0m\u001b[0;34m\u001b[0m\u001b[0;34m\u001b[0m\u001b[0m\n\u001b[1;32m     35\u001b[0m             \u001b[0;31m#upper_lim = guess\u001b[0m\u001b[0;34m\u001b[0m\u001b[0;34m\u001b[0m\u001b[0m\n\u001b[0;32m---> 36\u001b[0;31m             \u001b[0msearch_interval\u001b[0m\u001b[0;34m(\u001b[0m\u001b[0mguess\u001b[0m\u001b[0;34m)\u001b[0m\u001b[0;34m\u001b[0m\u001b[0m\n\u001b[0m\u001b[1;32m     37\u001b[0m     \u001b[0;32melse\u001b[0m\u001b[0;34m:\u001b[0m\u001b[0;34m\u001b[0m\u001b[0m\n\u001b[1;32m     38\u001b[0m     \u001b[0;31m#    if guess * 2 > upper_lim:\u001b[0m\u001b[0;34m\u001b[0m\u001b[0;34m\u001b[0m\u001b[0m\n",
      "\u001b[0;32m<ipython-input-162-ed8731024d48>\u001b[0m in \u001b[0;36msearch_interval\u001b[0;34m(guess)\u001b[0m\n\u001b[1;32m      9\u001b[0m         \u001b[0;31m#    return\u001b[0m\u001b[0;34m\u001b[0m\u001b[0;34m\u001b[0m\u001b[0m\n\u001b[1;32m     10\u001b[0m         \u001b[0mprint\u001b[0m\u001b[0;34m(\u001b[0m\u001b[0;34m\"I'm here fam 1\"\u001b[0m\u001b[0;34m)\u001b[0m\u001b[0;34m\u001b[0m\u001b[0m\n\u001b[0;32m---> 11\u001b[0;31m         \u001b[0mfind_min\u001b[0m\u001b[0;34m(\u001b[0m\u001b[0mguess\u001b[0m\u001b[0;34m)\u001b[0m\u001b[0;34m\u001b[0m\u001b[0m\n\u001b[0m\u001b[1;32m     12\u001b[0m     \u001b[0;32melif\u001b[0m \u001b[0mpi_error\u001b[0m\u001b[0;34m(\u001b[0m\u001b[0mguess\u001b[0m\u001b[0;34m)\u001b[0m \u001b[0;34m>\u001b[0m \u001b[0;36m0.000001\u001b[0m\u001b[0;34m:\u001b[0m\u001b[0;34m\u001b[0m\u001b[0m\n\u001b[1;32m     13\u001b[0m         \u001b[0mmid\u001b[0m \u001b[0;34m=\u001b[0m \u001b[0mmath\u001b[0m\u001b[0;34m.\u001b[0m\u001b[0mfloor\u001b[0m\u001b[0;34m(\u001b[0m\u001b[0;34m(\u001b[0m\u001b[0mguess\u001b[0m \u001b[0;34m+\u001b[0m \u001b[0;34m(\u001b[0m\u001b[0mguess\u001b[0m\u001b[0;34m/\u001b[0m\u001b[0;36m2\u001b[0m\u001b[0;34m)\u001b[0m\u001b[0;34m)\u001b[0m\u001b[0;34m/\u001b[0m\u001b[0;36m2\u001b[0m\u001b[0;34m)\u001b[0m\u001b[0;34m\u001b[0m\u001b[0m\n",
      "\u001b[0;32m<ipython-input-162-ed8731024d48>\u001b[0m in \u001b[0;36mfind_min\u001b[0;34m(guess, upper_lim)\u001b[0m\n\u001b[1;32m     38\u001b[0m     \u001b[0;31m#    if guess * 2 > upper_lim:\u001b[0m\u001b[0;34m\u001b[0m\u001b[0;34m\u001b[0m\u001b[0m\n\u001b[1;32m     39\u001b[0m     \u001b[0;31m#        print(\"I'm here fam 3\")\u001b[0m\u001b[0;34m\u001b[0m\u001b[0;34m\u001b[0m\u001b[0m\n\u001b[0;32m---> 40\u001b[0;31m             \u001b[0msearch_interval\u001b[0m\u001b[0;34m(\u001b[0m\u001b[0mguess\u001b[0m\u001b[0;34m)\u001b[0m\u001b[0;34m\u001b[0m\u001b[0m\n\u001b[0m\u001b[1;32m     41\u001b[0m     \u001b[0;31m#    else:\u001b[0m\u001b[0;34m\u001b[0m\u001b[0;34m\u001b[0m\u001b[0m\n\u001b[1;32m     42\u001b[0m     \u001b[0;31m#        guess = guess * 2\u001b[0m\u001b[0;34m\u001b[0m\u001b[0;34m\u001b[0m\u001b[0m\n",
      "\u001b[0;32m<ipython-input-162-ed8731024d48>\u001b[0m in \u001b[0;36msearch_interval\u001b[0;34m(guess)\u001b[0m\n\u001b[1;32m     17\u001b[0m         \u001b[0mprint\u001b[0m\u001b[0;34m(\u001b[0m\u001b[0;34m\"DIFF = {}\"\u001b[0m\u001b[0;34m.\u001b[0m\u001b[0mformat\u001b[0m\u001b[0;34m(\u001b[0m\u001b[0mguess\u001b[0m \u001b[0;34m-\u001b[0m \u001b[0mmid\u001b[0m\u001b[0;34m)\u001b[0m\u001b[0;34m)\u001b[0m\u001b[0;34m\u001b[0m\u001b[0m\n\u001b[1;32m     18\u001b[0m         \u001b[0;31m#guess = guess + mid\u001b[0m\u001b[0;34m\u001b[0m\u001b[0;34m\u001b[0m\u001b[0m\n\u001b[0;32m---> 19\u001b[0;31m         \u001b[0mfind_min\u001b[0m\u001b[0;34m(\u001b[0m\u001b[0mguess\u001b[0m\u001b[0;34m)\u001b[0m\u001b[0;34m\u001b[0m\u001b[0m\n\u001b[0m\u001b[1;32m     20\u001b[0m     \u001b[0;32melse\u001b[0m\u001b[0;34m:\u001b[0m\u001b[0;34m\u001b[0m\u001b[0m\n\u001b[1;32m     21\u001b[0m         \u001b[0mprint\u001b[0m\u001b[0;34m(\u001b[0m\u001b[0;34m\"Finally it's happened to me, right in front of my face and I just can not hide it. FIIINALLY YHH\"\u001b[0m\u001b[0;34m)\u001b[0m\u001b[0;34m\u001b[0m\u001b[0m\n",
      "\u001b[0;32m<ipython-input-162-ed8731024d48>\u001b[0m in \u001b[0;36mfind_min\u001b[0;34m(guess, upper_lim)\u001b[0m\n\u001b[1;32m     34\u001b[0m             \u001b[0;31m# maybe better to search backward\u001b[0m\u001b[0;34m\u001b[0m\u001b[0;34m\u001b[0m\u001b[0m\n\u001b[1;32m     35\u001b[0m             \u001b[0;31m#upper_lim = guess\u001b[0m\u001b[0;34m\u001b[0m\u001b[0;34m\u001b[0m\u001b[0m\n\u001b[0;32m---> 36\u001b[0;31m             \u001b[0msearch_interval\u001b[0m\u001b[0;34m(\u001b[0m\u001b[0mguess\u001b[0m\u001b[0;34m)\u001b[0m\u001b[0;34m\u001b[0m\u001b[0m\n\u001b[0m\u001b[1;32m     37\u001b[0m     \u001b[0;32melse\u001b[0m\u001b[0;34m:\u001b[0m\u001b[0;34m\u001b[0m\u001b[0m\n\u001b[1;32m     38\u001b[0m     \u001b[0;31m#    if guess * 2 > upper_lim:\u001b[0m\u001b[0;34m\u001b[0m\u001b[0;34m\u001b[0m\u001b[0m\n",
      "\u001b[0;32m<ipython-input-162-ed8731024d48>\u001b[0m in \u001b[0;36msearch_interval\u001b[0;34m(guess)\u001b[0m\n\u001b[1;32m      9\u001b[0m         \u001b[0;31m#    return\u001b[0m\u001b[0;34m\u001b[0m\u001b[0;34m\u001b[0m\u001b[0m\n\u001b[1;32m     10\u001b[0m         \u001b[0mprint\u001b[0m\u001b[0;34m(\u001b[0m\u001b[0;34m\"I'm here fam 1\"\u001b[0m\u001b[0;34m)\u001b[0m\u001b[0;34m\u001b[0m\u001b[0m\n\u001b[0;32m---> 11\u001b[0;31m         \u001b[0mfind_min\u001b[0m\u001b[0;34m(\u001b[0m\u001b[0mguess\u001b[0m\u001b[0;34m)\u001b[0m\u001b[0;34m\u001b[0m\u001b[0m\n\u001b[0m\u001b[1;32m     12\u001b[0m     \u001b[0;32melif\u001b[0m \u001b[0mpi_error\u001b[0m\u001b[0;34m(\u001b[0m\u001b[0mguess\u001b[0m\u001b[0;34m)\u001b[0m \u001b[0;34m>\u001b[0m \u001b[0;36m0.000001\u001b[0m\u001b[0;34m:\u001b[0m\u001b[0;34m\u001b[0m\u001b[0m\n\u001b[1;32m     13\u001b[0m         \u001b[0mmid\u001b[0m \u001b[0;34m=\u001b[0m \u001b[0mmath\u001b[0m\u001b[0;34m.\u001b[0m\u001b[0mfloor\u001b[0m\u001b[0;34m(\u001b[0m\u001b[0;34m(\u001b[0m\u001b[0mguess\u001b[0m \u001b[0;34m+\u001b[0m \u001b[0;34m(\u001b[0m\u001b[0mguess\u001b[0m\u001b[0;34m/\u001b[0m\u001b[0;36m2\u001b[0m\u001b[0;34m)\u001b[0m\u001b[0;34m)\u001b[0m\u001b[0;34m/\u001b[0m\u001b[0;36m2\u001b[0m\u001b[0;34m)\u001b[0m\u001b[0;34m\u001b[0m\u001b[0m\n",
      "\u001b[0;32m<ipython-input-162-ed8731024d48>\u001b[0m in \u001b[0;36mfind_min\u001b[0;34m(guess, upper_lim)\u001b[0m\n\u001b[1;32m     38\u001b[0m     \u001b[0;31m#    if guess * 2 > upper_lim:\u001b[0m\u001b[0;34m\u001b[0m\u001b[0;34m\u001b[0m\u001b[0m\n\u001b[1;32m     39\u001b[0m     \u001b[0;31m#        print(\"I'm here fam 3\")\u001b[0m\u001b[0;34m\u001b[0m\u001b[0;34m\u001b[0m\u001b[0m\n\u001b[0;32m---> 40\u001b[0;31m             \u001b[0msearch_interval\u001b[0m\u001b[0;34m(\u001b[0m\u001b[0mguess\u001b[0m\u001b[0;34m)\u001b[0m\u001b[0;34m\u001b[0m\u001b[0m\n\u001b[0m\u001b[1;32m     41\u001b[0m     \u001b[0;31m#    else:\u001b[0m\u001b[0;34m\u001b[0m\u001b[0;34m\u001b[0m\u001b[0m\n\u001b[1;32m     42\u001b[0m     \u001b[0;31m#        guess = guess * 2\u001b[0m\u001b[0;34m\u001b[0m\u001b[0;34m\u001b[0m\u001b[0m\n",
      "\u001b[0;32m<ipython-input-162-ed8731024d48>\u001b[0m in \u001b[0;36msearch_interval\u001b[0;34m(guess)\u001b[0m\n\u001b[1;32m     17\u001b[0m         \u001b[0mprint\u001b[0m\u001b[0;34m(\u001b[0m\u001b[0;34m\"DIFF = {}\"\u001b[0m\u001b[0;34m.\u001b[0m\u001b[0mformat\u001b[0m\u001b[0;34m(\u001b[0m\u001b[0mguess\u001b[0m \u001b[0;34m-\u001b[0m \u001b[0mmid\u001b[0m\u001b[0;34m)\u001b[0m\u001b[0;34m)\u001b[0m\u001b[0;34m\u001b[0m\u001b[0m\n\u001b[1;32m     18\u001b[0m         \u001b[0;31m#guess = guess + mid\u001b[0m\u001b[0;34m\u001b[0m\u001b[0;34m\u001b[0m\u001b[0m\n\u001b[0;32m---> 19\u001b[0;31m         \u001b[0mfind_min\u001b[0m\u001b[0;34m(\u001b[0m\u001b[0mguess\u001b[0m\u001b[0;34m)\u001b[0m\u001b[0;34m\u001b[0m\u001b[0m\n\u001b[0m\u001b[1;32m     20\u001b[0m     \u001b[0;32melse\u001b[0m\u001b[0;34m:\u001b[0m\u001b[0;34m\u001b[0m\u001b[0m\n\u001b[1;32m     21\u001b[0m         \u001b[0mprint\u001b[0m\u001b[0;34m(\u001b[0m\u001b[0;34m\"Finally it's happened to me, right in front of my face and I just can not hide it. FIIINALLY YHH\"\u001b[0m\u001b[0;34m)\u001b[0m\u001b[0;34m\u001b[0m\u001b[0m\n",
      "\u001b[0;32m<ipython-input-162-ed8731024d48>\u001b[0m in \u001b[0;36mfind_min\u001b[0;34m(guess, upper_lim)\u001b[0m\n\u001b[1;32m     34\u001b[0m             \u001b[0;31m# maybe better to search backward\u001b[0m\u001b[0;34m\u001b[0m\u001b[0;34m\u001b[0m\u001b[0m\n\u001b[1;32m     35\u001b[0m             \u001b[0;31m#upper_lim = guess\u001b[0m\u001b[0;34m\u001b[0m\u001b[0;34m\u001b[0m\u001b[0m\n\u001b[0;32m---> 36\u001b[0;31m             \u001b[0msearch_interval\u001b[0m\u001b[0;34m(\u001b[0m\u001b[0mguess\u001b[0m\u001b[0;34m)\u001b[0m\u001b[0;34m\u001b[0m\u001b[0m\n\u001b[0m\u001b[1;32m     37\u001b[0m     \u001b[0;32melse\u001b[0m\u001b[0;34m:\u001b[0m\u001b[0;34m\u001b[0m\u001b[0m\n\u001b[1;32m     38\u001b[0m     \u001b[0;31m#    if guess * 2 > upper_lim:\u001b[0m\u001b[0;34m\u001b[0m\u001b[0;34m\u001b[0m\u001b[0m\n",
      "\u001b[0;32m<ipython-input-162-ed8731024d48>\u001b[0m in \u001b[0;36msearch_interval\u001b[0;34m(guess)\u001b[0m\n\u001b[1;32m      9\u001b[0m         \u001b[0;31m#    return\u001b[0m\u001b[0;34m\u001b[0m\u001b[0;34m\u001b[0m\u001b[0m\n\u001b[1;32m     10\u001b[0m         \u001b[0mprint\u001b[0m\u001b[0;34m(\u001b[0m\u001b[0;34m\"I'm here fam 1\"\u001b[0m\u001b[0;34m)\u001b[0m\u001b[0;34m\u001b[0m\u001b[0m\n\u001b[0;32m---> 11\u001b[0;31m         \u001b[0mfind_min\u001b[0m\u001b[0;34m(\u001b[0m\u001b[0mguess\u001b[0m\u001b[0;34m)\u001b[0m\u001b[0;34m\u001b[0m\u001b[0m\n\u001b[0m\u001b[1;32m     12\u001b[0m     \u001b[0;32melif\u001b[0m \u001b[0mpi_error\u001b[0m\u001b[0;34m(\u001b[0m\u001b[0mguess\u001b[0m\u001b[0;34m)\u001b[0m \u001b[0;34m>\u001b[0m \u001b[0;36m0.000001\u001b[0m\u001b[0;34m:\u001b[0m\u001b[0;34m\u001b[0m\u001b[0m\n\u001b[1;32m     13\u001b[0m         \u001b[0mmid\u001b[0m \u001b[0;34m=\u001b[0m \u001b[0mmath\u001b[0m\u001b[0;34m.\u001b[0m\u001b[0mfloor\u001b[0m\u001b[0;34m(\u001b[0m\u001b[0;34m(\u001b[0m\u001b[0mguess\u001b[0m \u001b[0;34m+\u001b[0m \u001b[0;34m(\u001b[0m\u001b[0mguess\u001b[0m\u001b[0;34m/\u001b[0m\u001b[0;36m2\u001b[0m\u001b[0;34m)\u001b[0m\u001b[0;34m)\u001b[0m\u001b[0;34m/\u001b[0m\u001b[0;36m2\u001b[0m\u001b[0;34m)\u001b[0m\u001b[0;34m\u001b[0m\u001b[0m\n",
      "\u001b[0;32m<ipython-input-162-ed8731024d48>\u001b[0m in \u001b[0;36mfind_min\u001b[0;34m(guess, upper_lim)\u001b[0m\n\u001b[1;32m     34\u001b[0m             \u001b[0;31m# maybe better to search backward\u001b[0m\u001b[0;34m\u001b[0m\u001b[0;34m\u001b[0m\u001b[0m\n\u001b[1;32m     35\u001b[0m             \u001b[0;31m#upper_lim = guess\u001b[0m\u001b[0;34m\u001b[0m\u001b[0;34m\u001b[0m\u001b[0m\n\u001b[0;32m---> 36\u001b[0;31m             \u001b[0msearch_interval\u001b[0m\u001b[0;34m(\u001b[0m\u001b[0mguess\u001b[0m\u001b[0;34m)\u001b[0m\u001b[0;34m\u001b[0m\u001b[0m\n\u001b[0m\u001b[1;32m     37\u001b[0m     \u001b[0;32melse\u001b[0m\u001b[0;34m:\u001b[0m\u001b[0;34m\u001b[0m\u001b[0m\n\u001b[1;32m     38\u001b[0m     \u001b[0;31m#    if guess * 2 > upper_lim:\u001b[0m\u001b[0;34m\u001b[0m\u001b[0;34m\u001b[0m\u001b[0m\n",
      "\u001b[0;32m<ipython-input-162-ed8731024d48>\u001b[0m in \u001b[0;36msearch_interval\u001b[0;34m(guess)\u001b[0m\n\u001b[1;32m      9\u001b[0m         \u001b[0;31m#    return\u001b[0m\u001b[0;34m\u001b[0m\u001b[0;34m\u001b[0m\u001b[0m\n\u001b[1;32m     10\u001b[0m         \u001b[0mprint\u001b[0m\u001b[0;34m(\u001b[0m\u001b[0;34m\"I'm here fam 1\"\u001b[0m\u001b[0;34m)\u001b[0m\u001b[0;34m\u001b[0m\u001b[0m\n\u001b[0;32m---> 11\u001b[0;31m         \u001b[0mfind_min\u001b[0m\u001b[0;34m(\u001b[0m\u001b[0mguess\u001b[0m\u001b[0;34m)\u001b[0m\u001b[0;34m\u001b[0m\u001b[0m\n\u001b[0m\u001b[1;32m     12\u001b[0m     \u001b[0;32melif\u001b[0m \u001b[0mpi_error\u001b[0m\u001b[0;34m(\u001b[0m\u001b[0mguess\u001b[0m\u001b[0;34m)\u001b[0m \u001b[0;34m>\u001b[0m \u001b[0;36m0.000001\u001b[0m\u001b[0;34m:\u001b[0m\u001b[0;34m\u001b[0m\u001b[0m\n\u001b[1;32m     13\u001b[0m         \u001b[0mmid\u001b[0m \u001b[0;34m=\u001b[0m \u001b[0mmath\u001b[0m\u001b[0;34m.\u001b[0m\u001b[0mfloor\u001b[0m\u001b[0;34m(\u001b[0m\u001b[0;34m(\u001b[0m\u001b[0mguess\u001b[0m \u001b[0;34m+\u001b[0m \u001b[0;34m(\u001b[0m\u001b[0mguess\u001b[0m\u001b[0;34m/\u001b[0m\u001b[0;36m2\u001b[0m\u001b[0;34m)\u001b[0m\u001b[0;34m)\u001b[0m\u001b[0;34m/\u001b[0m\u001b[0;36m2\u001b[0m\u001b[0;34m)\u001b[0m\u001b[0;34m\u001b[0m\u001b[0m\n",
      "\u001b[0;32m<ipython-input-162-ed8731024d48>\u001b[0m in \u001b[0;36mfind_min\u001b[0;34m(guess, upper_lim)\u001b[0m\n\u001b[1;32m     38\u001b[0m     \u001b[0;31m#    if guess * 2 > upper_lim:\u001b[0m\u001b[0;34m\u001b[0m\u001b[0;34m\u001b[0m\u001b[0m\n\u001b[1;32m     39\u001b[0m     \u001b[0;31m#        print(\"I'm here fam 3\")\u001b[0m\u001b[0;34m\u001b[0m\u001b[0;34m\u001b[0m\u001b[0m\n\u001b[0;32m---> 40\u001b[0;31m             \u001b[0msearch_interval\u001b[0m\u001b[0;34m(\u001b[0m\u001b[0mguess\u001b[0m\u001b[0;34m)\u001b[0m\u001b[0;34m\u001b[0m\u001b[0m\n\u001b[0m\u001b[1;32m     41\u001b[0m     \u001b[0;31m#    else:\u001b[0m\u001b[0;34m\u001b[0m\u001b[0;34m\u001b[0m\u001b[0m\n\u001b[1;32m     42\u001b[0m     \u001b[0;31m#        guess = guess * 2\u001b[0m\u001b[0;34m\u001b[0m\u001b[0;34m\u001b[0m\u001b[0m\n",
      "\u001b[0;32m<ipython-input-162-ed8731024d48>\u001b[0m in \u001b[0;36msearch_interval\u001b[0;34m(guess)\u001b[0m\n\u001b[1;32m     17\u001b[0m         \u001b[0mprint\u001b[0m\u001b[0;34m(\u001b[0m\u001b[0;34m\"DIFF = {}\"\u001b[0m\u001b[0;34m.\u001b[0m\u001b[0mformat\u001b[0m\u001b[0;34m(\u001b[0m\u001b[0mguess\u001b[0m \u001b[0;34m-\u001b[0m \u001b[0mmid\u001b[0m\u001b[0;34m)\u001b[0m\u001b[0;34m)\u001b[0m\u001b[0;34m\u001b[0m\u001b[0m\n\u001b[1;32m     18\u001b[0m         \u001b[0;31m#guess = guess + mid\u001b[0m\u001b[0;34m\u001b[0m\u001b[0;34m\u001b[0m\u001b[0m\n\u001b[0;32m---> 19\u001b[0;31m         \u001b[0mfind_min\u001b[0m\u001b[0;34m(\u001b[0m\u001b[0mguess\u001b[0m\u001b[0;34m)\u001b[0m\u001b[0;34m\u001b[0m\u001b[0m\n\u001b[0m\u001b[1;32m     20\u001b[0m     \u001b[0;32melse\u001b[0m\u001b[0;34m:\u001b[0m\u001b[0;34m\u001b[0m\u001b[0m\n\u001b[1;32m     21\u001b[0m         \u001b[0mprint\u001b[0m\u001b[0;34m(\u001b[0m\u001b[0;34m\"Finally it's happened to me, right in front of my face and I just can not hide it. FIIINALLY YHH\"\u001b[0m\u001b[0;34m)\u001b[0m\u001b[0;34m\u001b[0m\u001b[0m\n",
      "\u001b[0;32m<ipython-input-162-ed8731024d48>\u001b[0m in \u001b[0;36mfind_min\u001b[0;34m(guess, upper_lim)\u001b[0m\n\u001b[1;32m     34\u001b[0m             \u001b[0;31m# maybe better to search backward\u001b[0m\u001b[0;34m\u001b[0m\u001b[0;34m\u001b[0m\u001b[0m\n\u001b[1;32m     35\u001b[0m             \u001b[0;31m#upper_lim = guess\u001b[0m\u001b[0;34m\u001b[0m\u001b[0;34m\u001b[0m\u001b[0m\n\u001b[0;32m---> 36\u001b[0;31m             \u001b[0msearch_interval\u001b[0m\u001b[0;34m(\u001b[0m\u001b[0mguess\u001b[0m\u001b[0;34m)\u001b[0m\u001b[0;34m\u001b[0m\u001b[0m\n\u001b[0m\u001b[1;32m     37\u001b[0m     \u001b[0;32melse\u001b[0m\u001b[0;34m:\u001b[0m\u001b[0;34m\u001b[0m\u001b[0m\n\u001b[1;32m     38\u001b[0m     \u001b[0;31m#    if guess * 2 > upper_lim:\u001b[0m\u001b[0;34m\u001b[0m\u001b[0;34m\u001b[0m\u001b[0m\n",
      "\u001b[0;32m<ipython-input-162-ed8731024d48>\u001b[0m in \u001b[0;36msearch_interval\u001b[0;34m(guess)\u001b[0m\n\u001b[1;32m      9\u001b[0m         \u001b[0;31m#    return\u001b[0m\u001b[0;34m\u001b[0m\u001b[0;34m\u001b[0m\u001b[0m\n\u001b[1;32m     10\u001b[0m         \u001b[0mprint\u001b[0m\u001b[0;34m(\u001b[0m\u001b[0;34m\"I'm here fam 1\"\u001b[0m\u001b[0;34m)\u001b[0m\u001b[0;34m\u001b[0m\u001b[0m\n\u001b[0;32m---> 11\u001b[0;31m         \u001b[0mfind_min\u001b[0m\u001b[0;34m(\u001b[0m\u001b[0mguess\u001b[0m\u001b[0;34m)\u001b[0m\u001b[0;34m\u001b[0m\u001b[0m\n\u001b[0m\u001b[1;32m     12\u001b[0m     \u001b[0;32melif\u001b[0m \u001b[0mpi_error\u001b[0m\u001b[0;34m(\u001b[0m\u001b[0mguess\u001b[0m\u001b[0;34m)\u001b[0m \u001b[0;34m>\u001b[0m \u001b[0;36m0.000001\u001b[0m\u001b[0;34m:\u001b[0m\u001b[0;34m\u001b[0m\u001b[0m\n\u001b[1;32m     13\u001b[0m         \u001b[0mmid\u001b[0m \u001b[0;34m=\u001b[0m \u001b[0mmath\u001b[0m\u001b[0;34m.\u001b[0m\u001b[0mfloor\u001b[0m\u001b[0;34m(\u001b[0m\u001b[0;34m(\u001b[0m\u001b[0mguess\u001b[0m \u001b[0;34m+\u001b[0m \u001b[0;34m(\u001b[0m\u001b[0mguess\u001b[0m\u001b[0;34m/\u001b[0m\u001b[0;36m2\u001b[0m\u001b[0;34m)\u001b[0m\u001b[0;34m)\u001b[0m\u001b[0;34m/\u001b[0m\u001b[0;36m2\u001b[0m\u001b[0;34m)\u001b[0m\u001b[0;34m\u001b[0m\u001b[0m\n",
      "\u001b[0;32m<ipython-input-162-ed8731024d48>\u001b[0m in \u001b[0;36mfind_min\u001b[0;34m(guess, upper_lim)\u001b[0m\n\u001b[1;32m     38\u001b[0m     \u001b[0;31m#    if guess * 2 > upper_lim:\u001b[0m\u001b[0;34m\u001b[0m\u001b[0;34m\u001b[0m\u001b[0m\n\u001b[1;32m     39\u001b[0m     \u001b[0;31m#        print(\"I'm here fam 3\")\u001b[0m\u001b[0;34m\u001b[0m\u001b[0;34m\u001b[0m\u001b[0m\n\u001b[0;32m---> 40\u001b[0;31m             \u001b[0msearch_interval\u001b[0m\u001b[0;34m(\u001b[0m\u001b[0mguess\u001b[0m\u001b[0;34m)\u001b[0m\u001b[0;34m\u001b[0m\u001b[0m\n\u001b[0m\u001b[1;32m     41\u001b[0m     \u001b[0;31m#    else:\u001b[0m\u001b[0;34m\u001b[0m\u001b[0;34m\u001b[0m\u001b[0m\n\u001b[1;32m     42\u001b[0m     \u001b[0;31m#        guess = guess * 2\u001b[0m\u001b[0;34m\u001b[0m\u001b[0;34m\u001b[0m\u001b[0m\n",
      "\u001b[0;32m<ipython-input-162-ed8731024d48>\u001b[0m in \u001b[0;36msearch_interval\u001b[0;34m(guess)\u001b[0m\n\u001b[1;32m     17\u001b[0m         \u001b[0mprint\u001b[0m\u001b[0;34m(\u001b[0m\u001b[0;34m\"DIFF = {}\"\u001b[0m\u001b[0;34m.\u001b[0m\u001b[0mformat\u001b[0m\u001b[0;34m(\u001b[0m\u001b[0mguess\u001b[0m \u001b[0;34m-\u001b[0m \u001b[0mmid\u001b[0m\u001b[0;34m)\u001b[0m\u001b[0;34m)\u001b[0m\u001b[0;34m\u001b[0m\u001b[0m\n\u001b[1;32m     18\u001b[0m         \u001b[0;31m#guess = guess + mid\u001b[0m\u001b[0;34m\u001b[0m\u001b[0;34m\u001b[0m\u001b[0m\n\u001b[0;32m---> 19\u001b[0;31m         \u001b[0mfind_min\u001b[0m\u001b[0;34m(\u001b[0m\u001b[0mguess\u001b[0m\u001b[0;34m)\u001b[0m\u001b[0;34m\u001b[0m\u001b[0m\n\u001b[0m\u001b[1;32m     20\u001b[0m     \u001b[0;32melse\u001b[0m\u001b[0;34m:\u001b[0m\u001b[0;34m\u001b[0m\u001b[0m\n\u001b[1;32m     21\u001b[0m         \u001b[0mprint\u001b[0m\u001b[0;34m(\u001b[0m\u001b[0;34m\"Finally it's happened to me, right in front of my face and I just can not hide it. FIIINALLY YHH\"\u001b[0m\u001b[0;34m)\u001b[0m\u001b[0;34m\u001b[0m\u001b[0m\n",
      "\u001b[0;32m<ipython-input-162-ed8731024d48>\u001b[0m in \u001b[0;36mfind_min\u001b[0;34m(guess, upper_lim)\u001b[0m\n\u001b[1;32m     34\u001b[0m             \u001b[0;31m# maybe better to search backward\u001b[0m\u001b[0;34m\u001b[0m\u001b[0;34m\u001b[0m\u001b[0m\n\u001b[1;32m     35\u001b[0m             \u001b[0;31m#upper_lim = guess\u001b[0m\u001b[0;34m\u001b[0m\u001b[0;34m\u001b[0m\u001b[0m\n\u001b[0;32m---> 36\u001b[0;31m             \u001b[0msearch_interval\u001b[0m\u001b[0;34m(\u001b[0m\u001b[0mguess\u001b[0m\u001b[0;34m)\u001b[0m\u001b[0;34m\u001b[0m\u001b[0m\n\u001b[0m\u001b[1;32m     37\u001b[0m     \u001b[0;32melse\u001b[0m\u001b[0;34m:\u001b[0m\u001b[0;34m\u001b[0m\u001b[0m\n\u001b[1;32m     38\u001b[0m     \u001b[0;31m#    if guess * 2 > upper_lim:\u001b[0m\u001b[0;34m\u001b[0m\u001b[0;34m\u001b[0m\u001b[0m\n",
      "\u001b[0;32m<ipython-input-162-ed8731024d48>\u001b[0m in \u001b[0;36msearch_interval\u001b[0;34m(guess)\u001b[0m\n\u001b[1;32m      9\u001b[0m         \u001b[0;31m#    return\u001b[0m\u001b[0;34m\u001b[0m\u001b[0;34m\u001b[0m\u001b[0m\n\u001b[1;32m     10\u001b[0m         \u001b[0mprint\u001b[0m\u001b[0;34m(\u001b[0m\u001b[0;34m\"I'm here fam 1\"\u001b[0m\u001b[0;34m)\u001b[0m\u001b[0;34m\u001b[0m\u001b[0m\n\u001b[0;32m---> 11\u001b[0;31m         \u001b[0mfind_min\u001b[0m\u001b[0;34m(\u001b[0m\u001b[0mguess\u001b[0m\u001b[0;34m)\u001b[0m\u001b[0;34m\u001b[0m\u001b[0m\n\u001b[0m\u001b[1;32m     12\u001b[0m     \u001b[0;32melif\u001b[0m \u001b[0mpi_error\u001b[0m\u001b[0;34m(\u001b[0m\u001b[0mguess\u001b[0m\u001b[0;34m)\u001b[0m \u001b[0;34m>\u001b[0m \u001b[0;36m0.000001\u001b[0m\u001b[0;34m:\u001b[0m\u001b[0;34m\u001b[0m\u001b[0m\n\u001b[1;32m     13\u001b[0m         \u001b[0mmid\u001b[0m \u001b[0;34m=\u001b[0m \u001b[0mmath\u001b[0m\u001b[0;34m.\u001b[0m\u001b[0mfloor\u001b[0m\u001b[0;34m(\u001b[0m\u001b[0;34m(\u001b[0m\u001b[0mguess\u001b[0m \u001b[0;34m+\u001b[0m \u001b[0;34m(\u001b[0m\u001b[0mguess\u001b[0m\u001b[0;34m/\u001b[0m\u001b[0;36m2\u001b[0m\u001b[0;34m)\u001b[0m\u001b[0;34m)\u001b[0m\u001b[0;34m/\u001b[0m\u001b[0;36m2\u001b[0m\u001b[0;34m)\u001b[0m\u001b[0;34m\u001b[0m\u001b[0m\n",
      "\u001b[0;32m<ipython-input-162-ed8731024d48>\u001b[0m in \u001b[0;36mfind_min\u001b[0;34m(guess, upper_lim)\u001b[0m\n\u001b[1;32m     34\u001b[0m             \u001b[0;31m# maybe better to search backward\u001b[0m\u001b[0;34m\u001b[0m\u001b[0;34m\u001b[0m\u001b[0m\n\u001b[1;32m     35\u001b[0m             \u001b[0;31m#upper_lim = guess\u001b[0m\u001b[0;34m\u001b[0m\u001b[0;34m\u001b[0m\u001b[0m\n\u001b[0;32m---> 36\u001b[0;31m             \u001b[0msearch_interval\u001b[0m\u001b[0;34m(\u001b[0m\u001b[0mguess\u001b[0m\u001b[0;34m)\u001b[0m\u001b[0;34m\u001b[0m\u001b[0m\n\u001b[0m\u001b[1;32m     37\u001b[0m     \u001b[0;32melse\u001b[0m\u001b[0;34m:\u001b[0m\u001b[0;34m\u001b[0m\u001b[0m\n\u001b[1;32m     38\u001b[0m     \u001b[0;31m#    if guess * 2 > upper_lim:\u001b[0m\u001b[0;34m\u001b[0m\u001b[0;34m\u001b[0m\u001b[0m\n",
      "\u001b[0;32m<ipython-input-162-ed8731024d48>\u001b[0m in \u001b[0;36msearch_interval\u001b[0;34m(guess)\u001b[0m\n\u001b[1;32m      9\u001b[0m         \u001b[0;31m#    return\u001b[0m\u001b[0;34m\u001b[0m\u001b[0;34m\u001b[0m\u001b[0m\n\u001b[1;32m     10\u001b[0m         \u001b[0mprint\u001b[0m\u001b[0;34m(\u001b[0m\u001b[0;34m\"I'm here fam 1\"\u001b[0m\u001b[0;34m)\u001b[0m\u001b[0;34m\u001b[0m\u001b[0m\n\u001b[0;32m---> 11\u001b[0;31m         \u001b[0mfind_min\u001b[0m\u001b[0;34m(\u001b[0m\u001b[0mguess\u001b[0m\u001b[0;34m)\u001b[0m\u001b[0;34m\u001b[0m\u001b[0m\n\u001b[0m\u001b[1;32m     12\u001b[0m     \u001b[0;32melif\u001b[0m \u001b[0mpi_error\u001b[0m\u001b[0;34m(\u001b[0m\u001b[0mguess\u001b[0m\u001b[0;34m)\u001b[0m \u001b[0;34m>\u001b[0m \u001b[0;36m0.000001\u001b[0m\u001b[0;34m:\u001b[0m\u001b[0;34m\u001b[0m\u001b[0m\n\u001b[1;32m     13\u001b[0m         \u001b[0mmid\u001b[0m \u001b[0;34m=\u001b[0m \u001b[0mmath\u001b[0m\u001b[0;34m.\u001b[0m\u001b[0mfloor\u001b[0m\u001b[0;34m(\u001b[0m\u001b[0;34m(\u001b[0m\u001b[0mguess\u001b[0m \u001b[0;34m+\u001b[0m \u001b[0;34m(\u001b[0m\u001b[0mguess\u001b[0m\u001b[0;34m/\u001b[0m\u001b[0;36m2\u001b[0m\u001b[0;34m)\u001b[0m\u001b[0;34m)\u001b[0m\u001b[0;34m/\u001b[0m\u001b[0;36m2\u001b[0m\u001b[0;34m)\u001b[0m\u001b[0;34m\u001b[0m\u001b[0m\n",
      "\u001b[0;32m<ipython-input-162-ed8731024d48>\u001b[0m in \u001b[0;36mfind_min\u001b[0;34m(guess, upper_lim)\u001b[0m\n\u001b[1;32m     38\u001b[0m     \u001b[0;31m#    if guess * 2 > upper_lim:\u001b[0m\u001b[0;34m\u001b[0m\u001b[0;34m\u001b[0m\u001b[0m\n\u001b[1;32m     39\u001b[0m     \u001b[0;31m#        print(\"I'm here fam 3\")\u001b[0m\u001b[0;34m\u001b[0m\u001b[0;34m\u001b[0m\u001b[0m\n\u001b[0;32m---> 40\u001b[0;31m             \u001b[0msearch_interval\u001b[0m\u001b[0;34m(\u001b[0m\u001b[0mguess\u001b[0m\u001b[0;34m)\u001b[0m\u001b[0;34m\u001b[0m\u001b[0m\n\u001b[0m\u001b[1;32m     41\u001b[0m     \u001b[0;31m#    else:\u001b[0m\u001b[0;34m\u001b[0m\u001b[0;34m\u001b[0m\u001b[0m\n\u001b[1;32m     42\u001b[0m     \u001b[0;31m#        guess = guess * 2\u001b[0m\u001b[0;34m\u001b[0m\u001b[0;34m\u001b[0m\u001b[0m\n",
      "\u001b[0;32m<ipython-input-162-ed8731024d48>\u001b[0m in \u001b[0;36msearch_interval\u001b[0;34m(guess)\u001b[0m\n\u001b[1;32m     17\u001b[0m         \u001b[0mprint\u001b[0m\u001b[0;34m(\u001b[0m\u001b[0;34m\"DIFF = {}\"\u001b[0m\u001b[0;34m.\u001b[0m\u001b[0mformat\u001b[0m\u001b[0;34m(\u001b[0m\u001b[0mguess\u001b[0m \u001b[0;34m-\u001b[0m \u001b[0mmid\u001b[0m\u001b[0;34m)\u001b[0m\u001b[0;34m)\u001b[0m\u001b[0;34m\u001b[0m\u001b[0m\n\u001b[1;32m     18\u001b[0m         \u001b[0;31m#guess = guess + mid\u001b[0m\u001b[0;34m\u001b[0m\u001b[0;34m\u001b[0m\u001b[0m\n\u001b[0;32m---> 19\u001b[0;31m         \u001b[0mfind_min\u001b[0m\u001b[0;34m(\u001b[0m\u001b[0mguess\u001b[0m\u001b[0;34m)\u001b[0m\u001b[0;34m\u001b[0m\u001b[0m\n\u001b[0m\u001b[1;32m     20\u001b[0m     \u001b[0;32melse\u001b[0m\u001b[0;34m:\u001b[0m\u001b[0;34m\u001b[0m\u001b[0m\n\u001b[1;32m     21\u001b[0m         \u001b[0mprint\u001b[0m\u001b[0;34m(\u001b[0m\u001b[0;34m\"Finally it's happened to me, right in front of my face and I just can not hide it. FIIINALLY YHH\"\u001b[0m\u001b[0;34m)\u001b[0m\u001b[0;34m\u001b[0m\u001b[0m\n",
      "\u001b[0;32m<ipython-input-162-ed8731024d48>\u001b[0m in \u001b[0;36mfind_min\u001b[0;34m(guess, upper_lim)\u001b[0m\n\u001b[1;32m     34\u001b[0m             \u001b[0;31m# maybe better to search backward\u001b[0m\u001b[0;34m\u001b[0m\u001b[0;34m\u001b[0m\u001b[0m\n\u001b[1;32m     35\u001b[0m             \u001b[0;31m#upper_lim = guess\u001b[0m\u001b[0;34m\u001b[0m\u001b[0;34m\u001b[0m\u001b[0m\n\u001b[0;32m---> 36\u001b[0;31m             \u001b[0msearch_interval\u001b[0m\u001b[0;34m(\u001b[0m\u001b[0mguess\u001b[0m\u001b[0;34m)\u001b[0m\u001b[0;34m\u001b[0m\u001b[0m\n\u001b[0m\u001b[1;32m     37\u001b[0m     \u001b[0;32melse\u001b[0m\u001b[0;34m:\u001b[0m\u001b[0;34m\u001b[0m\u001b[0m\n\u001b[1;32m     38\u001b[0m     \u001b[0;31m#    if guess * 2 > upper_lim:\u001b[0m\u001b[0;34m\u001b[0m\u001b[0;34m\u001b[0m\u001b[0m\n",
      "\u001b[0;32m<ipython-input-162-ed8731024d48>\u001b[0m in \u001b[0;36msearch_interval\u001b[0;34m(guess)\u001b[0m\n\u001b[1;32m      9\u001b[0m         \u001b[0;31m#    return\u001b[0m\u001b[0;34m\u001b[0m\u001b[0;34m\u001b[0m\u001b[0m\n\u001b[1;32m     10\u001b[0m         \u001b[0mprint\u001b[0m\u001b[0;34m(\u001b[0m\u001b[0;34m\"I'm here fam 1\"\u001b[0m\u001b[0;34m)\u001b[0m\u001b[0;34m\u001b[0m\u001b[0m\n\u001b[0;32m---> 11\u001b[0;31m         \u001b[0mfind_min\u001b[0m\u001b[0;34m(\u001b[0m\u001b[0mguess\u001b[0m\u001b[0;34m)\u001b[0m\u001b[0;34m\u001b[0m\u001b[0m\n\u001b[0m\u001b[1;32m     12\u001b[0m     \u001b[0;32melif\u001b[0m \u001b[0mpi_error\u001b[0m\u001b[0;34m(\u001b[0m\u001b[0mguess\u001b[0m\u001b[0;34m)\u001b[0m \u001b[0;34m>\u001b[0m \u001b[0;36m0.000001\u001b[0m\u001b[0;34m:\u001b[0m\u001b[0;34m\u001b[0m\u001b[0m\n\u001b[1;32m     13\u001b[0m         \u001b[0mmid\u001b[0m \u001b[0;34m=\u001b[0m \u001b[0mmath\u001b[0m\u001b[0;34m.\u001b[0m\u001b[0mfloor\u001b[0m\u001b[0;34m(\u001b[0m\u001b[0;34m(\u001b[0m\u001b[0mguess\u001b[0m \u001b[0;34m+\u001b[0m \u001b[0;34m(\u001b[0m\u001b[0mguess\u001b[0m\u001b[0;34m/\u001b[0m\u001b[0;36m2\u001b[0m\u001b[0;34m)\u001b[0m\u001b[0;34m)\u001b[0m\u001b[0;34m/\u001b[0m\u001b[0;36m2\u001b[0m\u001b[0;34m)\u001b[0m\u001b[0;34m\u001b[0m\u001b[0m\n",
      "\u001b[0;32m<ipython-input-162-ed8731024d48>\u001b[0m in \u001b[0;36mfind_min\u001b[0;34m(guess, upper_lim)\u001b[0m\n\u001b[1;32m     38\u001b[0m     \u001b[0;31m#    if guess * 2 > upper_lim:\u001b[0m\u001b[0;34m\u001b[0m\u001b[0;34m\u001b[0m\u001b[0m\n\u001b[1;32m     39\u001b[0m     \u001b[0;31m#        print(\"I'm here fam 3\")\u001b[0m\u001b[0;34m\u001b[0m\u001b[0;34m\u001b[0m\u001b[0m\n\u001b[0;32m---> 40\u001b[0;31m             \u001b[0msearch_interval\u001b[0m\u001b[0;34m(\u001b[0m\u001b[0mguess\u001b[0m\u001b[0;34m)\u001b[0m\u001b[0;34m\u001b[0m\u001b[0m\n\u001b[0m\u001b[1;32m     41\u001b[0m     \u001b[0;31m#    else:\u001b[0m\u001b[0;34m\u001b[0m\u001b[0;34m\u001b[0m\u001b[0m\n\u001b[1;32m     42\u001b[0m     \u001b[0;31m#        guess = guess * 2\u001b[0m\u001b[0;34m\u001b[0m\u001b[0;34m\u001b[0m\u001b[0m\n",
      "\u001b[0;32m<ipython-input-162-ed8731024d48>\u001b[0m in \u001b[0;36msearch_interval\u001b[0;34m(guess)\u001b[0m\n\u001b[1;32m     17\u001b[0m         \u001b[0mprint\u001b[0m\u001b[0;34m(\u001b[0m\u001b[0;34m\"DIFF = {}\"\u001b[0m\u001b[0;34m.\u001b[0m\u001b[0mformat\u001b[0m\u001b[0;34m(\u001b[0m\u001b[0mguess\u001b[0m \u001b[0;34m-\u001b[0m \u001b[0mmid\u001b[0m\u001b[0;34m)\u001b[0m\u001b[0;34m)\u001b[0m\u001b[0;34m\u001b[0m\u001b[0m\n\u001b[1;32m     18\u001b[0m         \u001b[0;31m#guess = guess + mid\u001b[0m\u001b[0;34m\u001b[0m\u001b[0;34m\u001b[0m\u001b[0m\n\u001b[0;32m---> 19\u001b[0;31m         \u001b[0mfind_min\u001b[0m\u001b[0;34m(\u001b[0m\u001b[0mguess\u001b[0m\u001b[0;34m)\u001b[0m\u001b[0;34m\u001b[0m\u001b[0m\n\u001b[0m\u001b[1;32m     20\u001b[0m     \u001b[0;32melse\u001b[0m\u001b[0;34m:\u001b[0m\u001b[0;34m\u001b[0m\u001b[0m\n\u001b[1;32m     21\u001b[0m         \u001b[0mprint\u001b[0m\u001b[0;34m(\u001b[0m\u001b[0;34m\"Finally it's happened to me, right in front of my face and I just can not hide it. FIIINALLY YHH\"\u001b[0m\u001b[0;34m)\u001b[0m\u001b[0;34m\u001b[0m\u001b[0m\n",
      "\u001b[0;32m<ipython-input-162-ed8731024d48>\u001b[0m in \u001b[0;36mfind_min\u001b[0;34m(guess, upper_lim)\u001b[0m\n\u001b[1;32m     34\u001b[0m             \u001b[0;31m# maybe better to search backward\u001b[0m\u001b[0;34m\u001b[0m\u001b[0;34m\u001b[0m\u001b[0m\n\u001b[1;32m     35\u001b[0m             \u001b[0;31m#upper_lim = guess\u001b[0m\u001b[0;34m\u001b[0m\u001b[0;34m\u001b[0m\u001b[0m\n\u001b[0;32m---> 36\u001b[0;31m             \u001b[0msearch_interval\u001b[0m\u001b[0;34m(\u001b[0m\u001b[0mguess\u001b[0m\u001b[0;34m)\u001b[0m\u001b[0;34m\u001b[0m\u001b[0m\n\u001b[0m\u001b[1;32m     37\u001b[0m     \u001b[0;32melse\u001b[0m\u001b[0;34m:\u001b[0m\u001b[0;34m\u001b[0m\u001b[0m\n\u001b[1;32m     38\u001b[0m     \u001b[0;31m#    if guess * 2 > upper_lim:\u001b[0m\u001b[0;34m\u001b[0m\u001b[0;34m\u001b[0m\u001b[0m\n",
      "\u001b[0;32m<ipython-input-162-ed8731024d48>\u001b[0m in \u001b[0;36msearch_interval\u001b[0;34m(guess)\u001b[0m\n\u001b[1;32m      9\u001b[0m         \u001b[0;31m#    return\u001b[0m\u001b[0;34m\u001b[0m\u001b[0;34m\u001b[0m\u001b[0m\n\u001b[1;32m     10\u001b[0m         \u001b[0mprint\u001b[0m\u001b[0;34m(\u001b[0m\u001b[0;34m\"I'm here fam 1\"\u001b[0m\u001b[0;34m)\u001b[0m\u001b[0;34m\u001b[0m\u001b[0m\n\u001b[0;32m---> 11\u001b[0;31m         \u001b[0mfind_min\u001b[0m\u001b[0;34m(\u001b[0m\u001b[0mguess\u001b[0m\u001b[0;34m)\u001b[0m\u001b[0;34m\u001b[0m\u001b[0m\n\u001b[0m\u001b[1;32m     12\u001b[0m     \u001b[0;32melif\u001b[0m \u001b[0mpi_error\u001b[0m\u001b[0;34m(\u001b[0m\u001b[0mguess\u001b[0m\u001b[0;34m)\u001b[0m \u001b[0;34m>\u001b[0m \u001b[0;36m0.000001\u001b[0m\u001b[0;34m:\u001b[0m\u001b[0;34m\u001b[0m\u001b[0m\n\u001b[1;32m     13\u001b[0m         \u001b[0mmid\u001b[0m \u001b[0;34m=\u001b[0m \u001b[0mmath\u001b[0m\u001b[0;34m.\u001b[0m\u001b[0mfloor\u001b[0m\u001b[0;34m(\u001b[0m\u001b[0;34m(\u001b[0m\u001b[0mguess\u001b[0m \u001b[0;34m+\u001b[0m \u001b[0;34m(\u001b[0m\u001b[0mguess\u001b[0m\u001b[0;34m/\u001b[0m\u001b[0;36m2\u001b[0m\u001b[0;34m)\u001b[0m\u001b[0;34m)\u001b[0m\u001b[0;34m/\u001b[0m\u001b[0;36m2\u001b[0m\u001b[0;34m)\u001b[0m\u001b[0;34m\u001b[0m\u001b[0m\n",
      "\u001b[0;32m<ipython-input-162-ed8731024d48>\u001b[0m in \u001b[0;36mfind_min\u001b[0;34m(guess, upper_lim)\u001b[0m\n\u001b[1;32m     34\u001b[0m             \u001b[0;31m# maybe better to search backward\u001b[0m\u001b[0;34m\u001b[0m\u001b[0;34m\u001b[0m\u001b[0m\n\u001b[1;32m     35\u001b[0m             \u001b[0;31m#upper_lim = guess\u001b[0m\u001b[0;34m\u001b[0m\u001b[0;34m\u001b[0m\u001b[0m\n\u001b[0;32m---> 36\u001b[0;31m             \u001b[0msearch_interval\u001b[0m\u001b[0;34m(\u001b[0m\u001b[0mguess\u001b[0m\u001b[0;34m)\u001b[0m\u001b[0;34m\u001b[0m\u001b[0m\n\u001b[0m\u001b[1;32m     37\u001b[0m     \u001b[0;32melse\u001b[0m\u001b[0;34m:\u001b[0m\u001b[0;34m\u001b[0m\u001b[0m\n\u001b[1;32m     38\u001b[0m     \u001b[0;31m#    if guess * 2 > upper_lim:\u001b[0m\u001b[0;34m\u001b[0m\u001b[0;34m\u001b[0m\u001b[0m\n",
      "\u001b[0;32m<ipython-input-162-ed8731024d48>\u001b[0m in \u001b[0;36msearch_interval\u001b[0;34m(guess)\u001b[0m\n\u001b[1;32m      9\u001b[0m         \u001b[0;31m#    return\u001b[0m\u001b[0;34m\u001b[0m\u001b[0;34m\u001b[0m\u001b[0m\n\u001b[1;32m     10\u001b[0m         \u001b[0mprint\u001b[0m\u001b[0;34m(\u001b[0m\u001b[0;34m\"I'm here fam 1\"\u001b[0m\u001b[0;34m)\u001b[0m\u001b[0;34m\u001b[0m\u001b[0m\n\u001b[0;32m---> 11\u001b[0;31m         \u001b[0mfind_min\u001b[0m\u001b[0;34m(\u001b[0m\u001b[0mguess\u001b[0m\u001b[0;34m)\u001b[0m\u001b[0;34m\u001b[0m\u001b[0m\n\u001b[0m\u001b[1;32m     12\u001b[0m     \u001b[0;32melif\u001b[0m \u001b[0mpi_error\u001b[0m\u001b[0;34m(\u001b[0m\u001b[0mguess\u001b[0m\u001b[0;34m)\u001b[0m \u001b[0;34m>\u001b[0m \u001b[0;36m0.000001\u001b[0m\u001b[0;34m:\u001b[0m\u001b[0;34m\u001b[0m\u001b[0m\n\u001b[1;32m     13\u001b[0m         \u001b[0mmid\u001b[0m \u001b[0;34m=\u001b[0m \u001b[0mmath\u001b[0m\u001b[0;34m.\u001b[0m\u001b[0mfloor\u001b[0m\u001b[0;34m(\u001b[0m\u001b[0;34m(\u001b[0m\u001b[0mguess\u001b[0m \u001b[0;34m+\u001b[0m \u001b[0;34m(\u001b[0m\u001b[0mguess\u001b[0m\u001b[0;34m/\u001b[0m\u001b[0;36m2\u001b[0m\u001b[0;34m)\u001b[0m\u001b[0;34m)\u001b[0m\u001b[0;34m/\u001b[0m\u001b[0;36m2\u001b[0m\u001b[0;34m)\u001b[0m\u001b[0;34m\u001b[0m\u001b[0m\n",
      "\u001b[0;32m<ipython-input-162-ed8731024d48>\u001b[0m in \u001b[0;36mfind_min\u001b[0;34m(guess, upper_lim)\u001b[0m\n\u001b[1;32m     38\u001b[0m     \u001b[0;31m#    if guess * 2 > upper_lim:\u001b[0m\u001b[0;34m\u001b[0m\u001b[0;34m\u001b[0m\u001b[0m\n\u001b[1;32m     39\u001b[0m     \u001b[0;31m#        print(\"I'm here fam 3\")\u001b[0m\u001b[0;34m\u001b[0m\u001b[0;34m\u001b[0m\u001b[0m\n\u001b[0;32m---> 40\u001b[0;31m             \u001b[0msearch_interval\u001b[0m\u001b[0;34m(\u001b[0m\u001b[0mguess\u001b[0m\u001b[0;34m)\u001b[0m\u001b[0;34m\u001b[0m\u001b[0m\n\u001b[0m\u001b[1;32m     41\u001b[0m     \u001b[0;31m#    else:\u001b[0m\u001b[0;34m\u001b[0m\u001b[0;34m\u001b[0m\u001b[0m\n\u001b[1;32m     42\u001b[0m     \u001b[0;31m#        guess = guess * 2\u001b[0m\u001b[0;34m\u001b[0m\u001b[0;34m\u001b[0m\u001b[0m\n",
      "\u001b[0;32m<ipython-input-162-ed8731024d48>\u001b[0m in \u001b[0;36msearch_interval\u001b[0;34m(guess)\u001b[0m\n\u001b[1;32m     17\u001b[0m         \u001b[0mprint\u001b[0m\u001b[0;34m(\u001b[0m\u001b[0;34m\"DIFF = {}\"\u001b[0m\u001b[0;34m.\u001b[0m\u001b[0mformat\u001b[0m\u001b[0;34m(\u001b[0m\u001b[0mguess\u001b[0m \u001b[0;34m-\u001b[0m \u001b[0mmid\u001b[0m\u001b[0;34m)\u001b[0m\u001b[0;34m)\u001b[0m\u001b[0;34m\u001b[0m\u001b[0m\n\u001b[1;32m     18\u001b[0m         \u001b[0;31m#guess = guess + mid\u001b[0m\u001b[0;34m\u001b[0m\u001b[0;34m\u001b[0m\u001b[0m\n\u001b[0;32m---> 19\u001b[0;31m         \u001b[0mfind_min\u001b[0m\u001b[0;34m(\u001b[0m\u001b[0mguess\u001b[0m\u001b[0;34m)\u001b[0m\u001b[0;34m\u001b[0m\u001b[0m\n\u001b[0m\u001b[1;32m     20\u001b[0m     \u001b[0;32melse\u001b[0m\u001b[0;34m:\u001b[0m\u001b[0;34m\u001b[0m\u001b[0m\n\u001b[1;32m     21\u001b[0m         \u001b[0mprint\u001b[0m\u001b[0;34m(\u001b[0m\u001b[0;34m\"Finally it's happened to me, right in front of my face and I just can not hide it. FIIINALLY YHH\"\u001b[0m\u001b[0;34m)\u001b[0m\u001b[0;34m\u001b[0m\u001b[0m\n",
      "\u001b[0;32m<ipython-input-162-ed8731024d48>\u001b[0m in \u001b[0;36mfind_min\u001b[0;34m(guess, upper_lim)\u001b[0m\n\u001b[1;32m     34\u001b[0m             \u001b[0;31m# maybe better to search backward\u001b[0m\u001b[0;34m\u001b[0m\u001b[0;34m\u001b[0m\u001b[0m\n\u001b[1;32m     35\u001b[0m             \u001b[0;31m#upper_lim = guess\u001b[0m\u001b[0;34m\u001b[0m\u001b[0;34m\u001b[0m\u001b[0m\n\u001b[0;32m---> 36\u001b[0;31m             \u001b[0msearch_interval\u001b[0m\u001b[0;34m(\u001b[0m\u001b[0mguess\u001b[0m\u001b[0;34m)\u001b[0m\u001b[0;34m\u001b[0m\u001b[0m\n\u001b[0m\u001b[1;32m     37\u001b[0m     \u001b[0;32melse\u001b[0m\u001b[0;34m:\u001b[0m\u001b[0;34m\u001b[0m\u001b[0m\n\u001b[1;32m     38\u001b[0m     \u001b[0;31m#    if guess * 2 > upper_lim:\u001b[0m\u001b[0;34m\u001b[0m\u001b[0;34m\u001b[0m\u001b[0m\n",
      "\u001b[0;32m<ipython-input-162-ed8731024d48>\u001b[0m in \u001b[0;36msearch_interval\u001b[0;34m(guess)\u001b[0m\n\u001b[1;32m      9\u001b[0m         \u001b[0;31m#    return\u001b[0m\u001b[0;34m\u001b[0m\u001b[0;34m\u001b[0m\u001b[0m\n\u001b[1;32m     10\u001b[0m         \u001b[0mprint\u001b[0m\u001b[0;34m(\u001b[0m\u001b[0;34m\"I'm here fam 1\"\u001b[0m\u001b[0;34m)\u001b[0m\u001b[0;34m\u001b[0m\u001b[0m\n\u001b[0;32m---> 11\u001b[0;31m         \u001b[0mfind_min\u001b[0m\u001b[0;34m(\u001b[0m\u001b[0mguess\u001b[0m\u001b[0;34m)\u001b[0m\u001b[0;34m\u001b[0m\u001b[0m\n\u001b[0m\u001b[1;32m     12\u001b[0m     \u001b[0;32melif\u001b[0m \u001b[0mpi_error\u001b[0m\u001b[0;34m(\u001b[0m\u001b[0mguess\u001b[0m\u001b[0;34m)\u001b[0m \u001b[0;34m>\u001b[0m \u001b[0;36m0.000001\u001b[0m\u001b[0;34m:\u001b[0m\u001b[0;34m\u001b[0m\u001b[0m\n\u001b[1;32m     13\u001b[0m         \u001b[0mmid\u001b[0m \u001b[0;34m=\u001b[0m \u001b[0mmath\u001b[0m\u001b[0;34m.\u001b[0m\u001b[0mfloor\u001b[0m\u001b[0;34m(\u001b[0m\u001b[0;34m(\u001b[0m\u001b[0mguess\u001b[0m \u001b[0;34m+\u001b[0m \u001b[0;34m(\u001b[0m\u001b[0mguess\u001b[0m\u001b[0;34m/\u001b[0m\u001b[0;36m2\u001b[0m\u001b[0;34m)\u001b[0m\u001b[0;34m)\u001b[0m\u001b[0;34m/\u001b[0m\u001b[0;36m2\u001b[0m\u001b[0;34m)\u001b[0m\u001b[0;34m\u001b[0m\u001b[0m\n",
      "\u001b[0;32m<ipython-input-162-ed8731024d48>\u001b[0m in \u001b[0;36mfind_min\u001b[0;34m(guess, upper_lim)\u001b[0m\n\u001b[1;32m     38\u001b[0m     \u001b[0;31m#    if guess * 2 > upper_lim:\u001b[0m\u001b[0;34m\u001b[0m\u001b[0;34m\u001b[0m\u001b[0m\n\u001b[1;32m     39\u001b[0m     \u001b[0;31m#        print(\"I'm here fam 3\")\u001b[0m\u001b[0;34m\u001b[0m\u001b[0;34m\u001b[0m\u001b[0m\n\u001b[0;32m---> 40\u001b[0;31m             \u001b[0msearch_interval\u001b[0m\u001b[0;34m(\u001b[0m\u001b[0mguess\u001b[0m\u001b[0;34m)\u001b[0m\u001b[0;34m\u001b[0m\u001b[0m\n\u001b[0m\u001b[1;32m     41\u001b[0m     \u001b[0;31m#    else:\u001b[0m\u001b[0;34m\u001b[0m\u001b[0;34m\u001b[0m\u001b[0m\n\u001b[1;32m     42\u001b[0m     \u001b[0;31m#        guess = guess * 2\u001b[0m\u001b[0;34m\u001b[0m\u001b[0;34m\u001b[0m\u001b[0m\n",
      "\u001b[0;32m<ipython-input-162-ed8731024d48>\u001b[0m in \u001b[0;36msearch_interval\u001b[0;34m(guess)\u001b[0m\n\u001b[1;32m     17\u001b[0m         \u001b[0mprint\u001b[0m\u001b[0;34m(\u001b[0m\u001b[0;34m\"DIFF = {}\"\u001b[0m\u001b[0;34m.\u001b[0m\u001b[0mformat\u001b[0m\u001b[0;34m(\u001b[0m\u001b[0mguess\u001b[0m \u001b[0;34m-\u001b[0m \u001b[0mmid\u001b[0m\u001b[0;34m)\u001b[0m\u001b[0;34m)\u001b[0m\u001b[0;34m\u001b[0m\u001b[0m\n\u001b[1;32m     18\u001b[0m         \u001b[0;31m#guess = guess + mid\u001b[0m\u001b[0;34m\u001b[0m\u001b[0;34m\u001b[0m\u001b[0m\n\u001b[0;32m---> 19\u001b[0;31m         \u001b[0mfind_min\u001b[0m\u001b[0;34m(\u001b[0m\u001b[0mguess\u001b[0m\u001b[0;34m)\u001b[0m\u001b[0;34m\u001b[0m\u001b[0m\n\u001b[0m\u001b[1;32m     20\u001b[0m     \u001b[0;32melse\u001b[0m\u001b[0;34m:\u001b[0m\u001b[0;34m\u001b[0m\u001b[0m\n\u001b[1;32m     21\u001b[0m         \u001b[0mprint\u001b[0m\u001b[0;34m(\u001b[0m\u001b[0;34m\"Finally it's happened to me, right in front of my face and I just can not hide it. FIIINALLY YHH\"\u001b[0m\u001b[0;34m)\u001b[0m\u001b[0;34m\u001b[0m\u001b[0m\n",
      "\u001b[0;32m<ipython-input-162-ed8731024d48>\u001b[0m in \u001b[0;36mfind_min\u001b[0;34m(guess, upper_lim)\u001b[0m\n\u001b[1;32m     34\u001b[0m             \u001b[0;31m# maybe better to search backward\u001b[0m\u001b[0;34m\u001b[0m\u001b[0;34m\u001b[0m\u001b[0m\n\u001b[1;32m     35\u001b[0m             \u001b[0;31m#upper_lim = guess\u001b[0m\u001b[0;34m\u001b[0m\u001b[0;34m\u001b[0m\u001b[0m\n\u001b[0;32m---> 36\u001b[0;31m             \u001b[0msearch_interval\u001b[0m\u001b[0;34m(\u001b[0m\u001b[0mguess\u001b[0m\u001b[0;34m)\u001b[0m\u001b[0;34m\u001b[0m\u001b[0m\n\u001b[0m\u001b[1;32m     37\u001b[0m     \u001b[0;32melse\u001b[0m\u001b[0;34m:\u001b[0m\u001b[0;34m\u001b[0m\u001b[0m\n\u001b[1;32m     38\u001b[0m     \u001b[0;31m#    if guess * 2 > upper_lim:\u001b[0m\u001b[0;34m\u001b[0m\u001b[0;34m\u001b[0m\u001b[0m\n",
      "\u001b[0;32m<ipython-input-162-ed8731024d48>\u001b[0m in \u001b[0;36msearch_interval\u001b[0;34m(guess)\u001b[0m\n\u001b[1;32m      9\u001b[0m         \u001b[0;31m#    return\u001b[0m\u001b[0;34m\u001b[0m\u001b[0;34m\u001b[0m\u001b[0m\n\u001b[1;32m     10\u001b[0m         \u001b[0mprint\u001b[0m\u001b[0;34m(\u001b[0m\u001b[0;34m\"I'm here fam 1\"\u001b[0m\u001b[0;34m)\u001b[0m\u001b[0;34m\u001b[0m\u001b[0m\n\u001b[0;32m---> 11\u001b[0;31m         \u001b[0mfind_min\u001b[0m\u001b[0;34m(\u001b[0m\u001b[0mguess\u001b[0m\u001b[0;34m)\u001b[0m\u001b[0;34m\u001b[0m\u001b[0m\n\u001b[0m\u001b[1;32m     12\u001b[0m     \u001b[0;32melif\u001b[0m \u001b[0mpi_error\u001b[0m\u001b[0;34m(\u001b[0m\u001b[0mguess\u001b[0m\u001b[0;34m)\u001b[0m \u001b[0;34m>\u001b[0m \u001b[0;36m0.000001\u001b[0m\u001b[0;34m:\u001b[0m\u001b[0;34m\u001b[0m\u001b[0m\n\u001b[1;32m     13\u001b[0m         \u001b[0mmid\u001b[0m \u001b[0;34m=\u001b[0m \u001b[0mmath\u001b[0m\u001b[0;34m.\u001b[0m\u001b[0mfloor\u001b[0m\u001b[0;34m(\u001b[0m\u001b[0;34m(\u001b[0m\u001b[0mguess\u001b[0m \u001b[0;34m+\u001b[0m \u001b[0;34m(\u001b[0m\u001b[0mguess\u001b[0m\u001b[0;34m/\u001b[0m\u001b[0;36m2\u001b[0m\u001b[0;34m)\u001b[0m\u001b[0;34m)\u001b[0m\u001b[0;34m/\u001b[0m\u001b[0;36m2\u001b[0m\u001b[0;34m)\u001b[0m\u001b[0;34m\u001b[0m\u001b[0m\n",
      "\u001b[0;32m<ipython-input-162-ed8731024d48>\u001b[0m in \u001b[0;36mfind_min\u001b[0;34m(guess, upper_lim)\u001b[0m\n\u001b[1;32m     38\u001b[0m     \u001b[0;31m#    if guess * 2 > upper_lim:\u001b[0m\u001b[0;34m\u001b[0m\u001b[0;34m\u001b[0m\u001b[0m\n\u001b[1;32m     39\u001b[0m     \u001b[0;31m#        print(\"I'm here fam 3\")\u001b[0m\u001b[0;34m\u001b[0m\u001b[0;34m\u001b[0m\u001b[0m\n\u001b[0;32m---> 40\u001b[0;31m             \u001b[0msearch_interval\u001b[0m\u001b[0;34m(\u001b[0m\u001b[0mguess\u001b[0m\u001b[0;34m)\u001b[0m\u001b[0;34m\u001b[0m\u001b[0m\n\u001b[0m\u001b[1;32m     41\u001b[0m     \u001b[0;31m#    else:\u001b[0m\u001b[0;34m\u001b[0m\u001b[0;34m\u001b[0m\u001b[0m\n\u001b[1;32m     42\u001b[0m     \u001b[0;31m#        guess = guess * 2\u001b[0m\u001b[0;34m\u001b[0m\u001b[0;34m\u001b[0m\u001b[0m\n",
      "\u001b[0;32m<ipython-input-162-ed8731024d48>\u001b[0m in \u001b[0;36msearch_interval\u001b[0;34m(guess)\u001b[0m\n\u001b[1;32m     17\u001b[0m         \u001b[0mprint\u001b[0m\u001b[0;34m(\u001b[0m\u001b[0;34m\"DIFF = {}\"\u001b[0m\u001b[0;34m.\u001b[0m\u001b[0mformat\u001b[0m\u001b[0;34m(\u001b[0m\u001b[0mguess\u001b[0m \u001b[0;34m-\u001b[0m \u001b[0mmid\u001b[0m\u001b[0;34m)\u001b[0m\u001b[0;34m)\u001b[0m\u001b[0;34m\u001b[0m\u001b[0m\n\u001b[1;32m     18\u001b[0m         \u001b[0;31m#guess = guess + mid\u001b[0m\u001b[0;34m\u001b[0m\u001b[0;34m\u001b[0m\u001b[0m\n\u001b[0;32m---> 19\u001b[0;31m         \u001b[0mfind_min\u001b[0m\u001b[0;34m(\u001b[0m\u001b[0mguess\u001b[0m\u001b[0;34m)\u001b[0m\u001b[0;34m\u001b[0m\u001b[0m\n\u001b[0m\u001b[1;32m     20\u001b[0m     \u001b[0;32melse\u001b[0m\u001b[0;34m:\u001b[0m\u001b[0;34m\u001b[0m\u001b[0m\n\u001b[1;32m     21\u001b[0m         \u001b[0mprint\u001b[0m\u001b[0;34m(\u001b[0m\u001b[0;34m\"Finally it's happened to me, right in front of my face and I just can not hide it. FIIINALLY YHH\"\u001b[0m\u001b[0;34m)\u001b[0m\u001b[0;34m\u001b[0m\u001b[0m\n",
      "\u001b[0;32m<ipython-input-162-ed8731024d48>\u001b[0m in \u001b[0;36mfind_min\u001b[0;34m(guess, upper_lim)\u001b[0m\n\u001b[1;32m     34\u001b[0m             \u001b[0;31m# maybe better to search backward\u001b[0m\u001b[0;34m\u001b[0m\u001b[0;34m\u001b[0m\u001b[0m\n\u001b[1;32m     35\u001b[0m             \u001b[0;31m#upper_lim = guess\u001b[0m\u001b[0;34m\u001b[0m\u001b[0;34m\u001b[0m\u001b[0m\n\u001b[0;32m---> 36\u001b[0;31m             \u001b[0msearch_interval\u001b[0m\u001b[0;34m(\u001b[0m\u001b[0mguess\u001b[0m\u001b[0;34m)\u001b[0m\u001b[0;34m\u001b[0m\u001b[0m\n\u001b[0m\u001b[1;32m     37\u001b[0m     \u001b[0;32melse\u001b[0m\u001b[0;34m:\u001b[0m\u001b[0;34m\u001b[0m\u001b[0m\n\u001b[1;32m     38\u001b[0m     \u001b[0;31m#    if guess * 2 > upper_lim:\u001b[0m\u001b[0;34m\u001b[0m\u001b[0;34m\u001b[0m\u001b[0m\n",
      "\u001b[0;32m<ipython-input-162-ed8731024d48>\u001b[0m in \u001b[0;36msearch_interval\u001b[0;34m(guess)\u001b[0m\n\u001b[1;32m      9\u001b[0m         \u001b[0;31m#    return\u001b[0m\u001b[0;34m\u001b[0m\u001b[0;34m\u001b[0m\u001b[0m\n\u001b[1;32m     10\u001b[0m         \u001b[0mprint\u001b[0m\u001b[0;34m(\u001b[0m\u001b[0;34m\"I'm here fam 1\"\u001b[0m\u001b[0;34m)\u001b[0m\u001b[0;34m\u001b[0m\u001b[0m\n\u001b[0;32m---> 11\u001b[0;31m         \u001b[0mfind_min\u001b[0m\u001b[0;34m(\u001b[0m\u001b[0mguess\u001b[0m\u001b[0;34m)\u001b[0m\u001b[0;34m\u001b[0m\u001b[0m\n\u001b[0m\u001b[1;32m     12\u001b[0m     \u001b[0;32melif\u001b[0m \u001b[0mpi_error\u001b[0m\u001b[0;34m(\u001b[0m\u001b[0mguess\u001b[0m\u001b[0;34m)\u001b[0m \u001b[0;34m>\u001b[0m \u001b[0;36m0.000001\u001b[0m\u001b[0;34m:\u001b[0m\u001b[0;34m\u001b[0m\u001b[0m\n\u001b[1;32m     13\u001b[0m         \u001b[0mmid\u001b[0m \u001b[0;34m=\u001b[0m \u001b[0mmath\u001b[0m\u001b[0;34m.\u001b[0m\u001b[0mfloor\u001b[0m\u001b[0;34m(\u001b[0m\u001b[0;34m(\u001b[0m\u001b[0mguess\u001b[0m \u001b[0;34m+\u001b[0m \u001b[0;34m(\u001b[0m\u001b[0mguess\u001b[0m\u001b[0;34m/\u001b[0m\u001b[0;36m2\u001b[0m\u001b[0;34m)\u001b[0m\u001b[0;34m)\u001b[0m\u001b[0;34m/\u001b[0m\u001b[0;36m2\u001b[0m\u001b[0;34m)\u001b[0m\u001b[0;34m\u001b[0m\u001b[0m\n",
      "\u001b[0;32m<ipython-input-162-ed8731024d48>\u001b[0m in \u001b[0;36mfind_min\u001b[0;34m(guess, upper_lim)\u001b[0m\n\u001b[1;32m     34\u001b[0m             \u001b[0;31m# maybe better to search backward\u001b[0m\u001b[0;34m\u001b[0m\u001b[0;34m\u001b[0m\u001b[0m\n\u001b[1;32m     35\u001b[0m             \u001b[0;31m#upper_lim = guess\u001b[0m\u001b[0;34m\u001b[0m\u001b[0;34m\u001b[0m\u001b[0m\n\u001b[0;32m---> 36\u001b[0;31m             \u001b[0msearch_interval\u001b[0m\u001b[0;34m(\u001b[0m\u001b[0mguess\u001b[0m\u001b[0;34m)\u001b[0m\u001b[0;34m\u001b[0m\u001b[0m\n\u001b[0m\u001b[1;32m     37\u001b[0m     \u001b[0;32melse\u001b[0m\u001b[0;34m:\u001b[0m\u001b[0;34m\u001b[0m\u001b[0m\n\u001b[1;32m     38\u001b[0m     \u001b[0;31m#    if guess * 2 > upper_lim:\u001b[0m\u001b[0;34m\u001b[0m\u001b[0;34m\u001b[0m\u001b[0m\n",
      "\u001b[0;32m<ipython-input-162-ed8731024d48>\u001b[0m in \u001b[0;36msearch_interval\u001b[0;34m(guess)\u001b[0m\n\u001b[1;32m      9\u001b[0m         \u001b[0;31m#    return\u001b[0m\u001b[0;34m\u001b[0m\u001b[0;34m\u001b[0m\u001b[0m\n\u001b[1;32m     10\u001b[0m         \u001b[0mprint\u001b[0m\u001b[0;34m(\u001b[0m\u001b[0;34m\"I'm here fam 1\"\u001b[0m\u001b[0;34m)\u001b[0m\u001b[0;34m\u001b[0m\u001b[0m\n\u001b[0;32m---> 11\u001b[0;31m         \u001b[0mfind_min\u001b[0m\u001b[0;34m(\u001b[0m\u001b[0mguess\u001b[0m\u001b[0;34m)\u001b[0m\u001b[0;34m\u001b[0m\u001b[0m\n\u001b[0m\u001b[1;32m     12\u001b[0m     \u001b[0;32melif\u001b[0m \u001b[0mpi_error\u001b[0m\u001b[0;34m(\u001b[0m\u001b[0mguess\u001b[0m\u001b[0;34m)\u001b[0m \u001b[0;34m>\u001b[0m \u001b[0;36m0.000001\u001b[0m\u001b[0;34m:\u001b[0m\u001b[0;34m\u001b[0m\u001b[0m\n\u001b[1;32m     13\u001b[0m         \u001b[0mmid\u001b[0m \u001b[0;34m=\u001b[0m \u001b[0mmath\u001b[0m\u001b[0;34m.\u001b[0m\u001b[0mfloor\u001b[0m\u001b[0;34m(\u001b[0m\u001b[0;34m(\u001b[0m\u001b[0mguess\u001b[0m \u001b[0;34m+\u001b[0m \u001b[0;34m(\u001b[0m\u001b[0mguess\u001b[0m\u001b[0;34m/\u001b[0m\u001b[0;36m2\u001b[0m\u001b[0;34m)\u001b[0m\u001b[0;34m)\u001b[0m\u001b[0;34m/\u001b[0m\u001b[0;36m2\u001b[0m\u001b[0;34m)\u001b[0m\u001b[0;34m\u001b[0m\u001b[0m\n",
      "\u001b[0;32m<ipython-input-162-ed8731024d48>\u001b[0m in \u001b[0;36mfind_min\u001b[0;34m(guess, upper_lim)\u001b[0m\n\u001b[1;32m     38\u001b[0m     \u001b[0;31m#    if guess * 2 > upper_lim:\u001b[0m\u001b[0;34m\u001b[0m\u001b[0;34m\u001b[0m\u001b[0m\n\u001b[1;32m     39\u001b[0m     \u001b[0;31m#        print(\"I'm here fam 3\")\u001b[0m\u001b[0;34m\u001b[0m\u001b[0;34m\u001b[0m\u001b[0m\n\u001b[0;32m---> 40\u001b[0;31m             \u001b[0msearch_interval\u001b[0m\u001b[0;34m(\u001b[0m\u001b[0mguess\u001b[0m\u001b[0;34m)\u001b[0m\u001b[0;34m\u001b[0m\u001b[0m\n\u001b[0m\u001b[1;32m     41\u001b[0m     \u001b[0;31m#    else:\u001b[0m\u001b[0;34m\u001b[0m\u001b[0;34m\u001b[0m\u001b[0m\n\u001b[1;32m     42\u001b[0m     \u001b[0;31m#        guess = guess * 2\u001b[0m\u001b[0;34m\u001b[0m\u001b[0;34m\u001b[0m\u001b[0m\n",
      "\u001b[0;32m<ipython-input-162-ed8731024d48>\u001b[0m in \u001b[0;36msearch_interval\u001b[0;34m(guess)\u001b[0m\n\u001b[1;32m     17\u001b[0m         \u001b[0mprint\u001b[0m\u001b[0;34m(\u001b[0m\u001b[0;34m\"DIFF = {}\"\u001b[0m\u001b[0;34m.\u001b[0m\u001b[0mformat\u001b[0m\u001b[0;34m(\u001b[0m\u001b[0mguess\u001b[0m \u001b[0;34m-\u001b[0m \u001b[0mmid\u001b[0m\u001b[0;34m)\u001b[0m\u001b[0;34m)\u001b[0m\u001b[0;34m\u001b[0m\u001b[0m\n\u001b[1;32m     18\u001b[0m         \u001b[0;31m#guess = guess + mid\u001b[0m\u001b[0;34m\u001b[0m\u001b[0;34m\u001b[0m\u001b[0m\n\u001b[0;32m---> 19\u001b[0;31m         \u001b[0mfind_min\u001b[0m\u001b[0;34m(\u001b[0m\u001b[0mguess\u001b[0m\u001b[0;34m)\u001b[0m\u001b[0;34m\u001b[0m\u001b[0m\n\u001b[0m\u001b[1;32m     20\u001b[0m     \u001b[0;32melse\u001b[0m\u001b[0;34m:\u001b[0m\u001b[0;34m\u001b[0m\u001b[0m\n\u001b[1;32m     21\u001b[0m         \u001b[0mprint\u001b[0m\u001b[0;34m(\u001b[0m\u001b[0;34m\"Finally it's happened to me, right in front of my face and I just can not hide it. FIIINALLY YHH\"\u001b[0m\u001b[0;34m)\u001b[0m\u001b[0;34m\u001b[0m\u001b[0m\n",
      "\u001b[0;32m<ipython-input-162-ed8731024d48>\u001b[0m in \u001b[0;36mfind_min\u001b[0;34m(guess, upper_lim)\u001b[0m\n\u001b[1;32m     34\u001b[0m             \u001b[0;31m# maybe better to search backward\u001b[0m\u001b[0;34m\u001b[0m\u001b[0;34m\u001b[0m\u001b[0m\n\u001b[1;32m     35\u001b[0m             \u001b[0;31m#upper_lim = guess\u001b[0m\u001b[0;34m\u001b[0m\u001b[0;34m\u001b[0m\u001b[0m\n\u001b[0;32m---> 36\u001b[0;31m             \u001b[0msearch_interval\u001b[0m\u001b[0;34m(\u001b[0m\u001b[0mguess\u001b[0m\u001b[0;34m)\u001b[0m\u001b[0;34m\u001b[0m\u001b[0m\n\u001b[0m\u001b[1;32m     37\u001b[0m     \u001b[0;32melse\u001b[0m\u001b[0;34m:\u001b[0m\u001b[0;34m\u001b[0m\u001b[0m\n\u001b[1;32m     38\u001b[0m     \u001b[0;31m#    if guess * 2 > upper_lim:\u001b[0m\u001b[0;34m\u001b[0m\u001b[0;34m\u001b[0m\u001b[0m\n",
      "\u001b[0;32m<ipython-input-162-ed8731024d48>\u001b[0m in \u001b[0;36msearch_interval\u001b[0;34m(guess)\u001b[0m\n\u001b[1;32m      9\u001b[0m         \u001b[0;31m#    return\u001b[0m\u001b[0;34m\u001b[0m\u001b[0;34m\u001b[0m\u001b[0m\n\u001b[1;32m     10\u001b[0m         \u001b[0mprint\u001b[0m\u001b[0;34m(\u001b[0m\u001b[0;34m\"I'm here fam 1\"\u001b[0m\u001b[0;34m)\u001b[0m\u001b[0;34m\u001b[0m\u001b[0m\n\u001b[0;32m---> 11\u001b[0;31m         \u001b[0mfind_min\u001b[0m\u001b[0;34m(\u001b[0m\u001b[0mguess\u001b[0m\u001b[0;34m)\u001b[0m\u001b[0;34m\u001b[0m\u001b[0m\n\u001b[0m\u001b[1;32m     12\u001b[0m     \u001b[0;32melif\u001b[0m \u001b[0mpi_error\u001b[0m\u001b[0;34m(\u001b[0m\u001b[0mguess\u001b[0m\u001b[0;34m)\u001b[0m \u001b[0;34m>\u001b[0m \u001b[0;36m0.000001\u001b[0m\u001b[0;34m:\u001b[0m\u001b[0;34m\u001b[0m\u001b[0m\n\u001b[1;32m     13\u001b[0m         \u001b[0mmid\u001b[0m \u001b[0;34m=\u001b[0m \u001b[0mmath\u001b[0m\u001b[0;34m.\u001b[0m\u001b[0mfloor\u001b[0m\u001b[0;34m(\u001b[0m\u001b[0;34m(\u001b[0m\u001b[0mguess\u001b[0m \u001b[0;34m+\u001b[0m \u001b[0;34m(\u001b[0m\u001b[0mguess\u001b[0m\u001b[0;34m/\u001b[0m\u001b[0;36m2\u001b[0m\u001b[0;34m)\u001b[0m\u001b[0;34m)\u001b[0m\u001b[0;34m/\u001b[0m\u001b[0;36m2\u001b[0m\u001b[0;34m)\u001b[0m\u001b[0;34m\u001b[0m\u001b[0m\n",
      "\u001b[0;32m<ipython-input-162-ed8731024d48>\u001b[0m in \u001b[0;36mfind_min\u001b[0;34m(guess, upper_lim)\u001b[0m\n\u001b[1;32m     38\u001b[0m     \u001b[0;31m#    if guess * 2 > upper_lim:\u001b[0m\u001b[0;34m\u001b[0m\u001b[0;34m\u001b[0m\u001b[0m\n\u001b[1;32m     39\u001b[0m     \u001b[0;31m#        print(\"I'm here fam 3\")\u001b[0m\u001b[0;34m\u001b[0m\u001b[0;34m\u001b[0m\u001b[0m\n\u001b[0;32m---> 40\u001b[0;31m             \u001b[0msearch_interval\u001b[0m\u001b[0;34m(\u001b[0m\u001b[0mguess\u001b[0m\u001b[0;34m)\u001b[0m\u001b[0;34m\u001b[0m\u001b[0m\n\u001b[0m\u001b[1;32m     41\u001b[0m     \u001b[0;31m#    else:\u001b[0m\u001b[0;34m\u001b[0m\u001b[0;34m\u001b[0m\u001b[0m\n\u001b[1;32m     42\u001b[0m     \u001b[0;31m#        guess = guess * 2\u001b[0m\u001b[0;34m\u001b[0m\u001b[0;34m\u001b[0m\u001b[0m\n",
      "\u001b[0;32m<ipython-input-162-ed8731024d48>\u001b[0m in \u001b[0;36msearch_interval\u001b[0;34m(guess)\u001b[0m\n\u001b[1;32m     17\u001b[0m         \u001b[0mprint\u001b[0m\u001b[0;34m(\u001b[0m\u001b[0;34m\"DIFF = {}\"\u001b[0m\u001b[0;34m.\u001b[0m\u001b[0mformat\u001b[0m\u001b[0;34m(\u001b[0m\u001b[0mguess\u001b[0m \u001b[0;34m-\u001b[0m \u001b[0mmid\u001b[0m\u001b[0;34m)\u001b[0m\u001b[0;34m)\u001b[0m\u001b[0;34m\u001b[0m\u001b[0m\n\u001b[1;32m     18\u001b[0m         \u001b[0;31m#guess = guess + mid\u001b[0m\u001b[0;34m\u001b[0m\u001b[0;34m\u001b[0m\u001b[0m\n\u001b[0;32m---> 19\u001b[0;31m         \u001b[0mfind_min\u001b[0m\u001b[0;34m(\u001b[0m\u001b[0mguess\u001b[0m\u001b[0;34m)\u001b[0m\u001b[0;34m\u001b[0m\u001b[0m\n\u001b[0m\u001b[1;32m     20\u001b[0m     \u001b[0;32melse\u001b[0m\u001b[0;34m:\u001b[0m\u001b[0;34m\u001b[0m\u001b[0m\n\u001b[1;32m     21\u001b[0m         \u001b[0mprint\u001b[0m\u001b[0;34m(\u001b[0m\u001b[0;34m\"Finally it's happened to me, right in front of my face and I just can not hide it. FIIINALLY YHH\"\u001b[0m\u001b[0;34m)\u001b[0m\u001b[0;34m\u001b[0m\u001b[0m\n",
      "\u001b[0;32m<ipython-input-162-ed8731024d48>\u001b[0m in \u001b[0;36mfind_min\u001b[0;34m(guess, upper_lim)\u001b[0m\n\u001b[1;32m     27\u001b[0m \u001b[0;34m\u001b[0m\u001b[0m\n\u001b[1;32m     28\u001b[0m     \u001b[0mprint\u001b[0m\u001b[0;34m(\u001b[0m\u001b[0;34m\"Guessing {}\"\u001b[0m\u001b[0;34m.\u001b[0m\u001b[0mformat\u001b[0m\u001b[0;34m(\u001b[0m\u001b[0mguess\u001b[0m\u001b[0;34m)\u001b[0m\u001b[0;34m)\u001b[0m\u001b[0;34m\u001b[0m\u001b[0m\n\u001b[0;32m---> 29\u001b[0;31m     \u001b[0;32mif\u001b[0m \u001b[0mpi_error\u001b[0m\u001b[0;34m(\u001b[0m\u001b[0mguess\u001b[0m\u001b[0;34m)\u001b[0m \u001b[0;34m<\u001b[0m \u001b[0;36m0.000001\u001b[0m\u001b[0;34m:\u001b[0m\u001b[0;34m\u001b[0m\u001b[0m\n\u001b[0m\u001b[1;32m     30\u001b[0m             \u001b[0mprint\u001b[0m\u001b[0;34m(\u001b[0m\u001b[0;34m\"Got 'eeeem at {}\"\u001b[0m\u001b[0;34m.\u001b[0m\u001b[0mformat\u001b[0m\u001b[0;34m(\u001b[0m\u001b[0mguess\u001b[0m\u001b[0;34m)\u001b[0m\u001b[0;34m)\u001b[0m\u001b[0;34m\u001b[0m\u001b[0m\n\u001b[1;32m     31\u001b[0m             \u001b[0;31m# The true min will be equal to or at least less that the above discovered result\u001b[0m\u001b[0;34m\u001b[0m\u001b[0;34m\u001b[0m\u001b[0m\n",
      "\u001b[0;32m<ipython-input-117-25bf872ad899>\u001b[0m in \u001b[0;36mpi_error\u001b[0;34m(N)\u001b[0m\n\u001b[1;32m      1\u001b[0m \u001b[0;32mdef\u001b[0m \u001b[0mpi_error\u001b[0m\u001b[0;34m(\u001b[0m\u001b[0mN\u001b[0m\u001b[0;34m)\u001b[0m\u001b[0;34m:\u001b[0m\u001b[0;34m\u001b[0m\u001b[0m\n\u001b[1;32m      2\u001b[0m \u001b[0;34m\u001b[0m\u001b[0m\n\u001b[0;32m----> 3\u001b[0;31m     \u001b[0mpi_err\u001b[0m \u001b[0;34m=\u001b[0m \u001b[0mnp\u001b[0m\u001b[0;34m.\u001b[0m\u001b[0mabs\u001b[0m\u001b[0;34m(\u001b[0m\u001b[0mpi_true\u001b[0m \u001b[0;34m-\u001b[0m \u001b[0mpi_approx\u001b[0m\u001b[0;34m(\u001b[0m\u001b[0mN\u001b[0m\u001b[0;34m)\u001b[0m\u001b[0;34m)\u001b[0m\u001b[0;34m\u001b[0m\u001b[0m\n\u001b[0m\u001b[1;32m      4\u001b[0m \u001b[0;34m\u001b[0m\u001b[0m\n\u001b[1;32m      5\u001b[0m     \u001b[0;31m#print(\"The true value of pi = {}, the approxiamtion = {}\".format(pi_true, pi_approx(N)))\u001b[0m\u001b[0;34m\u001b[0m\u001b[0;34m\u001b[0m\u001b[0m\n",
      "\u001b[0;32m<ipython-input-115-258975f3fb03>\u001b[0m in \u001b[0;36mpi_approx\u001b[0;34m(N)\u001b[0m\n\u001b[1;32m      3\u001b[0m     \u001b[0;32mfor\u001b[0m \u001b[0mi\u001b[0m \u001b[0;32min\u001b[0m \u001b[0mrange\u001b[0m\u001b[0;34m(\u001b[0m\u001b[0mN\u001b[0m\u001b[0;34m)\u001b[0m\u001b[0;34m:\u001b[0m\u001b[0;34m\u001b[0m\u001b[0m\n\u001b[1;32m      4\u001b[0m         \u001b[0malpha\u001b[0m  \u001b[0;34m=\u001b[0m \u001b[0;34m(\u001b[0m\u001b[0mi\u001b[0m \u001b[0;34m-\u001b[0m \u001b[0;36m0.5\u001b[0m\u001b[0;34m)\u001b[0m\u001b[0;34m/\u001b[0m\u001b[0mN\u001b[0m\u001b[0;34m\u001b[0m\u001b[0m\n\u001b[0;32m----> 5\u001b[0;31m         \u001b[0msummation\u001b[0m \u001b[0;34m=\u001b[0m \u001b[0msummation\u001b[0m \u001b[0;34m+\u001b[0m \u001b[0;36m1\u001b[0m \u001b[0;34m/\u001b[0m \u001b[0;34m(\u001b[0m\u001b[0;36m1\u001b[0m \u001b[0;34m+\u001b[0m \u001b[0malpha\u001b[0m\u001b[0;34m**\u001b[0m\u001b[0;36m2\u001b[0m\u001b[0;34m)\u001b[0m\u001b[0;34m\u001b[0m\u001b[0m\n\u001b[0m\u001b[1;32m      6\u001b[0m         \u001b[0;31m#print(\"i = {} and summation = {}\".format(i, summation))\u001b[0m\u001b[0;34m\u001b[0m\u001b[0;34m\u001b[0m\u001b[0m\n\u001b[1;32m      7\u001b[0m \u001b[0;34m\u001b[0m\u001b[0m\n",
      "\u001b[0;31mKeyboardInterrupt\u001b[0m: "
     ]
    }
   ],
   "source": [
    "import math\n",
    "\n",
    "def search_interval(guess):\n",
    "    if pi_error(guess) < 0.000001:\n",
    "        mid = math.floor((guess - (guess/2))/2)\n",
    "        guess = math.floor(guess - mid)\n",
    "        #guesses.append(guess)\n",
    "        print(\"DIFF = {}\".format(guess - mid))\n",
    "        #    return\n",
    "        print(\"I'm here fam 1\")\n",
    "        find_min(guess)\n",
    "    elif pi_error(guess) > 0.000001:\n",
    "        mid = math.floor((guess + (guess/2))/2)\n",
    "        guess = math.floor((guess + (guess/2)))\n",
    "        print(\"I'm here fam 2\")\n",
    "        #guesses.append(guess)\n",
    "        print(\"DIFF = {}\".format(guess - mid))\n",
    "        #guess = guess + mid\n",
    "        find_min(guess)\n",
    "    else:\n",
    "        print(\"Finally it's happened to me, right in front of my face and I just can not hide it. FIIINALLY YHH\")\n",
    "        \n",
    "    \n",
    "\n",
    "#guess = 10\n",
    "def find_min(guess, upper_lim=100000000):\n",
    "    \n",
    "    print(\"Guessing {}\".format(guess))\n",
    "    if pi_error(guess) < 0.000001:\n",
    "            print(\"Got 'eeeem at {}\".format(guess))\n",
    "            # The true min will be equal to or at least less that the above discovered result\n",
    "            # Therefore, we shall look in the interval using the above result as an upper limit\n",
    "            print(\"Now looking for true min in closet interval range...\")\n",
    "            # maybe better to search backward\n",
    "            #upper_lim = guess\n",
    "            search_interval(guess)\n",
    "    else:\n",
    "    #    if guess * 2 > upper_lim:\n",
    "    #        print(\"I'm here fam 3\")\n",
    "            search_interval(guess)\n",
    "    #    else:\n",
    "    #        guess = guess * 2\n",
    "    #        print(\"I'm here fam 4\")\n",
    "    #        find_min(guess)\n",
    "        \n",
    "#find_min(guess)\n",
    "search_interval(guess)"
   ]
  },
  {
   "cell_type": "code",
   "execution_count": 90,
   "metadata": {
    "collapsed": false
   },
   "outputs": [
    {
     "name": "stdout",
     "output_type": "stream",
     "text": [
      "Guessing 10\n",
      "Guessing 20\n",
      "Guessing 40\n",
      "Guessing 80\n",
      "Guessing 160\n",
      "Guessing 320\n",
      "Guessing 640\n",
      "Guessing 1280\n",
      "Guessing 2560\n",
      "Guessing 5120\n",
      "Guessing 10240\n",
      "Guessing 20480\n",
      "Guessing 40960\n",
      "Guessing 81920\n",
      "Guessing 163840\n",
      "Guessing 327680\n",
      "Guessing 655360\n",
      "Guessing 1310720\n",
      "Guessing 2621440\n",
      "Got 'eeeem at 2621440\n",
      "Now looking for true min in closet interval range...\n",
      "New guess 1 = 1966080\n",
      "New upperlim 1 = 2621440\n",
      "Guessing 1966080\n",
      "It's toooo high!!\n",
      "New guess 1 = 1474560\n",
      "New upperlim 1 = 1966080\n",
      "Guessing 1474560\n",
      "It's toooo high!!\n",
      "New guess 1 = 1105920\n",
      "New upperlim 1 = 1474560\n",
      "Guessing 1105920\n",
      "It's toooo high!!\n",
      "New guess 1 = 829440\n",
      "New upperlim 1 = 1105920\n",
      "Guessing 829440\n",
      "It's toooo high!!\n",
      "New guess 1 = 622080\n",
      "New upperlim 1 = 829440\n",
      "Guessing 622080\n",
      "It's toooo high!!\n",
      "New guess 1 = 466560\n",
      "New upperlim 1 = 622080\n",
      "Guessing 466560\n",
      "It's toooo high!!\n",
      "New guess 1 = 349920\n",
      "New upperlim 1 = 466560\n",
      "Guessing 349920\n",
      "It's toooo high!!\n",
      "New guess 1 = 262440\n",
      "New upperlim 1 = 349920\n",
      "Guessing 262440\n",
      "It's toooo high!!\n",
      "New guess 1 = 196830\n",
      "New upperlim 1 = 262440\n",
      "Guessing 196830\n",
      "It's toooo high!!\n",
      "New guess 1 = 147623\n",
      "New upperlim 1 = 196830\n",
      "Guessing 147623\n",
      "It's toooo high!!\n",
      "New guess 1 = 110717\n",
      "New upperlim 1 = 147623\n",
      "Guessing 110717\n",
      "It's toooo high!!\n",
      "New guess 1 = 83038\n",
      "New upperlim 1 = 110717\n",
      "Guessing 83038\n",
      "It's toooo high!!\n",
      "New guess 1 = 62279\n",
      "New upperlim 1 = 83038\n",
      "Guessing 62279\n",
      "It's toooo high!!\n",
      "New guess 1 = 46709\n",
      "New upperlim 1 = 62279\n",
      "Guessing 46709\n",
      "It's toooo high!!\n",
      "New guess 1 = 35032\n",
      "New upperlim 1 = 46709\n",
      "Guessing 35032\n",
      "It's toooo high!!\n",
      "New guess 1 = 26274\n",
      "New upperlim 1 = 35032\n",
      "Guessing 26274\n",
      "It's toooo high!!\n",
      "New guess 1 = 19706\n",
      "New upperlim 1 = 26274\n",
      "Guessing 19706\n",
      "It's toooo high!!\n",
      "New guess 1 = 14780\n",
      "New upperlim 1 = 19706\n",
      "Guessing 14780\n",
      "It's toooo high!!\n",
      "New guess 1 = 11085\n",
      "New upperlim 1 = 14780\n",
      "Guessing 11085\n",
      "It's toooo high!!\n",
      "New guess 1 = 8314\n",
      "New upperlim 1 = 11085\n",
      "Guessing 8314\n",
      "It's toooo high!!\n",
      "New guess 1 = 6236\n",
      "New upperlim 1 = 8314\n",
      "Guessing 6236\n",
      "It's toooo high!!\n",
      "New guess 1 = 4677\n",
      "New upperlim 1 = 6236\n",
      "Guessing 4677\n",
      "It's toooo high!!\n",
      "New guess 1 = 3508\n",
      "New upperlim 1 = 4677\n",
      "Guessing 3508\n",
      "It's toooo high!!\n",
      "New guess 1 = 2631\n",
      "New upperlim 1 = 3508\n",
      "Guessing 2631\n",
      "It's toooo high!!\n",
      "New guess 1 = 1973\n",
      "New upperlim 1 = 2631\n",
      "Guessing 1973\n",
      "It's toooo high!!\n",
      "New guess 1 = 1480\n",
      "New upperlim 1 = 1973\n",
      "Guessing 1480\n",
      "It's toooo high!!\n",
      "New guess 1 = 1110\n",
      "New upperlim 1 = 1480\n",
      "Guessing 1110\n",
      "It's toooo high!!\n",
      "New guess 1 = 833\n",
      "New upperlim 1 = 1110\n",
      "Guessing 833\n",
      "It's toooo high!!\n",
      "New guess 1 = 625\n",
      "New upperlim 1 = 833\n",
      "Guessing 625\n",
      "It's toooo high!!\n",
      "New guess 1 = 469\n",
      "New upperlim 1 = 625\n",
      "Guessing 469\n",
      "It's toooo high!!\n",
      "New guess 1 = 352\n",
      "New upperlim 1 = 469\n",
      "Guessing 352\n",
      "It's toooo high!!\n",
      "New guess 1 = 264\n",
      "New upperlim 1 = 352\n",
      "Guessing 264\n",
      "It's toooo high!!\n",
      "New guess 1 = 198\n",
      "New upperlim 1 = 264\n",
      "Guessing 198\n",
      "It's toooo high!!\n",
      "New guess 1 = 149\n",
      "New upperlim 1 = 198\n",
      "Guessing 149\n",
      "It's toooo high!!\n",
      "New guess 1 = 112\n",
      "New upperlim 1 = 149\n",
      "Guessing 112\n",
      "It's toooo high!!\n",
      "New guess 1 = 84\n",
      "New upperlim 1 = 112\n",
      "Guessing 84\n",
      "It's toooo high!!\n",
      "New guess 1 = 63\n",
      "New upperlim 1 = 84\n",
      "Guessing 63\n",
      "It's toooo high!!\n",
      "New guess 1 = 47\n",
      "New upperlim 1 = 63\n",
      "Guessing 47\n",
      "It's toooo high!!\n",
      "New guess 1 = 35\n",
      "New upperlim 1 = 47\n",
      "Guessing 35\n",
      "It's toooo high!!\n",
      "New guess 1 = 26\n",
      "New upperlim 1 = 35\n",
      "Guessing 26\n",
      "It's toooo high!!\n",
      "New guess 1 = 20\n",
      "New upperlim 1 = 26\n",
      "Guessing 20\n",
      "It's toooo high!!\n",
      "New guess 1 = 15\n",
      "New upperlim 1 = 20\n",
      "Guessing 15\n",
      "It's toooo high!!\n",
      "Got 'eeeem at 11\n"
     ]
    },
    {
     "ename": "TypeError",
     "evalue": "'NoneType' object is not iterable",
     "output_type": "error",
     "traceback": [
      "\u001b[0;31m---------------------------------------------------------------------------\u001b[0m",
      "\u001b[0;31mTypeError\u001b[0m                                 Traceback (most recent call last)",
      "\u001b[0;32m<ipython-input-90-1a7ae728f27c>\u001b[0m in \u001b[0;36m<module>\u001b[0;34m()\u001b[0m\n\u001b[1;32m    100\u001b[0m             \u001b[0mfind_min\u001b[0m\u001b[0;34m(\u001b[0m\u001b[0mguess\u001b[0m\u001b[0;34m)\u001b[0m\u001b[0;34m\u001b[0m\u001b[0m\n\u001b[1;32m    101\u001b[0m \u001b[0;34m\u001b[0m\u001b[0m\n\u001b[0;32m--> 102\u001b[0;31m \u001b[0mfind_min\u001b[0m\u001b[0;34m(\u001b[0m\u001b[0mguess\u001b[0m\u001b[0;34m)\u001b[0m\u001b[0;34m\u001b[0m\u001b[0m\n\u001b[0m\u001b[1;32m    103\u001b[0m \u001b[0;34m\u001b[0m\u001b[0m\n\u001b[1;32m    104\u001b[0m \u001b[0;34m\u001b[0m\u001b[0m\n",
      "\u001b[0;32m<ipython-input-90-1a7ae728f27c>\u001b[0m in \u001b[0;36mfind_min\u001b[0;34m(guess, upper_lim)\u001b[0m\n\u001b[1;32m     98\u001b[0m         \u001b[0;32melse\u001b[0m\u001b[0;34m:\u001b[0m\u001b[0;34m\u001b[0m\u001b[0m\n\u001b[1;32m     99\u001b[0m             \u001b[0mguess\u001b[0m \u001b[0;34m=\u001b[0m \u001b[0mguess\u001b[0m \u001b[0;34m*\u001b[0m \u001b[0;36m2\u001b[0m\u001b[0;34m\u001b[0m\u001b[0m\n\u001b[0;32m--> 100\u001b[0;31m             \u001b[0mfind_min\u001b[0m\u001b[0;34m(\u001b[0m\u001b[0mguess\u001b[0m\u001b[0;34m)\u001b[0m\u001b[0;34m\u001b[0m\u001b[0m\n\u001b[0m\u001b[1;32m    101\u001b[0m \u001b[0;34m\u001b[0m\u001b[0m\n\u001b[1;32m    102\u001b[0m \u001b[0mfind_min\u001b[0m\u001b[0;34m(\u001b[0m\u001b[0mguess\u001b[0m\u001b[0;34m)\u001b[0m\u001b[0;34m\u001b[0m\u001b[0m\n",
      "\u001b[0;32m<ipython-input-90-1a7ae728f27c>\u001b[0m in \u001b[0;36mfind_min\u001b[0;34m(guess, upper_lim)\u001b[0m\n\u001b[1;32m     98\u001b[0m         \u001b[0;32melse\u001b[0m\u001b[0;34m:\u001b[0m\u001b[0;34m\u001b[0m\u001b[0m\n\u001b[1;32m     99\u001b[0m             \u001b[0mguess\u001b[0m \u001b[0;34m=\u001b[0m \u001b[0mguess\u001b[0m \u001b[0;34m*\u001b[0m \u001b[0;36m2\u001b[0m\u001b[0;34m\u001b[0m\u001b[0m\n\u001b[0;32m--> 100\u001b[0;31m             \u001b[0mfind_min\u001b[0m\u001b[0;34m(\u001b[0m\u001b[0mguess\u001b[0m\u001b[0;34m)\u001b[0m\u001b[0;34m\u001b[0m\u001b[0m\n\u001b[0m\u001b[1;32m    101\u001b[0m \u001b[0;34m\u001b[0m\u001b[0m\n\u001b[1;32m    102\u001b[0m \u001b[0mfind_min\u001b[0m\u001b[0;34m(\u001b[0m\u001b[0mguess\u001b[0m\u001b[0;34m)\u001b[0m\u001b[0;34m\u001b[0m\u001b[0m\n",
      "\u001b[0;32m<ipython-input-90-1a7ae728f27c>\u001b[0m in \u001b[0;36mfind_min\u001b[0;34m(guess, upper_lim)\u001b[0m\n\u001b[1;32m     98\u001b[0m         \u001b[0;32melse\u001b[0m\u001b[0;34m:\u001b[0m\u001b[0;34m\u001b[0m\u001b[0m\n\u001b[1;32m     99\u001b[0m             \u001b[0mguess\u001b[0m \u001b[0;34m=\u001b[0m \u001b[0mguess\u001b[0m \u001b[0;34m*\u001b[0m \u001b[0;36m2\u001b[0m\u001b[0;34m\u001b[0m\u001b[0m\n\u001b[0;32m--> 100\u001b[0;31m             \u001b[0mfind_min\u001b[0m\u001b[0;34m(\u001b[0m\u001b[0mguess\u001b[0m\u001b[0;34m)\u001b[0m\u001b[0;34m\u001b[0m\u001b[0m\n\u001b[0m\u001b[1;32m    101\u001b[0m \u001b[0;34m\u001b[0m\u001b[0m\n\u001b[1;32m    102\u001b[0m \u001b[0mfind_min\u001b[0m\u001b[0;34m(\u001b[0m\u001b[0mguess\u001b[0m\u001b[0;34m)\u001b[0m\u001b[0;34m\u001b[0m\u001b[0m\n",
      "\u001b[0;32m<ipython-input-90-1a7ae728f27c>\u001b[0m in \u001b[0;36mfind_min\u001b[0;34m(guess, upper_lim)\u001b[0m\n\u001b[1;32m     98\u001b[0m         \u001b[0;32melse\u001b[0m\u001b[0;34m:\u001b[0m\u001b[0;34m\u001b[0m\u001b[0m\n\u001b[1;32m     99\u001b[0m             \u001b[0mguess\u001b[0m \u001b[0;34m=\u001b[0m \u001b[0mguess\u001b[0m \u001b[0;34m*\u001b[0m \u001b[0;36m2\u001b[0m\u001b[0;34m\u001b[0m\u001b[0m\n\u001b[0;32m--> 100\u001b[0;31m             \u001b[0mfind_min\u001b[0m\u001b[0;34m(\u001b[0m\u001b[0mguess\u001b[0m\u001b[0;34m)\u001b[0m\u001b[0;34m\u001b[0m\u001b[0m\n\u001b[0m\u001b[1;32m    101\u001b[0m \u001b[0;34m\u001b[0m\u001b[0m\n\u001b[1;32m    102\u001b[0m \u001b[0mfind_min\u001b[0m\u001b[0;34m(\u001b[0m\u001b[0mguess\u001b[0m\u001b[0;34m)\u001b[0m\u001b[0;34m\u001b[0m\u001b[0m\n",
      "\u001b[0;32m<ipython-input-90-1a7ae728f27c>\u001b[0m in \u001b[0;36mfind_min\u001b[0;34m(guess, upper_lim)\u001b[0m\n\u001b[1;32m     98\u001b[0m         \u001b[0;32melse\u001b[0m\u001b[0;34m:\u001b[0m\u001b[0;34m\u001b[0m\u001b[0m\n\u001b[1;32m     99\u001b[0m             \u001b[0mguess\u001b[0m \u001b[0;34m=\u001b[0m \u001b[0mguess\u001b[0m \u001b[0;34m*\u001b[0m \u001b[0;36m2\u001b[0m\u001b[0;34m\u001b[0m\u001b[0m\n\u001b[0;32m--> 100\u001b[0;31m             \u001b[0mfind_min\u001b[0m\u001b[0;34m(\u001b[0m\u001b[0mguess\u001b[0m\u001b[0;34m)\u001b[0m\u001b[0;34m\u001b[0m\u001b[0m\n\u001b[0m\u001b[1;32m    101\u001b[0m \u001b[0;34m\u001b[0m\u001b[0m\n\u001b[1;32m    102\u001b[0m \u001b[0mfind_min\u001b[0m\u001b[0;34m(\u001b[0m\u001b[0mguess\u001b[0m\u001b[0;34m)\u001b[0m\u001b[0;34m\u001b[0m\u001b[0m\n",
      "\u001b[0;32m<ipython-input-90-1a7ae728f27c>\u001b[0m in \u001b[0;36mfind_min\u001b[0;34m(guess, upper_lim)\u001b[0m\n\u001b[1;32m     98\u001b[0m         \u001b[0;32melse\u001b[0m\u001b[0;34m:\u001b[0m\u001b[0;34m\u001b[0m\u001b[0m\n\u001b[1;32m     99\u001b[0m             \u001b[0mguess\u001b[0m \u001b[0;34m=\u001b[0m \u001b[0mguess\u001b[0m \u001b[0;34m*\u001b[0m \u001b[0;36m2\u001b[0m\u001b[0;34m\u001b[0m\u001b[0m\n\u001b[0;32m--> 100\u001b[0;31m             \u001b[0mfind_min\u001b[0m\u001b[0;34m(\u001b[0m\u001b[0mguess\u001b[0m\u001b[0;34m)\u001b[0m\u001b[0;34m\u001b[0m\u001b[0m\n\u001b[0m\u001b[1;32m    101\u001b[0m \u001b[0;34m\u001b[0m\u001b[0m\n\u001b[1;32m    102\u001b[0m \u001b[0mfind_min\u001b[0m\u001b[0;34m(\u001b[0m\u001b[0mguess\u001b[0m\u001b[0;34m)\u001b[0m\u001b[0;34m\u001b[0m\u001b[0m\n",
      "\u001b[0;32m<ipython-input-90-1a7ae728f27c>\u001b[0m in \u001b[0;36mfind_min\u001b[0;34m(guess, upper_lim)\u001b[0m\n\u001b[1;32m     98\u001b[0m         \u001b[0;32melse\u001b[0m\u001b[0;34m:\u001b[0m\u001b[0;34m\u001b[0m\u001b[0m\n\u001b[1;32m     99\u001b[0m             \u001b[0mguess\u001b[0m \u001b[0;34m=\u001b[0m \u001b[0mguess\u001b[0m \u001b[0;34m*\u001b[0m \u001b[0;36m2\u001b[0m\u001b[0;34m\u001b[0m\u001b[0m\n\u001b[0;32m--> 100\u001b[0;31m             \u001b[0mfind_min\u001b[0m\u001b[0;34m(\u001b[0m\u001b[0mguess\u001b[0m\u001b[0;34m)\u001b[0m\u001b[0;34m\u001b[0m\u001b[0m\n\u001b[0m\u001b[1;32m    101\u001b[0m \u001b[0;34m\u001b[0m\u001b[0m\n\u001b[1;32m    102\u001b[0m \u001b[0mfind_min\u001b[0m\u001b[0;34m(\u001b[0m\u001b[0mguess\u001b[0m\u001b[0;34m)\u001b[0m\u001b[0;34m\u001b[0m\u001b[0m\n",
      "\u001b[0;32m<ipython-input-90-1a7ae728f27c>\u001b[0m in \u001b[0;36mfind_min\u001b[0;34m(guess, upper_lim)\u001b[0m\n\u001b[1;32m     98\u001b[0m         \u001b[0;32melse\u001b[0m\u001b[0;34m:\u001b[0m\u001b[0;34m\u001b[0m\u001b[0m\n\u001b[1;32m     99\u001b[0m             \u001b[0mguess\u001b[0m \u001b[0;34m=\u001b[0m \u001b[0mguess\u001b[0m \u001b[0;34m*\u001b[0m \u001b[0;36m2\u001b[0m\u001b[0;34m\u001b[0m\u001b[0m\n\u001b[0;32m--> 100\u001b[0;31m             \u001b[0mfind_min\u001b[0m\u001b[0;34m(\u001b[0m\u001b[0mguess\u001b[0m\u001b[0;34m)\u001b[0m\u001b[0;34m\u001b[0m\u001b[0m\n\u001b[0m\u001b[1;32m    101\u001b[0m \u001b[0;34m\u001b[0m\u001b[0m\n\u001b[1;32m    102\u001b[0m \u001b[0mfind_min\u001b[0m\u001b[0;34m(\u001b[0m\u001b[0mguess\u001b[0m\u001b[0;34m)\u001b[0m\u001b[0;34m\u001b[0m\u001b[0m\n",
      "\u001b[0;32m<ipython-input-90-1a7ae728f27c>\u001b[0m in \u001b[0;36mfind_min\u001b[0;34m(guess, upper_lim)\u001b[0m\n\u001b[1;32m     98\u001b[0m         \u001b[0;32melse\u001b[0m\u001b[0;34m:\u001b[0m\u001b[0;34m\u001b[0m\u001b[0m\n\u001b[1;32m     99\u001b[0m             \u001b[0mguess\u001b[0m \u001b[0;34m=\u001b[0m \u001b[0mguess\u001b[0m \u001b[0;34m*\u001b[0m \u001b[0;36m2\u001b[0m\u001b[0;34m\u001b[0m\u001b[0m\n\u001b[0;32m--> 100\u001b[0;31m             \u001b[0mfind_min\u001b[0m\u001b[0;34m(\u001b[0m\u001b[0mguess\u001b[0m\u001b[0;34m)\u001b[0m\u001b[0;34m\u001b[0m\u001b[0m\n\u001b[0m\u001b[1;32m    101\u001b[0m \u001b[0;34m\u001b[0m\u001b[0m\n\u001b[1;32m    102\u001b[0m \u001b[0mfind_min\u001b[0m\u001b[0;34m(\u001b[0m\u001b[0mguess\u001b[0m\u001b[0;34m)\u001b[0m\u001b[0;34m\u001b[0m\u001b[0m\n",
      "\u001b[0;32m<ipython-input-90-1a7ae728f27c>\u001b[0m in \u001b[0;36mfind_min\u001b[0;34m(guess, upper_lim)\u001b[0m\n\u001b[1;32m     98\u001b[0m         \u001b[0;32melse\u001b[0m\u001b[0;34m:\u001b[0m\u001b[0;34m\u001b[0m\u001b[0m\n\u001b[1;32m     99\u001b[0m             \u001b[0mguess\u001b[0m \u001b[0;34m=\u001b[0m \u001b[0mguess\u001b[0m \u001b[0;34m*\u001b[0m \u001b[0;36m2\u001b[0m\u001b[0;34m\u001b[0m\u001b[0m\n\u001b[0;32m--> 100\u001b[0;31m             \u001b[0mfind_min\u001b[0m\u001b[0;34m(\u001b[0m\u001b[0mguess\u001b[0m\u001b[0;34m)\u001b[0m\u001b[0;34m\u001b[0m\u001b[0m\n\u001b[0m\u001b[1;32m    101\u001b[0m \u001b[0;34m\u001b[0m\u001b[0m\n\u001b[1;32m    102\u001b[0m \u001b[0mfind_min\u001b[0m\u001b[0;34m(\u001b[0m\u001b[0mguess\u001b[0m\u001b[0;34m)\u001b[0m\u001b[0;34m\u001b[0m\u001b[0m\n",
      "\u001b[0;32m<ipython-input-90-1a7ae728f27c>\u001b[0m in \u001b[0;36mfind_min\u001b[0;34m(guess, upper_lim)\u001b[0m\n\u001b[1;32m     98\u001b[0m         \u001b[0;32melse\u001b[0m\u001b[0;34m:\u001b[0m\u001b[0;34m\u001b[0m\u001b[0m\n\u001b[1;32m     99\u001b[0m             \u001b[0mguess\u001b[0m \u001b[0;34m=\u001b[0m \u001b[0mguess\u001b[0m \u001b[0;34m*\u001b[0m \u001b[0;36m2\u001b[0m\u001b[0;34m\u001b[0m\u001b[0m\n\u001b[0;32m--> 100\u001b[0;31m             \u001b[0mfind_min\u001b[0m\u001b[0;34m(\u001b[0m\u001b[0mguess\u001b[0m\u001b[0;34m)\u001b[0m\u001b[0;34m\u001b[0m\u001b[0m\n\u001b[0m\u001b[1;32m    101\u001b[0m \u001b[0;34m\u001b[0m\u001b[0m\n\u001b[1;32m    102\u001b[0m \u001b[0mfind_min\u001b[0m\u001b[0;34m(\u001b[0m\u001b[0mguess\u001b[0m\u001b[0;34m)\u001b[0m\u001b[0;34m\u001b[0m\u001b[0m\n",
      "\u001b[0;32m<ipython-input-90-1a7ae728f27c>\u001b[0m in \u001b[0;36mfind_min\u001b[0;34m(guess, upper_lim)\u001b[0m\n\u001b[1;32m     98\u001b[0m         \u001b[0;32melse\u001b[0m\u001b[0;34m:\u001b[0m\u001b[0;34m\u001b[0m\u001b[0m\n\u001b[1;32m     99\u001b[0m             \u001b[0mguess\u001b[0m \u001b[0;34m=\u001b[0m \u001b[0mguess\u001b[0m \u001b[0;34m*\u001b[0m \u001b[0;36m2\u001b[0m\u001b[0;34m\u001b[0m\u001b[0m\n\u001b[0;32m--> 100\u001b[0;31m             \u001b[0mfind_min\u001b[0m\u001b[0;34m(\u001b[0m\u001b[0mguess\u001b[0m\u001b[0;34m)\u001b[0m\u001b[0;34m\u001b[0m\u001b[0m\n\u001b[0m\u001b[1;32m    101\u001b[0m \u001b[0;34m\u001b[0m\u001b[0m\n\u001b[1;32m    102\u001b[0m \u001b[0mfind_min\u001b[0m\u001b[0;34m(\u001b[0m\u001b[0mguess\u001b[0m\u001b[0;34m)\u001b[0m\u001b[0;34m\u001b[0m\u001b[0m\n",
      "\u001b[0;32m<ipython-input-90-1a7ae728f27c>\u001b[0m in \u001b[0;36mfind_min\u001b[0;34m(guess, upper_lim)\u001b[0m\n\u001b[1;32m     98\u001b[0m         \u001b[0;32melse\u001b[0m\u001b[0;34m:\u001b[0m\u001b[0;34m\u001b[0m\u001b[0m\n\u001b[1;32m     99\u001b[0m             \u001b[0mguess\u001b[0m \u001b[0;34m=\u001b[0m \u001b[0mguess\u001b[0m \u001b[0;34m*\u001b[0m \u001b[0;36m2\u001b[0m\u001b[0;34m\u001b[0m\u001b[0m\n\u001b[0;32m--> 100\u001b[0;31m             \u001b[0mfind_min\u001b[0m\u001b[0;34m(\u001b[0m\u001b[0mguess\u001b[0m\u001b[0;34m)\u001b[0m\u001b[0;34m\u001b[0m\u001b[0m\n\u001b[0m\u001b[1;32m    101\u001b[0m \u001b[0;34m\u001b[0m\u001b[0m\n\u001b[1;32m    102\u001b[0m \u001b[0mfind_min\u001b[0m\u001b[0;34m(\u001b[0m\u001b[0mguess\u001b[0m\u001b[0;34m)\u001b[0m\u001b[0;34m\u001b[0m\u001b[0m\n",
      "\u001b[0;32m<ipython-input-90-1a7ae728f27c>\u001b[0m in \u001b[0;36mfind_min\u001b[0;34m(guess, upper_lim)\u001b[0m\n\u001b[1;32m     98\u001b[0m         \u001b[0;32melse\u001b[0m\u001b[0;34m:\u001b[0m\u001b[0;34m\u001b[0m\u001b[0m\n\u001b[1;32m     99\u001b[0m             \u001b[0mguess\u001b[0m \u001b[0;34m=\u001b[0m \u001b[0mguess\u001b[0m \u001b[0;34m*\u001b[0m \u001b[0;36m2\u001b[0m\u001b[0;34m\u001b[0m\u001b[0m\n\u001b[0;32m--> 100\u001b[0;31m             \u001b[0mfind_min\u001b[0m\u001b[0;34m(\u001b[0m\u001b[0mguess\u001b[0m\u001b[0;34m)\u001b[0m\u001b[0;34m\u001b[0m\u001b[0m\n\u001b[0m\u001b[1;32m    101\u001b[0m \u001b[0;34m\u001b[0m\u001b[0m\n\u001b[1;32m    102\u001b[0m \u001b[0mfind_min\u001b[0m\u001b[0;34m(\u001b[0m\u001b[0mguess\u001b[0m\u001b[0;34m)\u001b[0m\u001b[0;34m\u001b[0m\u001b[0m\n",
      "\u001b[0;32m<ipython-input-90-1a7ae728f27c>\u001b[0m in \u001b[0;36mfind_min\u001b[0;34m(guess, upper_lim)\u001b[0m\n\u001b[1;32m     98\u001b[0m         \u001b[0;32melse\u001b[0m\u001b[0;34m:\u001b[0m\u001b[0;34m\u001b[0m\u001b[0m\n\u001b[1;32m     99\u001b[0m             \u001b[0mguess\u001b[0m \u001b[0;34m=\u001b[0m \u001b[0mguess\u001b[0m \u001b[0;34m*\u001b[0m \u001b[0;36m2\u001b[0m\u001b[0;34m\u001b[0m\u001b[0m\n\u001b[0;32m--> 100\u001b[0;31m             \u001b[0mfind_min\u001b[0m\u001b[0;34m(\u001b[0m\u001b[0mguess\u001b[0m\u001b[0;34m)\u001b[0m\u001b[0;34m\u001b[0m\u001b[0m\n\u001b[0m\u001b[1;32m    101\u001b[0m \u001b[0;34m\u001b[0m\u001b[0m\n\u001b[1;32m    102\u001b[0m \u001b[0mfind_min\u001b[0m\u001b[0;34m(\u001b[0m\u001b[0mguess\u001b[0m\u001b[0;34m)\u001b[0m\u001b[0;34m\u001b[0m\u001b[0m\n",
      "\u001b[0;32m<ipython-input-90-1a7ae728f27c>\u001b[0m in \u001b[0;36mfind_min\u001b[0;34m(guess, upper_lim)\u001b[0m\n\u001b[1;32m     98\u001b[0m         \u001b[0;32melse\u001b[0m\u001b[0;34m:\u001b[0m\u001b[0;34m\u001b[0m\u001b[0m\n\u001b[1;32m     99\u001b[0m             \u001b[0mguess\u001b[0m \u001b[0;34m=\u001b[0m \u001b[0mguess\u001b[0m \u001b[0;34m*\u001b[0m \u001b[0;36m2\u001b[0m\u001b[0;34m\u001b[0m\u001b[0m\n\u001b[0;32m--> 100\u001b[0;31m             \u001b[0mfind_min\u001b[0m\u001b[0;34m(\u001b[0m\u001b[0mguess\u001b[0m\u001b[0;34m)\u001b[0m\u001b[0;34m\u001b[0m\u001b[0m\n\u001b[0m\u001b[1;32m    101\u001b[0m \u001b[0;34m\u001b[0m\u001b[0m\n\u001b[1;32m    102\u001b[0m \u001b[0mfind_min\u001b[0m\u001b[0;34m(\u001b[0m\u001b[0mguess\u001b[0m\u001b[0;34m)\u001b[0m\u001b[0;34m\u001b[0m\u001b[0m\n",
      "\u001b[0;32m<ipython-input-90-1a7ae728f27c>\u001b[0m in \u001b[0;36mfind_min\u001b[0;34m(guess, upper_lim)\u001b[0m\n\u001b[1;32m     98\u001b[0m         \u001b[0;32melse\u001b[0m\u001b[0;34m:\u001b[0m\u001b[0;34m\u001b[0m\u001b[0m\n\u001b[1;32m     99\u001b[0m             \u001b[0mguess\u001b[0m \u001b[0;34m=\u001b[0m \u001b[0mguess\u001b[0m \u001b[0;34m*\u001b[0m \u001b[0;36m2\u001b[0m\u001b[0;34m\u001b[0m\u001b[0m\n\u001b[0;32m--> 100\u001b[0;31m             \u001b[0mfind_min\u001b[0m\u001b[0;34m(\u001b[0m\u001b[0mguess\u001b[0m\u001b[0;34m)\u001b[0m\u001b[0;34m\u001b[0m\u001b[0m\n\u001b[0m\u001b[1;32m    101\u001b[0m \u001b[0;34m\u001b[0m\u001b[0m\n\u001b[1;32m    102\u001b[0m \u001b[0mfind_min\u001b[0m\u001b[0;34m(\u001b[0m\u001b[0mguess\u001b[0m\u001b[0;34m)\u001b[0m\u001b[0;34m\u001b[0m\u001b[0m\n",
      "\u001b[0;32m<ipython-input-90-1a7ae728f27c>\u001b[0m in \u001b[0;36mfind_min\u001b[0;34m(guess, upper_lim)\u001b[0m\n\u001b[1;32m     98\u001b[0m         \u001b[0;32melse\u001b[0m\u001b[0;34m:\u001b[0m\u001b[0;34m\u001b[0m\u001b[0m\n\u001b[1;32m     99\u001b[0m             \u001b[0mguess\u001b[0m \u001b[0;34m=\u001b[0m \u001b[0mguess\u001b[0m \u001b[0;34m*\u001b[0m \u001b[0;36m2\u001b[0m\u001b[0;34m\u001b[0m\u001b[0m\n\u001b[0;32m--> 100\u001b[0;31m             \u001b[0mfind_min\u001b[0m\u001b[0;34m(\u001b[0m\u001b[0mguess\u001b[0m\u001b[0;34m)\u001b[0m\u001b[0;34m\u001b[0m\u001b[0m\n\u001b[0m\u001b[1;32m    101\u001b[0m \u001b[0;34m\u001b[0m\u001b[0m\n\u001b[1;32m    102\u001b[0m \u001b[0mfind_min\u001b[0m\u001b[0;34m(\u001b[0m\u001b[0mguess\u001b[0m\u001b[0;34m)\u001b[0m\u001b[0;34m\u001b[0m\u001b[0m\n",
      "\u001b[0;32m<ipython-input-90-1a7ae728f27c>\u001b[0m in \u001b[0;36mfind_min\u001b[0;34m(guess, upper_lim)\u001b[0m\n\u001b[1;32m     42\u001b[0m             \u001b[0mnew_guess\u001b[0m\u001b[0;34m,\u001b[0m \u001b[0mnew_upper_lim\u001b[0m \u001b[0;34m=\u001b[0m \u001b[0msearch_interval\u001b[0m\u001b[0;34m(\u001b[0m\u001b[0mguess\u001b[0m\u001b[0;34m)\u001b[0m\u001b[0;34m\u001b[0m\u001b[0m\n\u001b[1;32m     43\u001b[0m \u001b[0;34m\u001b[0m\u001b[0m\n\u001b[0;32m---> 44\u001b[0;31m             \u001b[0mfind_min\u001b[0m\u001b[0;34m(\u001b[0m\u001b[0mnew_guess\u001b[0m\u001b[0;34m,\u001b[0m \u001b[0mnew_upper_lim\u001b[0m\u001b[0;34m)\u001b[0m\u001b[0;34m\u001b[0m\u001b[0m\n\u001b[0m\u001b[1;32m     45\u001b[0m \u001b[0;34m\u001b[0m\u001b[0m\n\u001b[1;32m     46\u001b[0m             \u001b[0;31m#lower_lim = math.floor(guess / 2)\u001b[0m\u001b[0;34m\u001b[0m\u001b[0;34m\u001b[0m\u001b[0m\n",
      "\u001b[0;32m<ipython-input-90-1a7ae728f27c>\u001b[0m in \u001b[0;36mfind_min\u001b[0;34m(guess, upper_lim)\u001b[0m\n\u001b[1;32m     75\u001b[0m             \u001b[0mnew_guess\u001b[0m\u001b[0;34m,\u001b[0m \u001b[0mnew_upper_lim\u001b[0m \u001b[0;34m=\u001b[0m \u001b[0msearch_interval\u001b[0m\u001b[0;34m(\u001b[0m\u001b[0mguess\u001b[0m\u001b[0;34m)\u001b[0m\u001b[0;34m\u001b[0m\u001b[0m\n\u001b[1;32m     76\u001b[0m \u001b[0;34m\u001b[0m\u001b[0m\n\u001b[0;32m---> 77\u001b[0;31m             \u001b[0mfind_min\u001b[0m\u001b[0;34m(\u001b[0m\u001b[0mnew_guess\u001b[0m\u001b[0;34m,\u001b[0m \u001b[0mnew_upper_lim\u001b[0m\u001b[0;34m)\u001b[0m\u001b[0;34m\u001b[0m\u001b[0m\n\u001b[0m\u001b[1;32m     78\u001b[0m             \u001b[0;31m#search_interval()\u001b[0m\u001b[0;34m\u001b[0m\u001b[0;34m\u001b[0m\u001b[0m\n\u001b[1;32m     79\u001b[0m \u001b[0;34m\u001b[0m\u001b[0m\n",
      "\u001b[0;32m<ipython-input-90-1a7ae728f27c>\u001b[0m in \u001b[0;36mfind_min\u001b[0;34m(guess, upper_lim)\u001b[0m\n\u001b[1;32m     75\u001b[0m             \u001b[0mnew_guess\u001b[0m\u001b[0;34m,\u001b[0m \u001b[0mnew_upper_lim\u001b[0m \u001b[0;34m=\u001b[0m \u001b[0msearch_interval\u001b[0m\u001b[0;34m(\u001b[0m\u001b[0mguess\u001b[0m\u001b[0;34m)\u001b[0m\u001b[0;34m\u001b[0m\u001b[0m\n\u001b[1;32m     76\u001b[0m \u001b[0;34m\u001b[0m\u001b[0m\n\u001b[0;32m---> 77\u001b[0;31m             \u001b[0mfind_min\u001b[0m\u001b[0;34m(\u001b[0m\u001b[0mnew_guess\u001b[0m\u001b[0;34m,\u001b[0m \u001b[0mnew_upper_lim\u001b[0m\u001b[0;34m)\u001b[0m\u001b[0;34m\u001b[0m\u001b[0m\n\u001b[0m\u001b[1;32m     78\u001b[0m             \u001b[0;31m#search_interval()\u001b[0m\u001b[0;34m\u001b[0m\u001b[0;34m\u001b[0m\u001b[0m\n\u001b[1;32m     79\u001b[0m \u001b[0;34m\u001b[0m\u001b[0m\n",
      "\u001b[0;32m<ipython-input-90-1a7ae728f27c>\u001b[0m in \u001b[0;36mfind_min\u001b[0;34m(guess, upper_lim)\u001b[0m\n\u001b[1;32m     75\u001b[0m             \u001b[0mnew_guess\u001b[0m\u001b[0;34m,\u001b[0m \u001b[0mnew_upper_lim\u001b[0m \u001b[0;34m=\u001b[0m \u001b[0msearch_interval\u001b[0m\u001b[0;34m(\u001b[0m\u001b[0mguess\u001b[0m\u001b[0;34m)\u001b[0m\u001b[0;34m\u001b[0m\u001b[0m\n\u001b[1;32m     76\u001b[0m \u001b[0;34m\u001b[0m\u001b[0m\n\u001b[0;32m---> 77\u001b[0;31m             \u001b[0mfind_min\u001b[0m\u001b[0;34m(\u001b[0m\u001b[0mnew_guess\u001b[0m\u001b[0;34m,\u001b[0m \u001b[0mnew_upper_lim\u001b[0m\u001b[0;34m)\u001b[0m\u001b[0;34m\u001b[0m\u001b[0m\n\u001b[0m\u001b[1;32m     78\u001b[0m             \u001b[0;31m#search_interval()\u001b[0m\u001b[0;34m\u001b[0m\u001b[0;34m\u001b[0m\u001b[0m\n\u001b[1;32m     79\u001b[0m \u001b[0;34m\u001b[0m\u001b[0m\n",
      "\u001b[0;32m<ipython-input-90-1a7ae728f27c>\u001b[0m in \u001b[0;36mfind_min\u001b[0;34m(guess, upper_lim)\u001b[0m\n\u001b[1;32m     75\u001b[0m             \u001b[0mnew_guess\u001b[0m\u001b[0;34m,\u001b[0m \u001b[0mnew_upper_lim\u001b[0m \u001b[0;34m=\u001b[0m \u001b[0msearch_interval\u001b[0m\u001b[0;34m(\u001b[0m\u001b[0mguess\u001b[0m\u001b[0;34m)\u001b[0m\u001b[0;34m\u001b[0m\u001b[0m\n\u001b[1;32m     76\u001b[0m \u001b[0;34m\u001b[0m\u001b[0m\n\u001b[0;32m---> 77\u001b[0;31m             \u001b[0mfind_min\u001b[0m\u001b[0;34m(\u001b[0m\u001b[0mnew_guess\u001b[0m\u001b[0;34m,\u001b[0m \u001b[0mnew_upper_lim\u001b[0m\u001b[0;34m)\u001b[0m\u001b[0;34m\u001b[0m\u001b[0m\n\u001b[0m\u001b[1;32m     78\u001b[0m             \u001b[0;31m#search_interval()\u001b[0m\u001b[0;34m\u001b[0m\u001b[0;34m\u001b[0m\u001b[0m\n\u001b[1;32m     79\u001b[0m \u001b[0;34m\u001b[0m\u001b[0m\n",
      "\u001b[0;32m<ipython-input-90-1a7ae728f27c>\u001b[0m in \u001b[0;36mfind_min\u001b[0;34m(guess, upper_lim)\u001b[0m\n\u001b[1;32m     75\u001b[0m             \u001b[0mnew_guess\u001b[0m\u001b[0;34m,\u001b[0m \u001b[0mnew_upper_lim\u001b[0m \u001b[0;34m=\u001b[0m \u001b[0msearch_interval\u001b[0m\u001b[0;34m(\u001b[0m\u001b[0mguess\u001b[0m\u001b[0;34m)\u001b[0m\u001b[0;34m\u001b[0m\u001b[0m\n\u001b[1;32m     76\u001b[0m \u001b[0;34m\u001b[0m\u001b[0m\n\u001b[0;32m---> 77\u001b[0;31m             \u001b[0mfind_min\u001b[0m\u001b[0;34m(\u001b[0m\u001b[0mnew_guess\u001b[0m\u001b[0;34m,\u001b[0m \u001b[0mnew_upper_lim\u001b[0m\u001b[0;34m)\u001b[0m\u001b[0;34m\u001b[0m\u001b[0m\n\u001b[0m\u001b[1;32m     78\u001b[0m             \u001b[0;31m#search_interval()\u001b[0m\u001b[0;34m\u001b[0m\u001b[0;34m\u001b[0m\u001b[0m\n\u001b[1;32m     79\u001b[0m \u001b[0;34m\u001b[0m\u001b[0m\n",
      "\u001b[0;32m<ipython-input-90-1a7ae728f27c>\u001b[0m in \u001b[0;36mfind_min\u001b[0;34m(guess, upper_lim)\u001b[0m\n\u001b[1;32m     75\u001b[0m             \u001b[0mnew_guess\u001b[0m\u001b[0;34m,\u001b[0m \u001b[0mnew_upper_lim\u001b[0m \u001b[0;34m=\u001b[0m \u001b[0msearch_interval\u001b[0m\u001b[0;34m(\u001b[0m\u001b[0mguess\u001b[0m\u001b[0;34m)\u001b[0m\u001b[0;34m\u001b[0m\u001b[0m\n\u001b[1;32m     76\u001b[0m \u001b[0;34m\u001b[0m\u001b[0m\n\u001b[0;32m---> 77\u001b[0;31m             \u001b[0mfind_min\u001b[0m\u001b[0;34m(\u001b[0m\u001b[0mnew_guess\u001b[0m\u001b[0;34m,\u001b[0m \u001b[0mnew_upper_lim\u001b[0m\u001b[0;34m)\u001b[0m\u001b[0;34m\u001b[0m\u001b[0m\n\u001b[0m\u001b[1;32m     78\u001b[0m             \u001b[0;31m#search_interval()\u001b[0m\u001b[0;34m\u001b[0m\u001b[0;34m\u001b[0m\u001b[0m\n\u001b[1;32m     79\u001b[0m \u001b[0;34m\u001b[0m\u001b[0m\n",
      "\u001b[0;32m<ipython-input-90-1a7ae728f27c>\u001b[0m in \u001b[0;36mfind_min\u001b[0;34m(guess, upper_lim)\u001b[0m\n\u001b[1;32m     75\u001b[0m             \u001b[0mnew_guess\u001b[0m\u001b[0;34m,\u001b[0m \u001b[0mnew_upper_lim\u001b[0m \u001b[0;34m=\u001b[0m \u001b[0msearch_interval\u001b[0m\u001b[0;34m(\u001b[0m\u001b[0mguess\u001b[0m\u001b[0;34m)\u001b[0m\u001b[0;34m\u001b[0m\u001b[0m\n\u001b[1;32m     76\u001b[0m \u001b[0;34m\u001b[0m\u001b[0m\n\u001b[0;32m---> 77\u001b[0;31m             \u001b[0mfind_min\u001b[0m\u001b[0;34m(\u001b[0m\u001b[0mnew_guess\u001b[0m\u001b[0;34m,\u001b[0m \u001b[0mnew_upper_lim\u001b[0m\u001b[0;34m)\u001b[0m\u001b[0;34m\u001b[0m\u001b[0m\n\u001b[0m\u001b[1;32m     78\u001b[0m             \u001b[0;31m#search_interval()\u001b[0m\u001b[0;34m\u001b[0m\u001b[0;34m\u001b[0m\u001b[0m\n\u001b[1;32m     79\u001b[0m \u001b[0;34m\u001b[0m\u001b[0m\n",
      "\u001b[0;32m<ipython-input-90-1a7ae728f27c>\u001b[0m in \u001b[0;36mfind_min\u001b[0;34m(guess, upper_lim)\u001b[0m\n\u001b[1;32m     75\u001b[0m             \u001b[0mnew_guess\u001b[0m\u001b[0;34m,\u001b[0m \u001b[0mnew_upper_lim\u001b[0m \u001b[0;34m=\u001b[0m \u001b[0msearch_interval\u001b[0m\u001b[0;34m(\u001b[0m\u001b[0mguess\u001b[0m\u001b[0;34m)\u001b[0m\u001b[0;34m\u001b[0m\u001b[0m\n\u001b[1;32m     76\u001b[0m \u001b[0;34m\u001b[0m\u001b[0m\n\u001b[0;32m---> 77\u001b[0;31m             \u001b[0mfind_min\u001b[0m\u001b[0;34m(\u001b[0m\u001b[0mnew_guess\u001b[0m\u001b[0;34m,\u001b[0m \u001b[0mnew_upper_lim\u001b[0m\u001b[0;34m)\u001b[0m\u001b[0;34m\u001b[0m\u001b[0m\n\u001b[0m\u001b[1;32m     78\u001b[0m             \u001b[0;31m#search_interval()\u001b[0m\u001b[0;34m\u001b[0m\u001b[0;34m\u001b[0m\u001b[0m\n\u001b[1;32m     79\u001b[0m \u001b[0;34m\u001b[0m\u001b[0m\n",
      "\u001b[0;32m<ipython-input-90-1a7ae728f27c>\u001b[0m in \u001b[0;36mfind_min\u001b[0;34m(guess, upper_lim)\u001b[0m\n\u001b[1;32m     75\u001b[0m             \u001b[0mnew_guess\u001b[0m\u001b[0;34m,\u001b[0m \u001b[0mnew_upper_lim\u001b[0m \u001b[0;34m=\u001b[0m \u001b[0msearch_interval\u001b[0m\u001b[0;34m(\u001b[0m\u001b[0mguess\u001b[0m\u001b[0;34m)\u001b[0m\u001b[0;34m\u001b[0m\u001b[0m\n\u001b[1;32m     76\u001b[0m \u001b[0;34m\u001b[0m\u001b[0m\n\u001b[0;32m---> 77\u001b[0;31m             \u001b[0mfind_min\u001b[0m\u001b[0;34m(\u001b[0m\u001b[0mnew_guess\u001b[0m\u001b[0;34m,\u001b[0m \u001b[0mnew_upper_lim\u001b[0m\u001b[0;34m)\u001b[0m\u001b[0;34m\u001b[0m\u001b[0m\n\u001b[0m\u001b[1;32m     78\u001b[0m             \u001b[0;31m#search_interval()\u001b[0m\u001b[0;34m\u001b[0m\u001b[0;34m\u001b[0m\u001b[0m\n\u001b[1;32m     79\u001b[0m \u001b[0;34m\u001b[0m\u001b[0m\n",
      "\u001b[0;32m<ipython-input-90-1a7ae728f27c>\u001b[0m in \u001b[0;36mfind_min\u001b[0;34m(guess, upper_lim)\u001b[0m\n\u001b[1;32m     75\u001b[0m             \u001b[0mnew_guess\u001b[0m\u001b[0;34m,\u001b[0m \u001b[0mnew_upper_lim\u001b[0m \u001b[0;34m=\u001b[0m \u001b[0msearch_interval\u001b[0m\u001b[0;34m(\u001b[0m\u001b[0mguess\u001b[0m\u001b[0;34m)\u001b[0m\u001b[0;34m\u001b[0m\u001b[0m\n\u001b[1;32m     76\u001b[0m \u001b[0;34m\u001b[0m\u001b[0m\n\u001b[0;32m---> 77\u001b[0;31m             \u001b[0mfind_min\u001b[0m\u001b[0;34m(\u001b[0m\u001b[0mnew_guess\u001b[0m\u001b[0;34m,\u001b[0m \u001b[0mnew_upper_lim\u001b[0m\u001b[0;34m)\u001b[0m\u001b[0;34m\u001b[0m\u001b[0m\n\u001b[0m\u001b[1;32m     78\u001b[0m             \u001b[0;31m#search_interval()\u001b[0m\u001b[0;34m\u001b[0m\u001b[0;34m\u001b[0m\u001b[0m\n\u001b[1;32m     79\u001b[0m \u001b[0;34m\u001b[0m\u001b[0m\n",
      "\u001b[0;32m<ipython-input-90-1a7ae728f27c>\u001b[0m in \u001b[0;36mfind_min\u001b[0;34m(guess, upper_lim)\u001b[0m\n\u001b[1;32m     75\u001b[0m             \u001b[0mnew_guess\u001b[0m\u001b[0;34m,\u001b[0m \u001b[0mnew_upper_lim\u001b[0m \u001b[0;34m=\u001b[0m \u001b[0msearch_interval\u001b[0m\u001b[0;34m(\u001b[0m\u001b[0mguess\u001b[0m\u001b[0;34m)\u001b[0m\u001b[0;34m\u001b[0m\u001b[0m\n\u001b[1;32m     76\u001b[0m \u001b[0;34m\u001b[0m\u001b[0m\n\u001b[0;32m---> 77\u001b[0;31m             \u001b[0mfind_min\u001b[0m\u001b[0;34m(\u001b[0m\u001b[0mnew_guess\u001b[0m\u001b[0;34m,\u001b[0m \u001b[0mnew_upper_lim\u001b[0m\u001b[0;34m)\u001b[0m\u001b[0;34m\u001b[0m\u001b[0m\n\u001b[0m\u001b[1;32m     78\u001b[0m             \u001b[0;31m#search_interval()\u001b[0m\u001b[0;34m\u001b[0m\u001b[0;34m\u001b[0m\u001b[0m\n\u001b[1;32m     79\u001b[0m \u001b[0;34m\u001b[0m\u001b[0m\n",
      "\u001b[0;32m<ipython-input-90-1a7ae728f27c>\u001b[0m in \u001b[0;36mfind_min\u001b[0;34m(guess, upper_lim)\u001b[0m\n\u001b[1;32m     75\u001b[0m             \u001b[0mnew_guess\u001b[0m\u001b[0;34m,\u001b[0m \u001b[0mnew_upper_lim\u001b[0m \u001b[0;34m=\u001b[0m \u001b[0msearch_interval\u001b[0m\u001b[0;34m(\u001b[0m\u001b[0mguess\u001b[0m\u001b[0;34m)\u001b[0m\u001b[0;34m\u001b[0m\u001b[0m\n\u001b[1;32m     76\u001b[0m \u001b[0;34m\u001b[0m\u001b[0m\n\u001b[0;32m---> 77\u001b[0;31m             \u001b[0mfind_min\u001b[0m\u001b[0;34m(\u001b[0m\u001b[0mnew_guess\u001b[0m\u001b[0;34m,\u001b[0m \u001b[0mnew_upper_lim\u001b[0m\u001b[0;34m)\u001b[0m\u001b[0;34m\u001b[0m\u001b[0m\n\u001b[0m\u001b[1;32m     78\u001b[0m             \u001b[0;31m#search_interval()\u001b[0m\u001b[0;34m\u001b[0m\u001b[0;34m\u001b[0m\u001b[0m\n\u001b[1;32m     79\u001b[0m \u001b[0;34m\u001b[0m\u001b[0m\n",
      "\u001b[0;32m<ipython-input-90-1a7ae728f27c>\u001b[0m in \u001b[0;36mfind_min\u001b[0;34m(guess, upper_lim)\u001b[0m\n\u001b[1;32m     75\u001b[0m             \u001b[0mnew_guess\u001b[0m\u001b[0;34m,\u001b[0m \u001b[0mnew_upper_lim\u001b[0m \u001b[0;34m=\u001b[0m \u001b[0msearch_interval\u001b[0m\u001b[0;34m(\u001b[0m\u001b[0mguess\u001b[0m\u001b[0;34m)\u001b[0m\u001b[0;34m\u001b[0m\u001b[0m\n\u001b[1;32m     76\u001b[0m \u001b[0;34m\u001b[0m\u001b[0m\n\u001b[0;32m---> 77\u001b[0;31m             \u001b[0mfind_min\u001b[0m\u001b[0;34m(\u001b[0m\u001b[0mnew_guess\u001b[0m\u001b[0;34m,\u001b[0m \u001b[0mnew_upper_lim\u001b[0m\u001b[0;34m)\u001b[0m\u001b[0;34m\u001b[0m\u001b[0m\n\u001b[0m\u001b[1;32m     78\u001b[0m             \u001b[0;31m#search_interval()\u001b[0m\u001b[0;34m\u001b[0m\u001b[0;34m\u001b[0m\u001b[0m\n\u001b[1;32m     79\u001b[0m \u001b[0;34m\u001b[0m\u001b[0m\n",
      "\u001b[0;32m<ipython-input-90-1a7ae728f27c>\u001b[0m in \u001b[0;36mfind_min\u001b[0;34m(guess, upper_lim)\u001b[0m\n\u001b[1;32m     75\u001b[0m             \u001b[0mnew_guess\u001b[0m\u001b[0;34m,\u001b[0m \u001b[0mnew_upper_lim\u001b[0m \u001b[0;34m=\u001b[0m \u001b[0msearch_interval\u001b[0m\u001b[0;34m(\u001b[0m\u001b[0mguess\u001b[0m\u001b[0;34m)\u001b[0m\u001b[0;34m\u001b[0m\u001b[0m\n\u001b[1;32m     76\u001b[0m \u001b[0;34m\u001b[0m\u001b[0m\n\u001b[0;32m---> 77\u001b[0;31m             \u001b[0mfind_min\u001b[0m\u001b[0;34m(\u001b[0m\u001b[0mnew_guess\u001b[0m\u001b[0;34m,\u001b[0m \u001b[0mnew_upper_lim\u001b[0m\u001b[0;34m)\u001b[0m\u001b[0;34m\u001b[0m\u001b[0m\n\u001b[0m\u001b[1;32m     78\u001b[0m             \u001b[0;31m#search_interval()\u001b[0m\u001b[0;34m\u001b[0m\u001b[0;34m\u001b[0m\u001b[0m\n\u001b[1;32m     79\u001b[0m \u001b[0;34m\u001b[0m\u001b[0m\n",
      "\u001b[0;32m<ipython-input-90-1a7ae728f27c>\u001b[0m in \u001b[0;36mfind_min\u001b[0;34m(guess, upper_lim)\u001b[0m\n\u001b[1;32m     75\u001b[0m             \u001b[0mnew_guess\u001b[0m\u001b[0;34m,\u001b[0m \u001b[0mnew_upper_lim\u001b[0m \u001b[0;34m=\u001b[0m \u001b[0msearch_interval\u001b[0m\u001b[0;34m(\u001b[0m\u001b[0mguess\u001b[0m\u001b[0;34m)\u001b[0m\u001b[0;34m\u001b[0m\u001b[0m\n\u001b[1;32m     76\u001b[0m \u001b[0;34m\u001b[0m\u001b[0m\n\u001b[0;32m---> 77\u001b[0;31m             \u001b[0mfind_min\u001b[0m\u001b[0;34m(\u001b[0m\u001b[0mnew_guess\u001b[0m\u001b[0;34m,\u001b[0m \u001b[0mnew_upper_lim\u001b[0m\u001b[0;34m)\u001b[0m\u001b[0;34m\u001b[0m\u001b[0m\n\u001b[0m\u001b[1;32m     78\u001b[0m             \u001b[0;31m#search_interval()\u001b[0m\u001b[0;34m\u001b[0m\u001b[0;34m\u001b[0m\u001b[0m\n\u001b[1;32m     79\u001b[0m \u001b[0;34m\u001b[0m\u001b[0m\n",
      "\u001b[0;32m<ipython-input-90-1a7ae728f27c>\u001b[0m in \u001b[0;36mfind_min\u001b[0;34m(guess, upper_lim)\u001b[0m\n\u001b[1;32m     75\u001b[0m             \u001b[0mnew_guess\u001b[0m\u001b[0;34m,\u001b[0m \u001b[0mnew_upper_lim\u001b[0m \u001b[0;34m=\u001b[0m \u001b[0msearch_interval\u001b[0m\u001b[0;34m(\u001b[0m\u001b[0mguess\u001b[0m\u001b[0;34m)\u001b[0m\u001b[0;34m\u001b[0m\u001b[0m\n\u001b[1;32m     76\u001b[0m \u001b[0;34m\u001b[0m\u001b[0m\n\u001b[0;32m---> 77\u001b[0;31m             \u001b[0mfind_min\u001b[0m\u001b[0;34m(\u001b[0m\u001b[0mnew_guess\u001b[0m\u001b[0;34m,\u001b[0m \u001b[0mnew_upper_lim\u001b[0m\u001b[0;34m)\u001b[0m\u001b[0;34m\u001b[0m\u001b[0m\n\u001b[0m\u001b[1;32m     78\u001b[0m             \u001b[0;31m#search_interval()\u001b[0m\u001b[0;34m\u001b[0m\u001b[0;34m\u001b[0m\u001b[0m\n\u001b[1;32m     79\u001b[0m \u001b[0;34m\u001b[0m\u001b[0m\n",
      "\u001b[0;32m<ipython-input-90-1a7ae728f27c>\u001b[0m in \u001b[0;36mfind_min\u001b[0;34m(guess, upper_lim)\u001b[0m\n\u001b[1;32m     75\u001b[0m             \u001b[0mnew_guess\u001b[0m\u001b[0;34m,\u001b[0m \u001b[0mnew_upper_lim\u001b[0m \u001b[0;34m=\u001b[0m \u001b[0msearch_interval\u001b[0m\u001b[0;34m(\u001b[0m\u001b[0mguess\u001b[0m\u001b[0;34m)\u001b[0m\u001b[0;34m\u001b[0m\u001b[0m\n\u001b[1;32m     76\u001b[0m \u001b[0;34m\u001b[0m\u001b[0m\n\u001b[0;32m---> 77\u001b[0;31m             \u001b[0mfind_min\u001b[0m\u001b[0;34m(\u001b[0m\u001b[0mnew_guess\u001b[0m\u001b[0;34m,\u001b[0m \u001b[0mnew_upper_lim\u001b[0m\u001b[0;34m)\u001b[0m\u001b[0;34m\u001b[0m\u001b[0m\n\u001b[0m\u001b[1;32m     78\u001b[0m             \u001b[0;31m#search_interval()\u001b[0m\u001b[0;34m\u001b[0m\u001b[0;34m\u001b[0m\u001b[0m\n\u001b[1;32m     79\u001b[0m \u001b[0;34m\u001b[0m\u001b[0m\n",
      "\u001b[0;32m<ipython-input-90-1a7ae728f27c>\u001b[0m in \u001b[0;36mfind_min\u001b[0;34m(guess, upper_lim)\u001b[0m\n\u001b[1;32m     75\u001b[0m             \u001b[0mnew_guess\u001b[0m\u001b[0;34m,\u001b[0m \u001b[0mnew_upper_lim\u001b[0m \u001b[0;34m=\u001b[0m \u001b[0msearch_interval\u001b[0m\u001b[0;34m(\u001b[0m\u001b[0mguess\u001b[0m\u001b[0;34m)\u001b[0m\u001b[0;34m\u001b[0m\u001b[0m\n\u001b[1;32m     76\u001b[0m \u001b[0;34m\u001b[0m\u001b[0m\n\u001b[0;32m---> 77\u001b[0;31m             \u001b[0mfind_min\u001b[0m\u001b[0;34m(\u001b[0m\u001b[0mnew_guess\u001b[0m\u001b[0;34m,\u001b[0m \u001b[0mnew_upper_lim\u001b[0m\u001b[0;34m)\u001b[0m\u001b[0;34m\u001b[0m\u001b[0m\n\u001b[0m\u001b[1;32m     78\u001b[0m             \u001b[0;31m#search_interval()\u001b[0m\u001b[0;34m\u001b[0m\u001b[0;34m\u001b[0m\u001b[0m\n\u001b[1;32m     79\u001b[0m \u001b[0;34m\u001b[0m\u001b[0m\n",
      "\u001b[0;32m<ipython-input-90-1a7ae728f27c>\u001b[0m in \u001b[0;36mfind_min\u001b[0;34m(guess, upper_lim)\u001b[0m\n\u001b[1;32m     75\u001b[0m             \u001b[0mnew_guess\u001b[0m\u001b[0;34m,\u001b[0m \u001b[0mnew_upper_lim\u001b[0m \u001b[0;34m=\u001b[0m \u001b[0msearch_interval\u001b[0m\u001b[0;34m(\u001b[0m\u001b[0mguess\u001b[0m\u001b[0;34m)\u001b[0m\u001b[0;34m\u001b[0m\u001b[0m\n\u001b[1;32m     76\u001b[0m \u001b[0;34m\u001b[0m\u001b[0m\n\u001b[0;32m---> 77\u001b[0;31m             \u001b[0mfind_min\u001b[0m\u001b[0;34m(\u001b[0m\u001b[0mnew_guess\u001b[0m\u001b[0;34m,\u001b[0m \u001b[0mnew_upper_lim\u001b[0m\u001b[0;34m)\u001b[0m\u001b[0;34m\u001b[0m\u001b[0m\n\u001b[0m\u001b[1;32m     78\u001b[0m             \u001b[0;31m#search_interval()\u001b[0m\u001b[0;34m\u001b[0m\u001b[0;34m\u001b[0m\u001b[0m\n\u001b[1;32m     79\u001b[0m \u001b[0;34m\u001b[0m\u001b[0m\n",
      "\u001b[0;32m<ipython-input-90-1a7ae728f27c>\u001b[0m in \u001b[0;36mfind_min\u001b[0;34m(guess, upper_lim)\u001b[0m\n\u001b[1;32m     75\u001b[0m             \u001b[0mnew_guess\u001b[0m\u001b[0;34m,\u001b[0m \u001b[0mnew_upper_lim\u001b[0m \u001b[0;34m=\u001b[0m \u001b[0msearch_interval\u001b[0m\u001b[0;34m(\u001b[0m\u001b[0mguess\u001b[0m\u001b[0;34m)\u001b[0m\u001b[0;34m\u001b[0m\u001b[0m\n\u001b[1;32m     76\u001b[0m \u001b[0;34m\u001b[0m\u001b[0m\n\u001b[0;32m---> 77\u001b[0;31m             \u001b[0mfind_min\u001b[0m\u001b[0;34m(\u001b[0m\u001b[0mnew_guess\u001b[0m\u001b[0;34m,\u001b[0m \u001b[0mnew_upper_lim\u001b[0m\u001b[0;34m)\u001b[0m\u001b[0;34m\u001b[0m\u001b[0m\n\u001b[0m\u001b[1;32m     78\u001b[0m             \u001b[0;31m#search_interval()\u001b[0m\u001b[0;34m\u001b[0m\u001b[0;34m\u001b[0m\u001b[0m\n\u001b[1;32m     79\u001b[0m \u001b[0;34m\u001b[0m\u001b[0m\n",
      "\u001b[0;32m<ipython-input-90-1a7ae728f27c>\u001b[0m in \u001b[0;36mfind_min\u001b[0;34m(guess, upper_lim)\u001b[0m\n\u001b[1;32m     75\u001b[0m             \u001b[0mnew_guess\u001b[0m\u001b[0;34m,\u001b[0m \u001b[0mnew_upper_lim\u001b[0m \u001b[0;34m=\u001b[0m \u001b[0msearch_interval\u001b[0m\u001b[0;34m(\u001b[0m\u001b[0mguess\u001b[0m\u001b[0;34m)\u001b[0m\u001b[0;34m\u001b[0m\u001b[0m\n\u001b[1;32m     76\u001b[0m \u001b[0;34m\u001b[0m\u001b[0m\n\u001b[0;32m---> 77\u001b[0;31m             \u001b[0mfind_min\u001b[0m\u001b[0;34m(\u001b[0m\u001b[0mnew_guess\u001b[0m\u001b[0;34m,\u001b[0m \u001b[0mnew_upper_lim\u001b[0m\u001b[0;34m)\u001b[0m\u001b[0;34m\u001b[0m\u001b[0m\n\u001b[0m\u001b[1;32m     78\u001b[0m             \u001b[0;31m#search_interval()\u001b[0m\u001b[0;34m\u001b[0m\u001b[0;34m\u001b[0m\u001b[0m\n\u001b[1;32m     79\u001b[0m \u001b[0;34m\u001b[0m\u001b[0m\n",
      "\u001b[0;32m<ipython-input-90-1a7ae728f27c>\u001b[0m in \u001b[0;36mfind_min\u001b[0;34m(guess, upper_lim)\u001b[0m\n\u001b[1;32m     75\u001b[0m             \u001b[0mnew_guess\u001b[0m\u001b[0;34m,\u001b[0m \u001b[0mnew_upper_lim\u001b[0m \u001b[0;34m=\u001b[0m \u001b[0msearch_interval\u001b[0m\u001b[0;34m(\u001b[0m\u001b[0mguess\u001b[0m\u001b[0;34m)\u001b[0m\u001b[0;34m\u001b[0m\u001b[0m\n\u001b[1;32m     76\u001b[0m \u001b[0;34m\u001b[0m\u001b[0m\n\u001b[0;32m---> 77\u001b[0;31m             \u001b[0mfind_min\u001b[0m\u001b[0;34m(\u001b[0m\u001b[0mnew_guess\u001b[0m\u001b[0;34m,\u001b[0m \u001b[0mnew_upper_lim\u001b[0m\u001b[0;34m)\u001b[0m\u001b[0;34m\u001b[0m\u001b[0m\n\u001b[0m\u001b[1;32m     78\u001b[0m             \u001b[0;31m#search_interval()\u001b[0m\u001b[0;34m\u001b[0m\u001b[0;34m\u001b[0m\u001b[0m\n\u001b[1;32m     79\u001b[0m \u001b[0;34m\u001b[0m\u001b[0m\n",
      "\u001b[0;32m<ipython-input-90-1a7ae728f27c>\u001b[0m in \u001b[0;36mfind_min\u001b[0;34m(guess, upper_lim)\u001b[0m\n\u001b[1;32m     75\u001b[0m             \u001b[0mnew_guess\u001b[0m\u001b[0;34m,\u001b[0m \u001b[0mnew_upper_lim\u001b[0m \u001b[0;34m=\u001b[0m \u001b[0msearch_interval\u001b[0m\u001b[0;34m(\u001b[0m\u001b[0mguess\u001b[0m\u001b[0;34m)\u001b[0m\u001b[0;34m\u001b[0m\u001b[0m\n\u001b[1;32m     76\u001b[0m \u001b[0;34m\u001b[0m\u001b[0m\n\u001b[0;32m---> 77\u001b[0;31m             \u001b[0mfind_min\u001b[0m\u001b[0;34m(\u001b[0m\u001b[0mnew_guess\u001b[0m\u001b[0;34m,\u001b[0m \u001b[0mnew_upper_lim\u001b[0m\u001b[0;34m)\u001b[0m\u001b[0;34m\u001b[0m\u001b[0m\n\u001b[0m\u001b[1;32m     78\u001b[0m             \u001b[0;31m#search_interval()\u001b[0m\u001b[0;34m\u001b[0m\u001b[0;34m\u001b[0m\u001b[0m\n\u001b[1;32m     79\u001b[0m \u001b[0;34m\u001b[0m\u001b[0m\n",
      "\u001b[0;32m<ipython-input-90-1a7ae728f27c>\u001b[0m in \u001b[0;36mfind_min\u001b[0;34m(guess, upper_lim)\u001b[0m\n\u001b[1;32m     75\u001b[0m             \u001b[0mnew_guess\u001b[0m\u001b[0;34m,\u001b[0m \u001b[0mnew_upper_lim\u001b[0m \u001b[0;34m=\u001b[0m \u001b[0msearch_interval\u001b[0m\u001b[0;34m(\u001b[0m\u001b[0mguess\u001b[0m\u001b[0;34m)\u001b[0m\u001b[0;34m\u001b[0m\u001b[0m\n\u001b[1;32m     76\u001b[0m \u001b[0;34m\u001b[0m\u001b[0m\n\u001b[0;32m---> 77\u001b[0;31m             \u001b[0mfind_min\u001b[0m\u001b[0;34m(\u001b[0m\u001b[0mnew_guess\u001b[0m\u001b[0;34m,\u001b[0m \u001b[0mnew_upper_lim\u001b[0m\u001b[0;34m)\u001b[0m\u001b[0;34m\u001b[0m\u001b[0m\n\u001b[0m\u001b[1;32m     78\u001b[0m             \u001b[0;31m#search_interval()\u001b[0m\u001b[0;34m\u001b[0m\u001b[0;34m\u001b[0m\u001b[0m\n\u001b[1;32m     79\u001b[0m \u001b[0;34m\u001b[0m\u001b[0m\n",
      "\u001b[0;32m<ipython-input-90-1a7ae728f27c>\u001b[0m in \u001b[0;36mfind_min\u001b[0;34m(guess, upper_lim)\u001b[0m\n\u001b[1;32m     75\u001b[0m             \u001b[0mnew_guess\u001b[0m\u001b[0;34m,\u001b[0m \u001b[0mnew_upper_lim\u001b[0m \u001b[0;34m=\u001b[0m \u001b[0msearch_interval\u001b[0m\u001b[0;34m(\u001b[0m\u001b[0mguess\u001b[0m\u001b[0;34m)\u001b[0m\u001b[0;34m\u001b[0m\u001b[0m\n\u001b[1;32m     76\u001b[0m \u001b[0;34m\u001b[0m\u001b[0m\n\u001b[0;32m---> 77\u001b[0;31m             \u001b[0mfind_min\u001b[0m\u001b[0;34m(\u001b[0m\u001b[0mnew_guess\u001b[0m\u001b[0;34m,\u001b[0m \u001b[0mnew_upper_lim\u001b[0m\u001b[0;34m)\u001b[0m\u001b[0;34m\u001b[0m\u001b[0m\n\u001b[0m\u001b[1;32m     78\u001b[0m             \u001b[0;31m#search_interval()\u001b[0m\u001b[0;34m\u001b[0m\u001b[0;34m\u001b[0m\u001b[0m\n\u001b[1;32m     79\u001b[0m \u001b[0;34m\u001b[0m\u001b[0m\n",
      "\u001b[0;32m<ipython-input-90-1a7ae728f27c>\u001b[0m in \u001b[0;36mfind_min\u001b[0;34m(guess, upper_lim)\u001b[0m\n\u001b[1;32m     75\u001b[0m             \u001b[0mnew_guess\u001b[0m\u001b[0;34m,\u001b[0m \u001b[0mnew_upper_lim\u001b[0m \u001b[0;34m=\u001b[0m \u001b[0msearch_interval\u001b[0m\u001b[0;34m(\u001b[0m\u001b[0mguess\u001b[0m\u001b[0;34m)\u001b[0m\u001b[0;34m\u001b[0m\u001b[0m\n\u001b[1;32m     76\u001b[0m \u001b[0;34m\u001b[0m\u001b[0m\n\u001b[0;32m---> 77\u001b[0;31m             \u001b[0mfind_min\u001b[0m\u001b[0;34m(\u001b[0m\u001b[0mnew_guess\u001b[0m\u001b[0;34m,\u001b[0m \u001b[0mnew_upper_lim\u001b[0m\u001b[0;34m)\u001b[0m\u001b[0;34m\u001b[0m\u001b[0m\n\u001b[0m\u001b[1;32m     78\u001b[0m             \u001b[0;31m#search_interval()\u001b[0m\u001b[0;34m\u001b[0m\u001b[0;34m\u001b[0m\u001b[0m\n\u001b[1;32m     79\u001b[0m \u001b[0;34m\u001b[0m\u001b[0m\n",
      "\u001b[0;32m<ipython-input-90-1a7ae728f27c>\u001b[0m in \u001b[0;36mfind_min\u001b[0;34m(guess, upper_lim)\u001b[0m\n\u001b[1;32m     75\u001b[0m             \u001b[0mnew_guess\u001b[0m\u001b[0;34m,\u001b[0m \u001b[0mnew_upper_lim\u001b[0m \u001b[0;34m=\u001b[0m \u001b[0msearch_interval\u001b[0m\u001b[0;34m(\u001b[0m\u001b[0mguess\u001b[0m\u001b[0;34m)\u001b[0m\u001b[0;34m\u001b[0m\u001b[0m\n\u001b[1;32m     76\u001b[0m \u001b[0;34m\u001b[0m\u001b[0m\n\u001b[0;32m---> 77\u001b[0;31m             \u001b[0mfind_min\u001b[0m\u001b[0;34m(\u001b[0m\u001b[0mnew_guess\u001b[0m\u001b[0;34m,\u001b[0m \u001b[0mnew_upper_lim\u001b[0m\u001b[0;34m)\u001b[0m\u001b[0;34m\u001b[0m\u001b[0m\n\u001b[0m\u001b[1;32m     78\u001b[0m             \u001b[0;31m#search_interval()\u001b[0m\u001b[0;34m\u001b[0m\u001b[0;34m\u001b[0m\u001b[0m\n\u001b[1;32m     79\u001b[0m \u001b[0;34m\u001b[0m\u001b[0m\n",
      "\u001b[0;32m<ipython-input-90-1a7ae728f27c>\u001b[0m in \u001b[0;36mfind_min\u001b[0;34m(guess, upper_lim)\u001b[0m\n\u001b[1;32m     75\u001b[0m             \u001b[0mnew_guess\u001b[0m\u001b[0;34m,\u001b[0m \u001b[0mnew_upper_lim\u001b[0m \u001b[0;34m=\u001b[0m \u001b[0msearch_interval\u001b[0m\u001b[0;34m(\u001b[0m\u001b[0mguess\u001b[0m\u001b[0;34m)\u001b[0m\u001b[0;34m\u001b[0m\u001b[0m\n\u001b[1;32m     76\u001b[0m \u001b[0;34m\u001b[0m\u001b[0m\n\u001b[0;32m---> 77\u001b[0;31m             \u001b[0mfind_min\u001b[0m\u001b[0;34m(\u001b[0m\u001b[0mnew_guess\u001b[0m\u001b[0;34m,\u001b[0m \u001b[0mnew_upper_lim\u001b[0m\u001b[0;34m)\u001b[0m\u001b[0;34m\u001b[0m\u001b[0m\n\u001b[0m\u001b[1;32m     78\u001b[0m             \u001b[0;31m#search_interval()\u001b[0m\u001b[0;34m\u001b[0m\u001b[0;34m\u001b[0m\u001b[0m\n\u001b[1;32m     79\u001b[0m \u001b[0;34m\u001b[0m\u001b[0m\n",
      "\u001b[0;32m<ipython-input-90-1a7ae728f27c>\u001b[0m in \u001b[0;36mfind_min\u001b[0;34m(guess, upper_lim)\u001b[0m\n\u001b[1;32m     75\u001b[0m             \u001b[0mnew_guess\u001b[0m\u001b[0;34m,\u001b[0m \u001b[0mnew_upper_lim\u001b[0m \u001b[0;34m=\u001b[0m \u001b[0msearch_interval\u001b[0m\u001b[0;34m(\u001b[0m\u001b[0mguess\u001b[0m\u001b[0;34m)\u001b[0m\u001b[0;34m\u001b[0m\u001b[0m\n\u001b[1;32m     76\u001b[0m \u001b[0;34m\u001b[0m\u001b[0m\n\u001b[0;32m---> 77\u001b[0;31m             \u001b[0mfind_min\u001b[0m\u001b[0;34m(\u001b[0m\u001b[0mnew_guess\u001b[0m\u001b[0;34m,\u001b[0m \u001b[0mnew_upper_lim\u001b[0m\u001b[0;34m)\u001b[0m\u001b[0;34m\u001b[0m\u001b[0m\n\u001b[0m\u001b[1;32m     78\u001b[0m             \u001b[0;31m#search_interval()\u001b[0m\u001b[0;34m\u001b[0m\u001b[0;34m\u001b[0m\u001b[0m\n\u001b[1;32m     79\u001b[0m \u001b[0;34m\u001b[0m\u001b[0m\n",
      "\u001b[0;32m<ipython-input-90-1a7ae728f27c>\u001b[0m in \u001b[0;36mfind_min\u001b[0;34m(guess, upper_lim)\u001b[0m\n\u001b[1;32m     75\u001b[0m             \u001b[0mnew_guess\u001b[0m\u001b[0;34m,\u001b[0m \u001b[0mnew_upper_lim\u001b[0m \u001b[0;34m=\u001b[0m \u001b[0msearch_interval\u001b[0m\u001b[0;34m(\u001b[0m\u001b[0mguess\u001b[0m\u001b[0;34m)\u001b[0m\u001b[0;34m\u001b[0m\u001b[0m\n\u001b[1;32m     76\u001b[0m \u001b[0;34m\u001b[0m\u001b[0m\n\u001b[0;32m---> 77\u001b[0;31m             \u001b[0mfind_min\u001b[0m\u001b[0;34m(\u001b[0m\u001b[0mnew_guess\u001b[0m\u001b[0;34m,\u001b[0m \u001b[0mnew_upper_lim\u001b[0m\u001b[0;34m)\u001b[0m\u001b[0;34m\u001b[0m\u001b[0m\n\u001b[0m\u001b[1;32m     78\u001b[0m             \u001b[0;31m#search_interval()\u001b[0m\u001b[0;34m\u001b[0m\u001b[0;34m\u001b[0m\u001b[0m\n\u001b[1;32m     79\u001b[0m \u001b[0;34m\u001b[0m\u001b[0m\n",
      "\u001b[0;32m<ipython-input-90-1a7ae728f27c>\u001b[0m in \u001b[0;36mfind_min\u001b[0;34m(guess, upper_lim)\u001b[0m\n\u001b[1;32m     75\u001b[0m             \u001b[0mnew_guess\u001b[0m\u001b[0;34m,\u001b[0m \u001b[0mnew_upper_lim\u001b[0m \u001b[0;34m=\u001b[0m \u001b[0msearch_interval\u001b[0m\u001b[0;34m(\u001b[0m\u001b[0mguess\u001b[0m\u001b[0;34m)\u001b[0m\u001b[0;34m\u001b[0m\u001b[0m\n\u001b[1;32m     76\u001b[0m \u001b[0;34m\u001b[0m\u001b[0m\n\u001b[0;32m---> 77\u001b[0;31m             \u001b[0mfind_min\u001b[0m\u001b[0;34m(\u001b[0m\u001b[0mnew_guess\u001b[0m\u001b[0;34m,\u001b[0m \u001b[0mnew_upper_lim\u001b[0m\u001b[0;34m)\u001b[0m\u001b[0;34m\u001b[0m\u001b[0m\n\u001b[0m\u001b[1;32m     78\u001b[0m             \u001b[0;31m#search_interval()\u001b[0m\u001b[0;34m\u001b[0m\u001b[0;34m\u001b[0m\u001b[0m\n\u001b[1;32m     79\u001b[0m \u001b[0;34m\u001b[0m\u001b[0m\n",
      "\u001b[0;32m<ipython-input-90-1a7ae728f27c>\u001b[0m in \u001b[0;36mfind_min\u001b[0;34m(guess, upper_lim)\u001b[0m\n\u001b[1;32m     75\u001b[0m             \u001b[0mnew_guess\u001b[0m\u001b[0;34m,\u001b[0m \u001b[0mnew_upper_lim\u001b[0m \u001b[0;34m=\u001b[0m \u001b[0msearch_interval\u001b[0m\u001b[0;34m(\u001b[0m\u001b[0mguess\u001b[0m\u001b[0;34m)\u001b[0m\u001b[0;34m\u001b[0m\u001b[0m\n\u001b[1;32m     76\u001b[0m \u001b[0;34m\u001b[0m\u001b[0m\n\u001b[0;32m---> 77\u001b[0;31m             \u001b[0mfind_min\u001b[0m\u001b[0;34m(\u001b[0m\u001b[0mnew_guess\u001b[0m\u001b[0;34m,\u001b[0m \u001b[0mnew_upper_lim\u001b[0m\u001b[0;34m)\u001b[0m\u001b[0;34m\u001b[0m\u001b[0m\n\u001b[0m\u001b[1;32m     78\u001b[0m             \u001b[0;31m#search_interval()\u001b[0m\u001b[0;34m\u001b[0m\u001b[0;34m\u001b[0m\u001b[0m\n\u001b[1;32m     79\u001b[0m \u001b[0;34m\u001b[0m\u001b[0m\n",
      "\u001b[0;32m<ipython-input-90-1a7ae728f27c>\u001b[0m in \u001b[0;36mfind_min\u001b[0;34m(guess, upper_lim)\u001b[0m\n\u001b[1;32m     75\u001b[0m             \u001b[0mnew_guess\u001b[0m\u001b[0;34m,\u001b[0m \u001b[0mnew_upper_lim\u001b[0m \u001b[0;34m=\u001b[0m \u001b[0msearch_interval\u001b[0m\u001b[0;34m(\u001b[0m\u001b[0mguess\u001b[0m\u001b[0;34m)\u001b[0m\u001b[0;34m\u001b[0m\u001b[0m\n\u001b[1;32m     76\u001b[0m \u001b[0;34m\u001b[0m\u001b[0m\n\u001b[0;32m---> 77\u001b[0;31m             \u001b[0mfind_min\u001b[0m\u001b[0;34m(\u001b[0m\u001b[0mnew_guess\u001b[0m\u001b[0;34m,\u001b[0m \u001b[0mnew_upper_lim\u001b[0m\u001b[0;34m)\u001b[0m\u001b[0;34m\u001b[0m\u001b[0m\n\u001b[0m\u001b[1;32m     78\u001b[0m             \u001b[0;31m#search_interval()\u001b[0m\u001b[0;34m\u001b[0m\u001b[0;34m\u001b[0m\u001b[0m\n\u001b[1;32m     79\u001b[0m \u001b[0;34m\u001b[0m\u001b[0m\n",
      "\u001b[0;32m<ipython-input-90-1a7ae728f27c>\u001b[0m in \u001b[0;36mfind_min\u001b[0;34m(guess, upper_lim)\u001b[0m\n\u001b[1;32m     75\u001b[0m             \u001b[0mnew_guess\u001b[0m\u001b[0;34m,\u001b[0m \u001b[0mnew_upper_lim\u001b[0m \u001b[0;34m=\u001b[0m \u001b[0msearch_interval\u001b[0m\u001b[0;34m(\u001b[0m\u001b[0mguess\u001b[0m\u001b[0;34m)\u001b[0m\u001b[0;34m\u001b[0m\u001b[0m\n\u001b[1;32m     76\u001b[0m \u001b[0;34m\u001b[0m\u001b[0m\n\u001b[0;32m---> 77\u001b[0;31m             \u001b[0mfind_min\u001b[0m\u001b[0;34m(\u001b[0m\u001b[0mnew_guess\u001b[0m\u001b[0;34m,\u001b[0m \u001b[0mnew_upper_lim\u001b[0m\u001b[0;34m)\u001b[0m\u001b[0;34m\u001b[0m\u001b[0m\n\u001b[0m\u001b[1;32m     78\u001b[0m             \u001b[0;31m#search_interval()\u001b[0m\u001b[0;34m\u001b[0m\u001b[0;34m\u001b[0m\u001b[0m\n\u001b[1;32m     79\u001b[0m \u001b[0;34m\u001b[0m\u001b[0m\n",
      "\u001b[0;32m<ipython-input-90-1a7ae728f27c>\u001b[0m in \u001b[0;36mfind_min\u001b[0;34m(guess, upper_lim)\u001b[0m\n\u001b[1;32m     75\u001b[0m             \u001b[0mnew_guess\u001b[0m\u001b[0;34m,\u001b[0m \u001b[0mnew_upper_lim\u001b[0m \u001b[0;34m=\u001b[0m \u001b[0msearch_interval\u001b[0m\u001b[0;34m(\u001b[0m\u001b[0mguess\u001b[0m\u001b[0;34m)\u001b[0m\u001b[0;34m\u001b[0m\u001b[0m\n\u001b[1;32m     76\u001b[0m \u001b[0;34m\u001b[0m\u001b[0m\n\u001b[0;32m---> 77\u001b[0;31m             \u001b[0mfind_min\u001b[0m\u001b[0;34m(\u001b[0m\u001b[0mnew_guess\u001b[0m\u001b[0;34m,\u001b[0m \u001b[0mnew_upper_lim\u001b[0m\u001b[0;34m)\u001b[0m\u001b[0;34m\u001b[0m\u001b[0m\n\u001b[0m\u001b[1;32m     78\u001b[0m             \u001b[0;31m#search_interval()\u001b[0m\u001b[0;34m\u001b[0m\u001b[0;34m\u001b[0m\u001b[0m\n\u001b[1;32m     79\u001b[0m \u001b[0;34m\u001b[0m\u001b[0m\n",
      "\u001b[0;32m<ipython-input-90-1a7ae728f27c>\u001b[0m in \u001b[0;36mfind_min\u001b[0;34m(guess, upper_lim)\u001b[0m\n\u001b[1;32m     75\u001b[0m             \u001b[0mnew_guess\u001b[0m\u001b[0;34m,\u001b[0m \u001b[0mnew_upper_lim\u001b[0m \u001b[0;34m=\u001b[0m \u001b[0msearch_interval\u001b[0m\u001b[0;34m(\u001b[0m\u001b[0mguess\u001b[0m\u001b[0;34m)\u001b[0m\u001b[0;34m\u001b[0m\u001b[0m\n\u001b[1;32m     76\u001b[0m \u001b[0;34m\u001b[0m\u001b[0m\n\u001b[0;32m---> 77\u001b[0;31m             \u001b[0mfind_min\u001b[0m\u001b[0;34m(\u001b[0m\u001b[0mnew_guess\u001b[0m\u001b[0;34m,\u001b[0m \u001b[0mnew_upper_lim\u001b[0m\u001b[0;34m)\u001b[0m\u001b[0;34m\u001b[0m\u001b[0m\n\u001b[0m\u001b[1;32m     78\u001b[0m             \u001b[0;31m#search_interval()\u001b[0m\u001b[0;34m\u001b[0m\u001b[0;34m\u001b[0m\u001b[0m\n\u001b[1;32m     79\u001b[0m \u001b[0;34m\u001b[0m\u001b[0m\n",
      "\u001b[0;32m<ipython-input-90-1a7ae728f27c>\u001b[0m in \u001b[0;36mfind_min\u001b[0;34m(guess, upper_lim)\u001b[0m\n\u001b[1;32m     75\u001b[0m             \u001b[0mnew_guess\u001b[0m\u001b[0;34m,\u001b[0m \u001b[0mnew_upper_lim\u001b[0m \u001b[0;34m=\u001b[0m \u001b[0msearch_interval\u001b[0m\u001b[0;34m(\u001b[0m\u001b[0mguess\u001b[0m\u001b[0;34m)\u001b[0m\u001b[0;34m\u001b[0m\u001b[0m\n\u001b[1;32m     76\u001b[0m \u001b[0;34m\u001b[0m\u001b[0m\n\u001b[0;32m---> 77\u001b[0;31m             \u001b[0mfind_min\u001b[0m\u001b[0;34m(\u001b[0m\u001b[0mnew_guess\u001b[0m\u001b[0;34m,\u001b[0m \u001b[0mnew_upper_lim\u001b[0m\u001b[0;34m)\u001b[0m\u001b[0;34m\u001b[0m\u001b[0m\n\u001b[0m\u001b[1;32m     78\u001b[0m             \u001b[0;31m#search_interval()\u001b[0m\u001b[0;34m\u001b[0m\u001b[0;34m\u001b[0m\u001b[0m\n\u001b[1;32m     79\u001b[0m \u001b[0;34m\u001b[0m\u001b[0m\n",
      "\u001b[0;32m<ipython-input-90-1a7ae728f27c>\u001b[0m in \u001b[0;36mfind_min\u001b[0;34m(guess, upper_lim)\u001b[0m\n\u001b[1;32m     75\u001b[0m             \u001b[0mnew_guess\u001b[0m\u001b[0;34m,\u001b[0m \u001b[0mnew_upper_lim\u001b[0m \u001b[0;34m=\u001b[0m \u001b[0msearch_interval\u001b[0m\u001b[0;34m(\u001b[0m\u001b[0mguess\u001b[0m\u001b[0;34m)\u001b[0m\u001b[0;34m\u001b[0m\u001b[0m\n\u001b[1;32m     76\u001b[0m \u001b[0;34m\u001b[0m\u001b[0m\n\u001b[0;32m---> 77\u001b[0;31m             \u001b[0mfind_min\u001b[0m\u001b[0;34m(\u001b[0m\u001b[0mnew_guess\u001b[0m\u001b[0;34m,\u001b[0m \u001b[0mnew_upper_lim\u001b[0m\u001b[0;34m)\u001b[0m\u001b[0;34m\u001b[0m\u001b[0m\n\u001b[0m\u001b[1;32m     78\u001b[0m             \u001b[0;31m#search_interval()\u001b[0m\u001b[0;34m\u001b[0m\u001b[0;34m\u001b[0m\u001b[0m\n\u001b[1;32m     79\u001b[0m \u001b[0;34m\u001b[0m\u001b[0m\n",
      "\u001b[0;32m<ipython-input-90-1a7ae728f27c>\u001b[0m in \u001b[0;36mfind_min\u001b[0;34m(guess, upper_lim)\u001b[0m\n\u001b[1;32m     75\u001b[0m             \u001b[0mnew_guess\u001b[0m\u001b[0;34m,\u001b[0m \u001b[0mnew_upper_lim\u001b[0m \u001b[0;34m=\u001b[0m \u001b[0msearch_interval\u001b[0m\u001b[0;34m(\u001b[0m\u001b[0mguess\u001b[0m\u001b[0;34m)\u001b[0m\u001b[0;34m\u001b[0m\u001b[0m\n\u001b[1;32m     76\u001b[0m \u001b[0;34m\u001b[0m\u001b[0m\n\u001b[0;32m---> 77\u001b[0;31m             \u001b[0mfind_min\u001b[0m\u001b[0;34m(\u001b[0m\u001b[0mnew_guess\u001b[0m\u001b[0;34m,\u001b[0m \u001b[0mnew_upper_lim\u001b[0m\u001b[0;34m)\u001b[0m\u001b[0;34m\u001b[0m\u001b[0m\n\u001b[0m\u001b[1;32m     78\u001b[0m             \u001b[0;31m#search_interval()\u001b[0m\u001b[0;34m\u001b[0m\u001b[0;34m\u001b[0m\u001b[0m\n\u001b[1;32m     79\u001b[0m \u001b[0;34m\u001b[0m\u001b[0m\n",
      "\u001b[0;32m<ipython-input-90-1a7ae728f27c>\u001b[0m in \u001b[0;36mfind_min\u001b[0;34m(guess, upper_lim)\u001b[0m\n\u001b[1;32m     75\u001b[0m             \u001b[0mnew_guess\u001b[0m\u001b[0;34m,\u001b[0m \u001b[0mnew_upper_lim\u001b[0m \u001b[0;34m=\u001b[0m \u001b[0msearch_interval\u001b[0m\u001b[0;34m(\u001b[0m\u001b[0mguess\u001b[0m\u001b[0;34m)\u001b[0m\u001b[0;34m\u001b[0m\u001b[0m\n\u001b[1;32m     76\u001b[0m \u001b[0;34m\u001b[0m\u001b[0m\n\u001b[0;32m---> 77\u001b[0;31m             \u001b[0mfind_min\u001b[0m\u001b[0;34m(\u001b[0m\u001b[0mnew_guess\u001b[0m\u001b[0;34m,\u001b[0m \u001b[0mnew_upper_lim\u001b[0m\u001b[0;34m)\u001b[0m\u001b[0;34m\u001b[0m\u001b[0m\n\u001b[0m\u001b[1;32m     78\u001b[0m             \u001b[0;31m#search_interval()\u001b[0m\u001b[0;34m\u001b[0m\u001b[0;34m\u001b[0m\u001b[0m\n\u001b[1;32m     79\u001b[0m \u001b[0;34m\u001b[0m\u001b[0m\n",
      "\u001b[0;32m<ipython-input-90-1a7ae728f27c>\u001b[0m in \u001b[0;36mfind_min\u001b[0;34m(guess, upper_lim)\u001b[0m\n\u001b[1;32m     75\u001b[0m             \u001b[0mnew_guess\u001b[0m\u001b[0;34m,\u001b[0m \u001b[0mnew_upper_lim\u001b[0m \u001b[0;34m=\u001b[0m \u001b[0msearch_interval\u001b[0m\u001b[0;34m(\u001b[0m\u001b[0mguess\u001b[0m\u001b[0;34m)\u001b[0m\u001b[0;34m\u001b[0m\u001b[0m\n\u001b[1;32m     76\u001b[0m \u001b[0;34m\u001b[0m\u001b[0m\n\u001b[0;32m---> 77\u001b[0;31m             \u001b[0mfind_min\u001b[0m\u001b[0;34m(\u001b[0m\u001b[0mnew_guess\u001b[0m\u001b[0;34m,\u001b[0m \u001b[0mnew_upper_lim\u001b[0m\u001b[0;34m)\u001b[0m\u001b[0;34m\u001b[0m\u001b[0m\n\u001b[0m\u001b[1;32m     78\u001b[0m             \u001b[0;31m#search_interval()\u001b[0m\u001b[0;34m\u001b[0m\u001b[0;34m\u001b[0m\u001b[0m\n\u001b[1;32m     79\u001b[0m \u001b[0;34m\u001b[0m\u001b[0m\n",
      "\u001b[0;32m<ipython-input-90-1a7ae728f27c>\u001b[0m in \u001b[0;36mfind_min\u001b[0;34m(guess, upper_lim)\u001b[0m\n\u001b[1;32m     73\u001b[0m             \u001b[0mprint\u001b[0m\u001b[0;34m(\u001b[0m\u001b[0;34m\"It's toooo high!!\"\u001b[0m\u001b[0;34m)\u001b[0m\u001b[0;34m\u001b[0m\u001b[0m\n\u001b[1;32m     74\u001b[0m \u001b[0;34m\u001b[0m\u001b[0m\n\u001b[0;32m---> 75\u001b[0;31m             \u001b[0mnew_guess\u001b[0m\u001b[0;34m,\u001b[0m \u001b[0mnew_upper_lim\u001b[0m \u001b[0;34m=\u001b[0m \u001b[0msearch_interval\u001b[0m\u001b[0;34m(\u001b[0m\u001b[0mguess\u001b[0m\u001b[0;34m)\u001b[0m\u001b[0;34m\u001b[0m\u001b[0m\n\u001b[0m\u001b[1;32m     76\u001b[0m \u001b[0;34m\u001b[0m\u001b[0m\n\u001b[1;32m     77\u001b[0m             \u001b[0mfind_min\u001b[0m\u001b[0;34m(\u001b[0m\u001b[0mnew_guess\u001b[0m\u001b[0;34m,\u001b[0m \u001b[0mnew_upper_lim\u001b[0m\u001b[0;34m)\u001b[0m\u001b[0;34m\u001b[0m\u001b[0m\n",
      "\u001b[0;31mTypeError\u001b[0m: 'NoneType' object is not iterable"
     ]
    }
   ],
   "source": [
    "import math\n",
    "\n",
    "#def find_min_interval(guess, lower_lim, upper_lim):\n",
    "    \n",
    "    # find mid-range of interval\n",
    "#    mid = math.floor((upper_lim - lower_lim) / 2)    \n",
    "#    new_guess = upper_lim - mid\n",
    "    \n",
    "#    tol = upper_lim - new_guess\n",
    "#    if tol < 5000:\n",
    "#        print(\"Answer = {}, with tolerance of less than 5000\".format(new_guess))\n",
    "#        return new_guess\n",
    "    \n",
    "#    find_min(new_guess, upper_lim)\n",
    "    \n",
    "def search_interval(guess):\n",
    "                \n",
    "    upper_lim = guess\n",
    "    lower_lim = math.floor(upper_lim / 2)\n",
    "    mid = math.floor((upper_lim - lower_lim) / 2)    \n",
    "    new_guess = upper_lim - mid\n",
    "    if (upper_lim - new_guess) < 5:\n",
    "        print(\"Got 'eeeem at {}\".format(new_guess))\n",
    "        return\n",
    "\n",
    "    print(\"New guess 1 = {}\".format(new_guess))\n",
    "    print(\"New upperlim 1 = {}\".format(upper_lim))\n",
    "            \n",
    "    return new_guess, upper_lim\n",
    "\n",
    "guess = 10\n",
    "\n",
    "def find_min(guess, upper_lim=100000000):\n",
    "    \n",
    "    #while pi_error(guess) < 0.000001:\n",
    "    #    guess * 2\n",
    "        \n",
    "    \n",
    "    print(\"Guessing {}\".format(guess))\n",
    "    if pi_error(guess) < 0.000001:\n",
    "            print(\"Got 'eeeem at {}\".format(guess))\n",
    "            # The true min will be equal to or at least less that the above discovered result\n",
    "            # Therefore, we shall look in the interval using the above result as an upper limit\n",
    "            print(\"Now looking for true min in closet interval range...\")\n",
    "            # maybe better to search backward\n",
    "            \n",
    "            new_guess, new_upper_lim = search_interval(guess)\n",
    "            \n",
    "         find_min(new_guess, new_upper_lim)\n",
    "           \n",
    "            #lower_lim = math.floor(guess / 2)\n",
    "            #mid = math.floor((new_upper_lim - lower_lim) / 2)    \n",
    "            #new_guess = new_upper_lim - mid\n",
    "            \n",
    "            #lower_lim = math.floor(upper_lim / 2)\n",
    "            #mid = math.floor((upper_lim - lower_lim) / 2)    \n",
    "            #new_guess = upper_lim - mid\n",
    "            #print(\"New guess 1 = {}\".format(new_guess))\n",
    "            #print(\"New upperlim 1 = {}\".format(upper_lim))\n",
    "            \n",
    "            #find_min_interval(guess, lower_lim, new_upper_lim)\n",
    "            # new guess is the middle\n",
    "            \n",
    "            #new_guess = lower_lim + math.floor((new_upper_lim / 4))\n",
    "            #print(\"trying new guess of {}\".format(new_guess))\n",
    "            \n",
    "            #tol = upper_lim - new_guess\n",
    "            #if tol < 5000:\n",
    "            #    print(\"Answer = {}, with tolerance of less than 5000\".format(new_guess))\n",
    "            #    return new_guess\n",
    "            \n",
    "            #tol = new_upper_lim - new_guess\n",
    "            #if tol < 50000:\n",
    "            #    return new_guess\n",
    "            #find_min(new_guess, upper_lim)\n",
    "    else:\n",
    "        if guess*2 > upper_lim:\n",
    "            print(\"It's toooo high!!\")\n",
    "            \n",
    "            new_guess, new_upper_lim = search_interval(guess)\n",
    "            \n",
    "            find_min(new_guess, new_upper_lim)\n",
    "            #search_interval()\n",
    "            \n",
    "            #new_upper_lim = guess\n",
    "            #lower_lim = math.floor(upper_lim / 2)\n",
    "            #mid = math.floor((upper_lim - lower_lim) / 2)    \n",
    "            #new_guess = upper_lim - mid\n",
    "            #print(\"New guess 2 = {}\".format(new_guess))\n",
    "            #print(\"New upperlim 2 = {}\".format(upper_lim))\n",
    "            \n",
    "            #find_min(new_guess, upper_lim)\n",
    "            \n",
    "            #new_upper_lim = guess\n",
    "            #lower_lim = math.floor(guess / 2)\n",
    "            #find_min_interval(guess, lower_lim, new_upper_lim)\n",
    "           \n",
    "            #lower_lim = math.floor(guess / 2)\n",
    "            #addition = math.floor((upper_lim - lower_lim)/2)\n",
    "            #guess = guess + addition\n",
    "            #find_min(guess, upper_lim)\n",
    "            #return \"Fammm\"\n",
    "        else:    \n",
    "            #guess = guess * 2\n",
    "            find_min(guess)\n",
    "        \n",
    "find_min(guess)\n",
    "\n",
    "\n",
    "    "
   ]
  },
  {
   "cell_type": "code",
   "execution_count": 110,
   "metadata": {
    "collapsed": false
   },
   "outputs": [
    {
     "data": {
      "text/plain": [
       "1966080"
      ]
     },
     "execution_count": 110,
     "metadata": {},
     "output_type": "execute_result"
    }
   ],
   "source": [
    "1310720 + math.floor((1310720/2))"
   ]
  },
  {
   "cell_type": "code",
   "execution_count": 112,
   "metadata": {
    "collapsed": false
   },
   "outputs": [
    {
     "name": "stdout",
     "output_type": "stream",
     "text": [
      "Guessing 10\n",
      "Guessing 20\n",
      "Guessing 40\n",
      "Guessing 80\n",
      "Guessing 160\n",
      "Guessing 320\n",
      "Guessing 640\n",
      "Guessing 1280\n",
      "Guessing 2560\n",
      "Guessing 5120\n",
      "Guessing 10240\n",
      "Guessing 20480\n",
      "Guessing 40960\n",
      "Guessing 81920\n",
      "Guessing 163840\n",
      "Guessing 327680\n",
      "Guessing 655360\n",
      "Guessing 1310720\n",
      "Guessing 2621440\n",
      "Got 'eeeem at 2621440\n",
      "Now looking for true min in closet interval range...\n",
      "Guessing 1310720\n",
      "Guessing 2621440\n",
      "Got 'eeeem at 2621440\n",
      "Now looking for true min in closet interval range...\n",
      "Guessing 1310720\n",
      "Guessing 2621440\n",
      "Got 'eeeem at 2621440\n",
      "Now looking for true min in closet interval range...\n",
      "Guessing 1310720\n",
      "Guessing 2621440\n",
      "Got 'eeeem at 2621440\n",
      "Now looking for true min in closet interval range...\n"
     ]
    },
    {
     "ename": "KeyboardInterrupt",
     "evalue": "",
     "output_type": "error",
     "traceback": [
      "\u001b[0;31m---------------------------------------------------------------------------\u001b[0m",
      "\u001b[0;31mKeyboardInterrupt\u001b[0m                         Traceback (most recent call last)",
      "\u001b[0;32m<ipython-input-112-30373a397181>\u001b[0m in \u001b[0;36m<module>\u001b[0;34m()\u001b[0m\n\u001b[1;32m     32\u001b[0m             \u001b[0mfind_min\u001b[0m\u001b[0;34m(\u001b[0m\u001b[0mguess\u001b[0m\u001b[0;34m)\u001b[0m\u001b[0;34m\u001b[0m\u001b[0m\n\u001b[1;32m     33\u001b[0m \u001b[0;34m\u001b[0m\u001b[0m\n\u001b[0;32m---> 34\u001b[0;31m \u001b[0mfind_min\u001b[0m\u001b[0;34m(\u001b[0m\u001b[0mguess\u001b[0m\u001b[0;34m)\u001b[0m\u001b[0;34m\u001b[0m\u001b[0m\n\u001b[0m",
      "\u001b[0;32m<ipython-input-112-30373a397181>\u001b[0m in \u001b[0;36mfind_min\u001b[0;34m(guess, upper_lim)\u001b[0m\n\u001b[1;32m     30\u001b[0m         \u001b[0;32melse\u001b[0m\u001b[0;34m:\u001b[0m\u001b[0;34m\u001b[0m\u001b[0m\n\u001b[1;32m     31\u001b[0m             \u001b[0mguess\u001b[0m \u001b[0;34m=\u001b[0m \u001b[0mguess\u001b[0m \u001b[0;34m*\u001b[0m \u001b[0;36m2\u001b[0m\u001b[0;34m\u001b[0m\u001b[0m\n\u001b[0;32m---> 32\u001b[0;31m             \u001b[0mfind_min\u001b[0m\u001b[0;34m(\u001b[0m\u001b[0mguess\u001b[0m\u001b[0;34m)\u001b[0m\u001b[0;34m\u001b[0m\u001b[0m\n\u001b[0m\u001b[1;32m     33\u001b[0m \u001b[0;34m\u001b[0m\u001b[0m\n\u001b[1;32m     34\u001b[0m \u001b[0mfind_min\u001b[0m\u001b[0;34m(\u001b[0m\u001b[0mguess\u001b[0m\u001b[0;34m)\u001b[0m\u001b[0;34m\u001b[0m\u001b[0m\n",
      "\u001b[0;32m<ipython-input-112-30373a397181>\u001b[0m in \u001b[0;36mfind_min\u001b[0;34m(guess, upper_lim)\u001b[0m\n\u001b[1;32m     30\u001b[0m         \u001b[0;32melse\u001b[0m\u001b[0;34m:\u001b[0m\u001b[0;34m\u001b[0m\u001b[0m\n\u001b[1;32m     31\u001b[0m             \u001b[0mguess\u001b[0m \u001b[0;34m=\u001b[0m \u001b[0mguess\u001b[0m \u001b[0;34m*\u001b[0m \u001b[0;36m2\u001b[0m\u001b[0;34m\u001b[0m\u001b[0m\n\u001b[0;32m---> 32\u001b[0;31m             \u001b[0mfind_min\u001b[0m\u001b[0;34m(\u001b[0m\u001b[0mguess\u001b[0m\u001b[0;34m)\u001b[0m\u001b[0;34m\u001b[0m\u001b[0m\n\u001b[0m\u001b[1;32m     33\u001b[0m \u001b[0;34m\u001b[0m\u001b[0m\n\u001b[1;32m     34\u001b[0m \u001b[0mfind_min\u001b[0m\u001b[0;34m(\u001b[0m\u001b[0mguess\u001b[0m\u001b[0;34m)\u001b[0m\u001b[0;34m\u001b[0m\u001b[0m\n",
      "\u001b[0;32m<ipython-input-112-30373a397181>\u001b[0m in \u001b[0;36mfind_min\u001b[0;34m(guess, upper_lim)\u001b[0m\n\u001b[1;32m     30\u001b[0m         \u001b[0;32melse\u001b[0m\u001b[0;34m:\u001b[0m\u001b[0;34m\u001b[0m\u001b[0m\n\u001b[1;32m     31\u001b[0m             \u001b[0mguess\u001b[0m \u001b[0;34m=\u001b[0m \u001b[0mguess\u001b[0m \u001b[0;34m*\u001b[0m \u001b[0;36m2\u001b[0m\u001b[0;34m\u001b[0m\u001b[0m\n\u001b[0;32m---> 32\u001b[0;31m             \u001b[0mfind_min\u001b[0m\u001b[0;34m(\u001b[0m\u001b[0mguess\u001b[0m\u001b[0;34m)\u001b[0m\u001b[0;34m\u001b[0m\u001b[0m\n\u001b[0m\u001b[1;32m     33\u001b[0m \u001b[0;34m\u001b[0m\u001b[0m\n\u001b[1;32m     34\u001b[0m \u001b[0mfind_min\u001b[0m\u001b[0;34m(\u001b[0m\u001b[0mguess\u001b[0m\u001b[0;34m)\u001b[0m\u001b[0;34m\u001b[0m\u001b[0m\n",
      "\u001b[0;32m<ipython-input-112-30373a397181>\u001b[0m in \u001b[0;36mfind_min\u001b[0;34m(guess, upper_lim)\u001b[0m\n\u001b[1;32m     30\u001b[0m         \u001b[0;32melse\u001b[0m\u001b[0;34m:\u001b[0m\u001b[0;34m\u001b[0m\u001b[0m\n\u001b[1;32m     31\u001b[0m             \u001b[0mguess\u001b[0m \u001b[0;34m=\u001b[0m \u001b[0mguess\u001b[0m \u001b[0;34m*\u001b[0m \u001b[0;36m2\u001b[0m\u001b[0;34m\u001b[0m\u001b[0m\n\u001b[0;32m---> 32\u001b[0;31m             \u001b[0mfind_min\u001b[0m\u001b[0;34m(\u001b[0m\u001b[0mguess\u001b[0m\u001b[0;34m)\u001b[0m\u001b[0;34m\u001b[0m\u001b[0m\n\u001b[0m\u001b[1;32m     33\u001b[0m \u001b[0;34m\u001b[0m\u001b[0m\n\u001b[1;32m     34\u001b[0m \u001b[0mfind_min\u001b[0m\u001b[0;34m(\u001b[0m\u001b[0mguess\u001b[0m\u001b[0;34m)\u001b[0m\u001b[0;34m\u001b[0m\u001b[0m\n",
      "\u001b[0;32m<ipython-input-112-30373a397181>\u001b[0m in \u001b[0;36mfind_min\u001b[0;34m(guess, upper_lim)\u001b[0m\n\u001b[1;32m     30\u001b[0m         \u001b[0;32melse\u001b[0m\u001b[0;34m:\u001b[0m\u001b[0;34m\u001b[0m\u001b[0m\n\u001b[1;32m     31\u001b[0m             \u001b[0mguess\u001b[0m \u001b[0;34m=\u001b[0m \u001b[0mguess\u001b[0m \u001b[0;34m*\u001b[0m \u001b[0;36m2\u001b[0m\u001b[0;34m\u001b[0m\u001b[0m\n\u001b[0;32m---> 32\u001b[0;31m             \u001b[0mfind_min\u001b[0m\u001b[0;34m(\u001b[0m\u001b[0mguess\u001b[0m\u001b[0;34m)\u001b[0m\u001b[0;34m\u001b[0m\u001b[0m\n\u001b[0m\u001b[1;32m     33\u001b[0m \u001b[0;34m\u001b[0m\u001b[0m\n\u001b[1;32m     34\u001b[0m \u001b[0mfind_min\u001b[0m\u001b[0;34m(\u001b[0m\u001b[0mguess\u001b[0m\u001b[0;34m)\u001b[0m\u001b[0;34m\u001b[0m\u001b[0m\n",
      "\u001b[0;32m<ipython-input-112-30373a397181>\u001b[0m in \u001b[0;36mfind_min\u001b[0;34m(guess, upper_lim)\u001b[0m\n\u001b[1;32m     30\u001b[0m         \u001b[0;32melse\u001b[0m\u001b[0;34m:\u001b[0m\u001b[0;34m\u001b[0m\u001b[0m\n\u001b[1;32m     31\u001b[0m             \u001b[0mguess\u001b[0m \u001b[0;34m=\u001b[0m \u001b[0mguess\u001b[0m \u001b[0;34m*\u001b[0m \u001b[0;36m2\u001b[0m\u001b[0;34m\u001b[0m\u001b[0m\n\u001b[0;32m---> 32\u001b[0;31m             \u001b[0mfind_min\u001b[0m\u001b[0;34m(\u001b[0m\u001b[0mguess\u001b[0m\u001b[0;34m)\u001b[0m\u001b[0;34m\u001b[0m\u001b[0m\n\u001b[0m\u001b[1;32m     33\u001b[0m \u001b[0;34m\u001b[0m\u001b[0m\n\u001b[1;32m     34\u001b[0m \u001b[0mfind_min\u001b[0m\u001b[0;34m(\u001b[0m\u001b[0mguess\u001b[0m\u001b[0;34m)\u001b[0m\u001b[0;34m\u001b[0m\u001b[0m\n",
      "\u001b[0;32m<ipython-input-112-30373a397181>\u001b[0m in \u001b[0;36mfind_min\u001b[0;34m(guess, upper_lim)\u001b[0m\n\u001b[1;32m     30\u001b[0m         \u001b[0;32melse\u001b[0m\u001b[0;34m:\u001b[0m\u001b[0;34m\u001b[0m\u001b[0m\n\u001b[1;32m     31\u001b[0m             \u001b[0mguess\u001b[0m \u001b[0;34m=\u001b[0m \u001b[0mguess\u001b[0m \u001b[0;34m*\u001b[0m \u001b[0;36m2\u001b[0m\u001b[0;34m\u001b[0m\u001b[0m\n\u001b[0;32m---> 32\u001b[0;31m             \u001b[0mfind_min\u001b[0m\u001b[0;34m(\u001b[0m\u001b[0mguess\u001b[0m\u001b[0;34m)\u001b[0m\u001b[0;34m\u001b[0m\u001b[0m\n\u001b[0m\u001b[1;32m     33\u001b[0m \u001b[0;34m\u001b[0m\u001b[0m\n\u001b[1;32m     34\u001b[0m \u001b[0mfind_min\u001b[0m\u001b[0;34m(\u001b[0m\u001b[0mguess\u001b[0m\u001b[0;34m)\u001b[0m\u001b[0;34m\u001b[0m\u001b[0m\n",
      "\u001b[0;32m<ipython-input-112-30373a397181>\u001b[0m in \u001b[0;36mfind_min\u001b[0;34m(guess, upper_lim)\u001b[0m\n\u001b[1;32m     30\u001b[0m         \u001b[0;32melse\u001b[0m\u001b[0;34m:\u001b[0m\u001b[0;34m\u001b[0m\u001b[0m\n\u001b[1;32m     31\u001b[0m             \u001b[0mguess\u001b[0m \u001b[0;34m=\u001b[0m \u001b[0mguess\u001b[0m \u001b[0;34m*\u001b[0m \u001b[0;36m2\u001b[0m\u001b[0;34m\u001b[0m\u001b[0m\n\u001b[0;32m---> 32\u001b[0;31m             \u001b[0mfind_min\u001b[0m\u001b[0;34m(\u001b[0m\u001b[0mguess\u001b[0m\u001b[0;34m)\u001b[0m\u001b[0;34m\u001b[0m\u001b[0m\n\u001b[0m\u001b[1;32m     33\u001b[0m \u001b[0;34m\u001b[0m\u001b[0m\n\u001b[1;32m     34\u001b[0m \u001b[0mfind_min\u001b[0m\u001b[0;34m(\u001b[0m\u001b[0mguess\u001b[0m\u001b[0;34m)\u001b[0m\u001b[0;34m\u001b[0m\u001b[0m\n",
      "\u001b[0;32m<ipython-input-112-30373a397181>\u001b[0m in \u001b[0;36mfind_min\u001b[0;34m(guess, upper_lim)\u001b[0m\n\u001b[1;32m     30\u001b[0m         \u001b[0;32melse\u001b[0m\u001b[0;34m:\u001b[0m\u001b[0;34m\u001b[0m\u001b[0m\n\u001b[1;32m     31\u001b[0m             \u001b[0mguess\u001b[0m \u001b[0;34m=\u001b[0m \u001b[0mguess\u001b[0m \u001b[0;34m*\u001b[0m \u001b[0;36m2\u001b[0m\u001b[0;34m\u001b[0m\u001b[0m\n\u001b[0;32m---> 32\u001b[0;31m             \u001b[0mfind_min\u001b[0m\u001b[0;34m(\u001b[0m\u001b[0mguess\u001b[0m\u001b[0;34m)\u001b[0m\u001b[0;34m\u001b[0m\u001b[0m\n\u001b[0m\u001b[1;32m     33\u001b[0m \u001b[0;34m\u001b[0m\u001b[0m\n\u001b[1;32m     34\u001b[0m \u001b[0mfind_min\u001b[0m\u001b[0;34m(\u001b[0m\u001b[0mguess\u001b[0m\u001b[0;34m)\u001b[0m\u001b[0;34m\u001b[0m\u001b[0m\n",
      "\u001b[0;32m<ipython-input-112-30373a397181>\u001b[0m in \u001b[0;36mfind_min\u001b[0;34m(guess, upper_lim)\u001b[0m\n\u001b[1;32m     30\u001b[0m         \u001b[0;32melse\u001b[0m\u001b[0;34m:\u001b[0m\u001b[0;34m\u001b[0m\u001b[0m\n\u001b[1;32m     31\u001b[0m             \u001b[0mguess\u001b[0m \u001b[0;34m=\u001b[0m \u001b[0mguess\u001b[0m \u001b[0;34m*\u001b[0m \u001b[0;36m2\u001b[0m\u001b[0;34m\u001b[0m\u001b[0m\n\u001b[0;32m---> 32\u001b[0;31m             \u001b[0mfind_min\u001b[0m\u001b[0;34m(\u001b[0m\u001b[0mguess\u001b[0m\u001b[0;34m)\u001b[0m\u001b[0;34m\u001b[0m\u001b[0m\n\u001b[0m\u001b[1;32m     33\u001b[0m \u001b[0;34m\u001b[0m\u001b[0m\n\u001b[1;32m     34\u001b[0m \u001b[0mfind_min\u001b[0m\u001b[0;34m(\u001b[0m\u001b[0mguess\u001b[0m\u001b[0;34m)\u001b[0m\u001b[0;34m\u001b[0m\u001b[0m\n",
      "\u001b[0;32m<ipython-input-112-30373a397181>\u001b[0m in \u001b[0;36mfind_min\u001b[0;34m(guess, upper_lim)\u001b[0m\n\u001b[1;32m     30\u001b[0m         \u001b[0;32melse\u001b[0m\u001b[0;34m:\u001b[0m\u001b[0;34m\u001b[0m\u001b[0m\n\u001b[1;32m     31\u001b[0m             \u001b[0mguess\u001b[0m \u001b[0;34m=\u001b[0m \u001b[0mguess\u001b[0m \u001b[0;34m*\u001b[0m \u001b[0;36m2\u001b[0m\u001b[0;34m\u001b[0m\u001b[0m\n\u001b[0;32m---> 32\u001b[0;31m             \u001b[0mfind_min\u001b[0m\u001b[0;34m(\u001b[0m\u001b[0mguess\u001b[0m\u001b[0;34m)\u001b[0m\u001b[0;34m\u001b[0m\u001b[0m\n\u001b[0m\u001b[1;32m     33\u001b[0m \u001b[0;34m\u001b[0m\u001b[0m\n\u001b[1;32m     34\u001b[0m \u001b[0mfind_min\u001b[0m\u001b[0;34m(\u001b[0m\u001b[0mguess\u001b[0m\u001b[0;34m)\u001b[0m\u001b[0;34m\u001b[0m\u001b[0m\n",
      "\u001b[0;32m<ipython-input-112-30373a397181>\u001b[0m in \u001b[0;36mfind_min\u001b[0;34m(guess, upper_lim)\u001b[0m\n\u001b[1;32m     30\u001b[0m         \u001b[0;32melse\u001b[0m\u001b[0;34m:\u001b[0m\u001b[0;34m\u001b[0m\u001b[0m\n\u001b[1;32m     31\u001b[0m             \u001b[0mguess\u001b[0m \u001b[0;34m=\u001b[0m \u001b[0mguess\u001b[0m \u001b[0;34m*\u001b[0m \u001b[0;36m2\u001b[0m\u001b[0;34m\u001b[0m\u001b[0m\n\u001b[0;32m---> 32\u001b[0;31m             \u001b[0mfind_min\u001b[0m\u001b[0;34m(\u001b[0m\u001b[0mguess\u001b[0m\u001b[0;34m)\u001b[0m\u001b[0;34m\u001b[0m\u001b[0m\n\u001b[0m\u001b[1;32m     33\u001b[0m \u001b[0;34m\u001b[0m\u001b[0m\n\u001b[1;32m     34\u001b[0m \u001b[0mfind_min\u001b[0m\u001b[0;34m(\u001b[0m\u001b[0mguess\u001b[0m\u001b[0;34m)\u001b[0m\u001b[0;34m\u001b[0m\u001b[0m\n",
      "\u001b[0;32m<ipython-input-112-30373a397181>\u001b[0m in \u001b[0;36mfind_min\u001b[0;34m(guess, upper_lim)\u001b[0m\n\u001b[1;32m     30\u001b[0m         \u001b[0;32melse\u001b[0m\u001b[0;34m:\u001b[0m\u001b[0;34m\u001b[0m\u001b[0m\n\u001b[1;32m     31\u001b[0m             \u001b[0mguess\u001b[0m \u001b[0;34m=\u001b[0m \u001b[0mguess\u001b[0m \u001b[0;34m*\u001b[0m \u001b[0;36m2\u001b[0m\u001b[0;34m\u001b[0m\u001b[0m\n\u001b[0;32m---> 32\u001b[0;31m             \u001b[0mfind_min\u001b[0m\u001b[0;34m(\u001b[0m\u001b[0mguess\u001b[0m\u001b[0;34m)\u001b[0m\u001b[0;34m\u001b[0m\u001b[0m\n\u001b[0m\u001b[1;32m     33\u001b[0m \u001b[0;34m\u001b[0m\u001b[0m\n\u001b[1;32m     34\u001b[0m \u001b[0mfind_min\u001b[0m\u001b[0;34m(\u001b[0m\u001b[0mguess\u001b[0m\u001b[0;34m)\u001b[0m\u001b[0;34m\u001b[0m\u001b[0m\n",
      "\u001b[0;32m<ipython-input-112-30373a397181>\u001b[0m in \u001b[0;36mfind_min\u001b[0;34m(guess, upper_lim)\u001b[0m\n\u001b[1;32m     30\u001b[0m         \u001b[0;32melse\u001b[0m\u001b[0;34m:\u001b[0m\u001b[0;34m\u001b[0m\u001b[0m\n\u001b[1;32m     31\u001b[0m             \u001b[0mguess\u001b[0m \u001b[0;34m=\u001b[0m \u001b[0mguess\u001b[0m \u001b[0;34m*\u001b[0m \u001b[0;36m2\u001b[0m\u001b[0;34m\u001b[0m\u001b[0m\n\u001b[0;32m---> 32\u001b[0;31m             \u001b[0mfind_min\u001b[0m\u001b[0;34m(\u001b[0m\u001b[0mguess\u001b[0m\u001b[0;34m)\u001b[0m\u001b[0;34m\u001b[0m\u001b[0m\n\u001b[0m\u001b[1;32m     33\u001b[0m \u001b[0;34m\u001b[0m\u001b[0m\n\u001b[1;32m     34\u001b[0m \u001b[0mfind_min\u001b[0m\u001b[0;34m(\u001b[0m\u001b[0mguess\u001b[0m\u001b[0;34m)\u001b[0m\u001b[0;34m\u001b[0m\u001b[0m\n",
      "\u001b[0;32m<ipython-input-112-30373a397181>\u001b[0m in \u001b[0;36mfind_min\u001b[0;34m(guess, upper_lim)\u001b[0m\n\u001b[1;32m     30\u001b[0m         \u001b[0;32melse\u001b[0m\u001b[0;34m:\u001b[0m\u001b[0;34m\u001b[0m\u001b[0m\n\u001b[1;32m     31\u001b[0m             \u001b[0mguess\u001b[0m \u001b[0;34m=\u001b[0m \u001b[0mguess\u001b[0m \u001b[0;34m*\u001b[0m \u001b[0;36m2\u001b[0m\u001b[0;34m\u001b[0m\u001b[0m\n\u001b[0;32m---> 32\u001b[0;31m             \u001b[0mfind_min\u001b[0m\u001b[0;34m(\u001b[0m\u001b[0mguess\u001b[0m\u001b[0;34m)\u001b[0m\u001b[0;34m\u001b[0m\u001b[0m\n\u001b[0m\u001b[1;32m     33\u001b[0m \u001b[0;34m\u001b[0m\u001b[0m\n\u001b[1;32m     34\u001b[0m \u001b[0mfind_min\u001b[0m\u001b[0;34m(\u001b[0m\u001b[0mguess\u001b[0m\u001b[0;34m)\u001b[0m\u001b[0;34m\u001b[0m\u001b[0m\n",
      "\u001b[0;32m<ipython-input-112-30373a397181>\u001b[0m in \u001b[0;36mfind_min\u001b[0;34m(guess, upper_lim)\u001b[0m\n\u001b[1;32m     30\u001b[0m         \u001b[0;32melse\u001b[0m\u001b[0;34m:\u001b[0m\u001b[0;34m\u001b[0m\u001b[0m\n\u001b[1;32m     31\u001b[0m             \u001b[0mguess\u001b[0m \u001b[0;34m=\u001b[0m \u001b[0mguess\u001b[0m \u001b[0;34m*\u001b[0m \u001b[0;36m2\u001b[0m\u001b[0;34m\u001b[0m\u001b[0m\n\u001b[0;32m---> 32\u001b[0;31m             \u001b[0mfind_min\u001b[0m\u001b[0;34m(\u001b[0m\u001b[0mguess\u001b[0m\u001b[0;34m)\u001b[0m\u001b[0;34m\u001b[0m\u001b[0m\n\u001b[0m\u001b[1;32m     33\u001b[0m \u001b[0;34m\u001b[0m\u001b[0m\n\u001b[1;32m     34\u001b[0m \u001b[0mfind_min\u001b[0m\u001b[0;34m(\u001b[0m\u001b[0mguess\u001b[0m\u001b[0;34m)\u001b[0m\u001b[0;34m\u001b[0m\u001b[0m\n",
      "\u001b[0;32m<ipython-input-112-30373a397181>\u001b[0m in \u001b[0;36mfind_min\u001b[0;34m(guess, upper_lim)\u001b[0m\n\u001b[1;32m     30\u001b[0m         \u001b[0;32melse\u001b[0m\u001b[0;34m:\u001b[0m\u001b[0;34m\u001b[0m\u001b[0m\n\u001b[1;32m     31\u001b[0m             \u001b[0mguess\u001b[0m \u001b[0;34m=\u001b[0m \u001b[0mguess\u001b[0m \u001b[0;34m*\u001b[0m \u001b[0;36m2\u001b[0m\u001b[0;34m\u001b[0m\u001b[0m\n\u001b[0;32m---> 32\u001b[0;31m             \u001b[0mfind_min\u001b[0m\u001b[0;34m(\u001b[0m\u001b[0mguess\u001b[0m\u001b[0;34m)\u001b[0m\u001b[0;34m\u001b[0m\u001b[0m\n\u001b[0m\u001b[1;32m     33\u001b[0m \u001b[0;34m\u001b[0m\u001b[0m\n\u001b[1;32m     34\u001b[0m \u001b[0mfind_min\u001b[0m\u001b[0;34m(\u001b[0m\u001b[0mguess\u001b[0m\u001b[0;34m)\u001b[0m\u001b[0;34m\u001b[0m\u001b[0m\n",
      "\u001b[0;32m<ipython-input-112-30373a397181>\u001b[0m in \u001b[0;36mfind_min\u001b[0;34m(guess, upper_lim)\u001b[0m\n\u001b[1;32m     30\u001b[0m         \u001b[0;32melse\u001b[0m\u001b[0;34m:\u001b[0m\u001b[0;34m\u001b[0m\u001b[0m\n\u001b[1;32m     31\u001b[0m             \u001b[0mguess\u001b[0m \u001b[0;34m=\u001b[0m \u001b[0mguess\u001b[0m \u001b[0;34m*\u001b[0m \u001b[0;36m2\u001b[0m\u001b[0;34m\u001b[0m\u001b[0m\n\u001b[0;32m---> 32\u001b[0;31m             \u001b[0mfind_min\u001b[0m\u001b[0;34m(\u001b[0m\u001b[0mguess\u001b[0m\u001b[0;34m)\u001b[0m\u001b[0;34m\u001b[0m\u001b[0m\n\u001b[0m\u001b[1;32m     33\u001b[0m \u001b[0;34m\u001b[0m\u001b[0m\n\u001b[1;32m     34\u001b[0m \u001b[0mfind_min\u001b[0m\u001b[0;34m(\u001b[0m\u001b[0mguess\u001b[0m\u001b[0;34m)\u001b[0m\u001b[0;34m\u001b[0m\u001b[0m\n",
      "\u001b[0;32m<ipython-input-112-30373a397181>\u001b[0m in \u001b[0;36mfind_min\u001b[0;34m(guess, upper_lim)\u001b[0m\n\u001b[1;32m     23\u001b[0m             \u001b[0;31m# maybe better to search backward\u001b[0m\u001b[0;34m\u001b[0m\u001b[0;34m\u001b[0m\u001b[0m\n\u001b[1;32m     24\u001b[0m             \u001b[0;31m#upper_lim = guess\u001b[0m\u001b[0;34m\u001b[0m\u001b[0;34m\u001b[0m\u001b[0m\n\u001b[0;32m---> 25\u001b[0;31m             \u001b[0msearch_interval\u001b[0m\u001b[0;34m(\u001b[0m\u001b[0mguess\u001b[0m\u001b[0;34m)\u001b[0m\u001b[0;34m\u001b[0m\u001b[0m\n\u001b[0m\u001b[1;32m     26\u001b[0m     \u001b[0;32melse\u001b[0m\u001b[0;34m:\u001b[0m\u001b[0;34m\u001b[0m\u001b[0m\n\u001b[1;32m     27\u001b[0m         \u001b[0;32mif\u001b[0m \u001b[0mguess\u001b[0m \u001b[0;34m*\u001b[0m \u001b[0;36m2\u001b[0m \u001b[0;34m>\u001b[0m \u001b[0mupper_lim\u001b[0m\u001b[0;34m:\u001b[0m\u001b[0;34m\u001b[0m\u001b[0m\n",
      "\u001b[0;32m<ipython-input-112-30373a397181>\u001b[0m in \u001b[0;36msearch_interval\u001b[0;34m(guess)\u001b[0m\n\u001b[1;32m      5\u001b[0m         \u001b[0mmid\u001b[0m \u001b[0;34m=\u001b[0m \u001b[0mguess\u001b[0m \u001b[0;34m-\u001b[0m \u001b[0mmath\u001b[0m\u001b[0;34m.\u001b[0m\u001b[0mfloor\u001b[0m\u001b[0;34m(\u001b[0m\u001b[0;34m(\u001b[0m\u001b[0mguess\u001b[0m\u001b[0;34m/\u001b[0m\u001b[0;36m2\u001b[0m\u001b[0;34m)\u001b[0m\u001b[0;34m)\u001b[0m\u001b[0;34m\u001b[0m\u001b[0m\n\u001b[1;32m      6\u001b[0m         \u001b[0mguess\u001b[0m \u001b[0;34m=\u001b[0m \u001b[0mguess\u001b[0m \u001b[0;34m-\u001b[0m \u001b[0mmid\u001b[0m\u001b[0;34m\u001b[0m\u001b[0m\n\u001b[0;32m----> 7\u001b[0;31m         \u001b[0mfind_min\u001b[0m\u001b[0;34m(\u001b[0m\u001b[0mguess\u001b[0m\u001b[0;34m)\u001b[0m\u001b[0;34m\u001b[0m\u001b[0m\n\u001b[0m\u001b[1;32m      8\u001b[0m     \u001b[0;32melif\u001b[0m \u001b[0mpi_error\u001b[0m\u001b[0;34m(\u001b[0m\u001b[0mguess\u001b[0m\u001b[0;34m)\u001b[0m \u001b[0;34m>\u001b[0m \u001b[0;36m0.000001\u001b[0m\u001b[0;34m:\u001b[0m\u001b[0;34m\u001b[0m\u001b[0m\n\u001b[1;32m      9\u001b[0m         \u001b[0mguess\u001b[0m \u001b[0;34m=\u001b[0m \u001b[0mguess\u001b[0m \u001b[0;34m+\u001b[0m \u001b[0mmath\u001b[0m\u001b[0;34m.\u001b[0m\u001b[0mfloor\u001b[0m\u001b[0;34m(\u001b[0m\u001b[0;34m(\u001b[0m\u001b[0mguess\u001b[0m\u001b[0;34m/\u001b[0m\u001b[0;36m2\u001b[0m\u001b[0;34m)\u001b[0m\u001b[0;34m)\u001b[0m\u001b[0;34m\u001b[0m\u001b[0m\n",
      "\u001b[0;32m<ipython-input-112-30373a397181>\u001b[0m in \u001b[0;36mfind_min\u001b[0;34m(guess, upper_lim)\u001b[0m\n\u001b[1;32m     30\u001b[0m         \u001b[0;32melse\u001b[0m\u001b[0;34m:\u001b[0m\u001b[0;34m\u001b[0m\u001b[0m\n\u001b[1;32m     31\u001b[0m             \u001b[0mguess\u001b[0m \u001b[0;34m=\u001b[0m \u001b[0mguess\u001b[0m \u001b[0;34m*\u001b[0m \u001b[0;36m2\u001b[0m\u001b[0;34m\u001b[0m\u001b[0m\n\u001b[0;32m---> 32\u001b[0;31m             \u001b[0mfind_min\u001b[0m\u001b[0;34m(\u001b[0m\u001b[0mguess\u001b[0m\u001b[0;34m)\u001b[0m\u001b[0;34m\u001b[0m\u001b[0m\n\u001b[0m\u001b[1;32m     33\u001b[0m \u001b[0;34m\u001b[0m\u001b[0m\n\u001b[1;32m     34\u001b[0m \u001b[0mfind_min\u001b[0m\u001b[0;34m(\u001b[0m\u001b[0mguess\u001b[0m\u001b[0;34m)\u001b[0m\u001b[0;34m\u001b[0m\u001b[0m\n",
      "\u001b[0;32m<ipython-input-112-30373a397181>\u001b[0m in \u001b[0;36mfind_min\u001b[0;34m(guess, upper_lim)\u001b[0m\n\u001b[1;32m     23\u001b[0m             \u001b[0;31m# maybe better to search backward\u001b[0m\u001b[0;34m\u001b[0m\u001b[0;34m\u001b[0m\u001b[0m\n\u001b[1;32m     24\u001b[0m             \u001b[0;31m#upper_lim = guess\u001b[0m\u001b[0;34m\u001b[0m\u001b[0;34m\u001b[0m\u001b[0m\n\u001b[0;32m---> 25\u001b[0;31m             \u001b[0msearch_interval\u001b[0m\u001b[0;34m(\u001b[0m\u001b[0mguess\u001b[0m\u001b[0;34m)\u001b[0m\u001b[0;34m\u001b[0m\u001b[0m\n\u001b[0m\u001b[1;32m     26\u001b[0m     \u001b[0;32melse\u001b[0m\u001b[0;34m:\u001b[0m\u001b[0;34m\u001b[0m\u001b[0m\n\u001b[1;32m     27\u001b[0m         \u001b[0;32mif\u001b[0m \u001b[0mguess\u001b[0m \u001b[0;34m*\u001b[0m \u001b[0;36m2\u001b[0m \u001b[0;34m>\u001b[0m \u001b[0mupper_lim\u001b[0m\u001b[0;34m:\u001b[0m\u001b[0;34m\u001b[0m\u001b[0m\n",
      "\u001b[0;32m<ipython-input-112-30373a397181>\u001b[0m in \u001b[0;36msearch_interval\u001b[0;34m(guess)\u001b[0m\n\u001b[1;32m      5\u001b[0m         \u001b[0mmid\u001b[0m \u001b[0;34m=\u001b[0m \u001b[0mguess\u001b[0m \u001b[0;34m-\u001b[0m \u001b[0mmath\u001b[0m\u001b[0;34m.\u001b[0m\u001b[0mfloor\u001b[0m\u001b[0;34m(\u001b[0m\u001b[0;34m(\u001b[0m\u001b[0mguess\u001b[0m\u001b[0;34m/\u001b[0m\u001b[0;36m2\u001b[0m\u001b[0;34m)\u001b[0m\u001b[0;34m)\u001b[0m\u001b[0;34m\u001b[0m\u001b[0m\n\u001b[1;32m      6\u001b[0m         \u001b[0mguess\u001b[0m \u001b[0;34m=\u001b[0m \u001b[0mguess\u001b[0m \u001b[0;34m-\u001b[0m \u001b[0mmid\u001b[0m\u001b[0;34m\u001b[0m\u001b[0m\n\u001b[0;32m----> 7\u001b[0;31m         \u001b[0mfind_min\u001b[0m\u001b[0;34m(\u001b[0m\u001b[0mguess\u001b[0m\u001b[0;34m)\u001b[0m\u001b[0;34m\u001b[0m\u001b[0m\n\u001b[0m\u001b[1;32m      8\u001b[0m     \u001b[0;32melif\u001b[0m \u001b[0mpi_error\u001b[0m\u001b[0;34m(\u001b[0m\u001b[0mguess\u001b[0m\u001b[0;34m)\u001b[0m \u001b[0;34m>\u001b[0m \u001b[0;36m0.000001\u001b[0m\u001b[0;34m:\u001b[0m\u001b[0;34m\u001b[0m\u001b[0m\n\u001b[1;32m      9\u001b[0m         \u001b[0mguess\u001b[0m \u001b[0;34m=\u001b[0m \u001b[0mguess\u001b[0m \u001b[0;34m+\u001b[0m \u001b[0mmath\u001b[0m\u001b[0;34m.\u001b[0m\u001b[0mfloor\u001b[0m\u001b[0;34m(\u001b[0m\u001b[0;34m(\u001b[0m\u001b[0mguess\u001b[0m\u001b[0;34m/\u001b[0m\u001b[0;36m2\u001b[0m\u001b[0;34m)\u001b[0m\u001b[0;34m)\u001b[0m\u001b[0;34m\u001b[0m\u001b[0m\n",
      "\u001b[0;32m<ipython-input-112-30373a397181>\u001b[0m in \u001b[0;36mfind_min\u001b[0;34m(guess, upper_lim)\u001b[0m\n\u001b[1;32m     30\u001b[0m         \u001b[0;32melse\u001b[0m\u001b[0;34m:\u001b[0m\u001b[0;34m\u001b[0m\u001b[0m\n\u001b[1;32m     31\u001b[0m             \u001b[0mguess\u001b[0m \u001b[0;34m=\u001b[0m \u001b[0mguess\u001b[0m \u001b[0;34m*\u001b[0m \u001b[0;36m2\u001b[0m\u001b[0;34m\u001b[0m\u001b[0m\n\u001b[0;32m---> 32\u001b[0;31m             \u001b[0mfind_min\u001b[0m\u001b[0;34m(\u001b[0m\u001b[0mguess\u001b[0m\u001b[0;34m)\u001b[0m\u001b[0;34m\u001b[0m\u001b[0m\n\u001b[0m\u001b[1;32m     33\u001b[0m \u001b[0;34m\u001b[0m\u001b[0m\n\u001b[1;32m     34\u001b[0m \u001b[0mfind_min\u001b[0m\u001b[0;34m(\u001b[0m\u001b[0mguess\u001b[0m\u001b[0;34m)\u001b[0m\u001b[0;34m\u001b[0m\u001b[0m\n",
      "\u001b[0;32m<ipython-input-112-30373a397181>\u001b[0m in \u001b[0;36mfind_min\u001b[0;34m(guess, upper_lim)\u001b[0m\n\u001b[1;32m     23\u001b[0m             \u001b[0;31m# maybe better to search backward\u001b[0m\u001b[0;34m\u001b[0m\u001b[0;34m\u001b[0m\u001b[0m\n\u001b[1;32m     24\u001b[0m             \u001b[0;31m#upper_lim = guess\u001b[0m\u001b[0;34m\u001b[0m\u001b[0;34m\u001b[0m\u001b[0m\n\u001b[0;32m---> 25\u001b[0;31m             \u001b[0msearch_interval\u001b[0m\u001b[0;34m(\u001b[0m\u001b[0mguess\u001b[0m\u001b[0;34m)\u001b[0m\u001b[0;34m\u001b[0m\u001b[0m\n\u001b[0m\u001b[1;32m     26\u001b[0m     \u001b[0;32melse\u001b[0m\u001b[0;34m:\u001b[0m\u001b[0;34m\u001b[0m\u001b[0m\n\u001b[1;32m     27\u001b[0m         \u001b[0;32mif\u001b[0m \u001b[0mguess\u001b[0m \u001b[0;34m*\u001b[0m \u001b[0;36m2\u001b[0m \u001b[0;34m>\u001b[0m \u001b[0mupper_lim\u001b[0m\u001b[0;34m:\u001b[0m\u001b[0;34m\u001b[0m\u001b[0m\n",
      "\u001b[0;32m<ipython-input-112-30373a397181>\u001b[0m in \u001b[0;36msearch_interval\u001b[0;34m(guess)\u001b[0m\n\u001b[1;32m      5\u001b[0m         \u001b[0mmid\u001b[0m \u001b[0;34m=\u001b[0m \u001b[0mguess\u001b[0m \u001b[0;34m-\u001b[0m \u001b[0mmath\u001b[0m\u001b[0;34m.\u001b[0m\u001b[0mfloor\u001b[0m\u001b[0;34m(\u001b[0m\u001b[0;34m(\u001b[0m\u001b[0mguess\u001b[0m\u001b[0;34m/\u001b[0m\u001b[0;36m2\u001b[0m\u001b[0;34m)\u001b[0m\u001b[0;34m)\u001b[0m\u001b[0;34m\u001b[0m\u001b[0m\n\u001b[1;32m      6\u001b[0m         \u001b[0mguess\u001b[0m \u001b[0;34m=\u001b[0m \u001b[0mguess\u001b[0m \u001b[0;34m-\u001b[0m \u001b[0mmid\u001b[0m\u001b[0;34m\u001b[0m\u001b[0m\n\u001b[0;32m----> 7\u001b[0;31m         \u001b[0mfind_min\u001b[0m\u001b[0;34m(\u001b[0m\u001b[0mguess\u001b[0m\u001b[0;34m)\u001b[0m\u001b[0;34m\u001b[0m\u001b[0m\n\u001b[0m\u001b[1;32m      8\u001b[0m     \u001b[0;32melif\u001b[0m \u001b[0mpi_error\u001b[0m\u001b[0;34m(\u001b[0m\u001b[0mguess\u001b[0m\u001b[0;34m)\u001b[0m \u001b[0;34m>\u001b[0m \u001b[0;36m0.000001\u001b[0m\u001b[0;34m:\u001b[0m\u001b[0;34m\u001b[0m\u001b[0m\n\u001b[1;32m      9\u001b[0m         \u001b[0mguess\u001b[0m \u001b[0;34m=\u001b[0m \u001b[0mguess\u001b[0m \u001b[0;34m+\u001b[0m \u001b[0mmath\u001b[0m\u001b[0;34m.\u001b[0m\u001b[0mfloor\u001b[0m\u001b[0;34m(\u001b[0m\u001b[0;34m(\u001b[0m\u001b[0mguess\u001b[0m\u001b[0;34m/\u001b[0m\u001b[0;36m2\u001b[0m\u001b[0;34m)\u001b[0m\u001b[0;34m)\u001b[0m\u001b[0;34m\u001b[0m\u001b[0m\n",
      "\u001b[0;32m<ipython-input-112-30373a397181>\u001b[0m in \u001b[0;36mfind_min\u001b[0;34m(guess, upper_lim)\u001b[0m\n\u001b[1;32m     30\u001b[0m         \u001b[0;32melse\u001b[0m\u001b[0;34m:\u001b[0m\u001b[0;34m\u001b[0m\u001b[0m\n\u001b[1;32m     31\u001b[0m             \u001b[0mguess\u001b[0m \u001b[0;34m=\u001b[0m \u001b[0mguess\u001b[0m \u001b[0;34m*\u001b[0m \u001b[0;36m2\u001b[0m\u001b[0;34m\u001b[0m\u001b[0m\n\u001b[0;32m---> 32\u001b[0;31m             \u001b[0mfind_min\u001b[0m\u001b[0;34m(\u001b[0m\u001b[0mguess\u001b[0m\u001b[0;34m)\u001b[0m\u001b[0;34m\u001b[0m\u001b[0m\n\u001b[0m\u001b[1;32m     33\u001b[0m \u001b[0;34m\u001b[0m\u001b[0m\n\u001b[1;32m     34\u001b[0m \u001b[0mfind_min\u001b[0m\u001b[0;34m(\u001b[0m\u001b[0mguess\u001b[0m\u001b[0;34m)\u001b[0m\u001b[0;34m\u001b[0m\u001b[0m\n",
      "\u001b[0;32m<ipython-input-112-30373a397181>\u001b[0m in \u001b[0;36mfind_min\u001b[0;34m(guess, upper_lim)\u001b[0m\n\u001b[1;32m     23\u001b[0m             \u001b[0;31m# maybe better to search backward\u001b[0m\u001b[0;34m\u001b[0m\u001b[0;34m\u001b[0m\u001b[0m\n\u001b[1;32m     24\u001b[0m             \u001b[0;31m#upper_lim = guess\u001b[0m\u001b[0;34m\u001b[0m\u001b[0;34m\u001b[0m\u001b[0m\n\u001b[0;32m---> 25\u001b[0;31m             \u001b[0msearch_interval\u001b[0m\u001b[0;34m(\u001b[0m\u001b[0mguess\u001b[0m\u001b[0;34m)\u001b[0m\u001b[0;34m\u001b[0m\u001b[0m\n\u001b[0m\u001b[1;32m     26\u001b[0m     \u001b[0;32melse\u001b[0m\u001b[0;34m:\u001b[0m\u001b[0;34m\u001b[0m\u001b[0m\n\u001b[1;32m     27\u001b[0m         \u001b[0;32mif\u001b[0m \u001b[0mguess\u001b[0m \u001b[0;34m*\u001b[0m \u001b[0;36m2\u001b[0m \u001b[0;34m>\u001b[0m \u001b[0mupper_lim\u001b[0m\u001b[0;34m:\u001b[0m\u001b[0;34m\u001b[0m\u001b[0m\n",
      "\u001b[0;32m<ipython-input-112-30373a397181>\u001b[0m in \u001b[0;36msearch_interval\u001b[0;34m(guess)\u001b[0m\n\u001b[1;32m      2\u001b[0m \u001b[0;34m\u001b[0m\u001b[0m\n\u001b[1;32m      3\u001b[0m \u001b[0;32mdef\u001b[0m \u001b[0msearch_interval\u001b[0m\u001b[0;34m(\u001b[0m\u001b[0mguess\u001b[0m\u001b[0;34m)\u001b[0m\u001b[0;34m:\u001b[0m\u001b[0;34m\u001b[0m\u001b[0m\n\u001b[0;32m----> 4\u001b[0;31m     \u001b[0;32mif\u001b[0m \u001b[0mpi_error\u001b[0m\u001b[0;34m(\u001b[0m\u001b[0mguess\u001b[0m\u001b[0;34m)\u001b[0m \u001b[0;34m<\u001b[0m \u001b[0;36m0.000001\u001b[0m\u001b[0;34m:\u001b[0m\u001b[0;34m\u001b[0m\u001b[0m\n\u001b[0m\u001b[1;32m      5\u001b[0m         \u001b[0mmid\u001b[0m \u001b[0;34m=\u001b[0m \u001b[0mguess\u001b[0m \u001b[0;34m-\u001b[0m \u001b[0mmath\u001b[0m\u001b[0;34m.\u001b[0m\u001b[0mfloor\u001b[0m\u001b[0;34m(\u001b[0m\u001b[0;34m(\u001b[0m\u001b[0mguess\u001b[0m\u001b[0;34m/\u001b[0m\u001b[0;36m2\u001b[0m\u001b[0;34m)\u001b[0m\u001b[0;34m)\u001b[0m\u001b[0;34m\u001b[0m\u001b[0m\n\u001b[1;32m      6\u001b[0m         \u001b[0mguess\u001b[0m \u001b[0;34m=\u001b[0m \u001b[0mguess\u001b[0m \u001b[0;34m-\u001b[0m \u001b[0mmid\u001b[0m\u001b[0;34m\u001b[0m\u001b[0m\n",
      "\u001b[0;32m<ipython-input-5-25bf872ad899>\u001b[0m in \u001b[0;36mpi_error\u001b[0;34m(N)\u001b[0m\n\u001b[1;32m      1\u001b[0m \u001b[0;32mdef\u001b[0m \u001b[0mpi_error\u001b[0m\u001b[0;34m(\u001b[0m\u001b[0mN\u001b[0m\u001b[0;34m)\u001b[0m\u001b[0;34m:\u001b[0m\u001b[0;34m\u001b[0m\u001b[0m\n\u001b[1;32m      2\u001b[0m \u001b[0;34m\u001b[0m\u001b[0m\n\u001b[0;32m----> 3\u001b[0;31m     \u001b[0mpi_err\u001b[0m \u001b[0;34m=\u001b[0m \u001b[0mnp\u001b[0m\u001b[0;34m.\u001b[0m\u001b[0mabs\u001b[0m\u001b[0;34m(\u001b[0m\u001b[0mpi_true\u001b[0m \u001b[0;34m-\u001b[0m \u001b[0mpi_approx\u001b[0m\u001b[0;34m(\u001b[0m\u001b[0mN\u001b[0m\u001b[0;34m)\u001b[0m\u001b[0;34m)\u001b[0m\u001b[0;34m\u001b[0m\u001b[0m\n\u001b[0m\u001b[1;32m      4\u001b[0m \u001b[0;34m\u001b[0m\u001b[0m\n\u001b[1;32m      5\u001b[0m     \u001b[0;31m#print(\"The true value of pi = {}, the approxiamtion = {}\".format(pi_true, pi_approx(N)))\u001b[0m\u001b[0;34m\u001b[0m\u001b[0;34m\u001b[0m\u001b[0m\n",
      "\u001b[0;32m<ipython-input-3-258975f3fb03>\u001b[0m in \u001b[0;36mpi_approx\u001b[0;34m(N)\u001b[0m\n\u001b[1;32m      2\u001b[0m     \u001b[0msummation\u001b[0m \u001b[0;34m=\u001b[0m \u001b[0;36m0\u001b[0m\u001b[0;34m\u001b[0m\u001b[0m\n\u001b[1;32m      3\u001b[0m     \u001b[0;32mfor\u001b[0m \u001b[0mi\u001b[0m \u001b[0;32min\u001b[0m \u001b[0mrange\u001b[0m\u001b[0;34m(\u001b[0m\u001b[0mN\u001b[0m\u001b[0;34m)\u001b[0m\u001b[0;34m:\u001b[0m\u001b[0;34m\u001b[0m\u001b[0m\n\u001b[0;32m----> 4\u001b[0;31m         \u001b[0malpha\u001b[0m  \u001b[0;34m=\u001b[0m \u001b[0;34m(\u001b[0m\u001b[0mi\u001b[0m \u001b[0;34m-\u001b[0m \u001b[0;36m0.5\u001b[0m\u001b[0;34m)\u001b[0m\u001b[0;34m/\u001b[0m\u001b[0mN\u001b[0m\u001b[0;34m\u001b[0m\u001b[0m\n\u001b[0m\u001b[1;32m      5\u001b[0m         \u001b[0msummation\u001b[0m \u001b[0;34m=\u001b[0m \u001b[0msummation\u001b[0m \u001b[0;34m+\u001b[0m \u001b[0;36m1\u001b[0m \u001b[0;34m/\u001b[0m \u001b[0;34m(\u001b[0m\u001b[0;36m1\u001b[0m \u001b[0;34m+\u001b[0m \u001b[0malpha\u001b[0m\u001b[0;34m**\u001b[0m\u001b[0;36m2\u001b[0m\u001b[0;34m)\u001b[0m\u001b[0;34m\u001b[0m\u001b[0m\n\u001b[1;32m      6\u001b[0m         \u001b[0;31m#print(\"i = {} and summation = {}\".format(i, summation))\u001b[0m\u001b[0;34m\u001b[0m\u001b[0;34m\u001b[0m\u001b[0m\n",
      "\u001b[0;31mKeyboardInterrupt\u001b[0m: "
     ]
    }
   ],
   "source": [
    "import math\n",
    "\n",
    "def search_interval(guess):\n",
    "    if pi_error(guess) < 0.000001:\n",
    "        mid = guess - math.floor((guess/2))\n",
    "        guess = guess - mid\n",
    "        find_min(guess)\n",
    "    elif pi_error(guess) > 0.000001:\n",
    "        guess = guess + math.floor((guess/2))\n",
    "        print(\"I'm here fam\")\n",
    "        #guess = guess + mid\n",
    "        find_min(guess)\n",
    "\n",
    "guess = 10\n",
    "def find_min(guess, upper_lim=100000000):\n",
    "    \n",
    "    print(\"Guessing {}\".format(guess))\n",
    "    if pi_error(guess) < 0.000001:\n",
    "            print(\"Got 'eeeem at {}\".format(guess))\n",
    "            # The true min will be equal to or at least less that the above discovered result\n",
    "            # Therefore, we shall look in the interval using the above result as an upper limit\n",
    "            print(\"Now looking for true min in closet interval range...\")\n",
    "            # maybe better to search backward\n",
    "            #upper_lim = guess\n",
    "            search_interval(guess)\n",
    "    else:\n",
    "        if guess * 2 > upper_lim:\n",
    "            #print(\"I'm here fam\")\n",
    "            search_interval(guess)\n",
    "        else:\n",
    "            guess = guess * 2\n",
    "            find_min(guess)\n",
    "        \n",
    "find_min(guess)"
   ]
  },
  {
   "cell_type": "code",
   "execution_count": 96,
   "metadata": {
    "collapsed": false
   },
   "outputs": [
    {
     "data": {
      "text/plain": [
       "10"
      ]
     },
     "execution_count": 96,
     "metadata": {},
     "output_type": "execute_result"
    }
   ],
   "source": [
    "guess"
   ]
  },
  {
   "cell_type": "code",
   "execution_count": 51,
   "metadata": {
    "collapsed": false
   },
   "outputs": [
    {
     "data": {
      "text/plain": [
       "368640"
      ]
     },
     "execution_count": 51,
     "metadata": {},
     "output_type": "execute_result"
    }
   ],
   "source": [
    "1474560 - 1105920"
   ]
  },
  {
   "cell_type": "code",
   "execution_count": 47,
   "metadata": {
    "collapsed": true
   },
   "outputs": [],
   "source": [
    "upper_lim = 1474560"
   ]
  },
  {
   "cell_type": "code",
   "execution_count": 48,
   "metadata": {
    "collapsed": false
   },
   "outputs": [],
   "source": [
    "lower_lim = math.floor(1474560 / 2)"
   ]
  },
  {
   "cell_type": "code",
   "execution_count": 49,
   "metadata": {
    "collapsed": true
   },
   "outputs": [],
   "source": [
    "new_guess = lower_lim + math.floor((upper_lim / 4))"
   ]
  },
  {
   "cell_type": "code",
   "execution_count": 50,
   "metadata": {
    "collapsed": false
   },
   "outputs": [
    {
     "name": "stdout",
     "output_type": "stream",
     "text": [
      "1105920\n"
     ]
    }
   ],
   "source": [
    "print(new_guess)"
   ]
  },
  {
   "cell_type": "code",
   "execution_count": 1,
   "metadata": {
    "collapsed": false
   },
   "outputs": [
    {
     "name": "stdout",
     "output_type": "stream",
     "text": [
      "3.141592653589793\n",
      "20\n",
      "40\n",
      "80\n",
      "160\n",
      "320\n",
      "640\n",
      "1280\n",
      "2560\n",
      "5120\n",
      "10240\n",
      "20480\n",
      "40960\n",
      "81920\n",
      "163840\n",
      "327680\n",
      "655360\n",
      "1310720\n",
      "2621440\n",
      "2621440\n",
      "Upper - 2621440,\n",
      "Lower - 1310720,\n",
      "Middle - 1966080\n",
      "Below\n",
      "Upper - 2621440,\n",
      "Lower - 1966080,\n",
      "Middle - 2293760\n",
      "Above\n",
      "Upper - 2293760,\n",
      "Lower - 1966080,\n",
      "Middle - 2129920\n",
      "Above\n",
      "Upper - 2129920,\n",
      "Lower - 1966080,\n",
      "Middle - 2048000\n",
      "Above\n",
      "Upper - 2048000,\n",
      "Lower - 1966080,\n",
      "Middle - 2007040\n",
      "Above\n",
      "Upper - 2007040,\n",
      "Lower - 1966080,\n",
      "Middle - 1986560\n",
      "Below\n",
      "Upper - 2007040,\n",
      "Lower - 1986560,\n",
      "Middle - 1996800\n",
      "Below\n",
      "Upper - 2007040,\n",
      "Lower - 1996800,\n",
      "Middle - 2001920\n",
      "Above\n",
      "Upper - 2001920,\n",
      "Lower - 1996800,\n",
      "Middle - 1999360\n",
      "Below\n",
      "Upper - 2001920,\n",
      "Lower - 1999360,\n",
      "Middle - 2000640\n",
      "Above\n",
      "Upper - 2000640,\n",
      "Lower - 1999360,\n",
      "Middle - 2000000\n",
      "Above\n",
      "Upper - 2000000,\n",
      "Lower - 1999360,\n",
      "Middle - 1999680\n",
      "Below\n",
      "Upper - 2000000,\n",
      "Lower - 1999680,\n",
      "Middle - 1999840\n",
      "Below\n",
      "Upper - 2000000,\n",
      "Lower - 1999840,\n",
      "Middle - 1999920\n",
      "Below\n",
      "Upper - 2000000,\n",
      "Lower - 1999920,\n",
      "Middle - 1999960\n",
      "Below\n",
      "Upper - 2000000,\n",
      "Lower - 1999960,\n",
      "Middle - 1999980\n",
      "Below\n",
      "Upper - 2000000,\n",
      "Lower - 1999980,\n",
      "Middle - 1999990\n",
      "Below\n",
      "Upper - 2000000,\n",
      "Lower - 1999990,\n",
      "Middle - 1999995\n",
      "Below\n",
      "Upper - 2000000,\n",
      "Lower - 1999995,\n",
      "Middle - 1999997\n",
      "Below\n",
      "Upper - 2000000,\n",
      "Lower - 1999997,\n",
      "Middle - 1999998\n",
      "Below\n",
      "Upper - 2000000,\n",
      "Lower - 1999998,\n",
      "Middle - 1999999\n",
      "Below\n",
      "Upper - 2000000,\n",
      "Lower - 1999999,\n",
      "Middle - 1999999\n",
      "Got 'eeeem at 2000000\n"
     ]
    }
   ],
   "source": [
    "import math\n",
    "import numpy as np\n",
    "\n",
    "pi_true = np.pi\n",
    "print(pi_true)\n",
    "\n",
    "def pi_error(N):\n",
    "\n",
    "    pi_err = np.abs(pi_true - pi_approx(N))\n",
    "\n",
    "    #print(\"The true value of pi = {}, the approxiamtion = {}\".format(pi_true, pi_approx(N)))\n",
    "    #print(\"Thus, the error is = {}\".format(pi_err))\n",
    "\n",
    "    return pi_err\n",
    "\n",
    "def pi_approx(N):\n",
    "    summation = 0\n",
    "    for i in range(N):\n",
    "        alpha  = (i - 0.5)/N\n",
    "        summation = summation + 1 / (1 + alpha**2)\n",
    "        #print(\"i = {} and summation = {}\".format(i, summation))\n",
    "\n",
    "    result = (4 / N)*summation\n",
    "    #print(\"pi approximation = {}\".format(result))\n",
    "\n",
    "    return result\n",
    "\n",
    "# first search\n",
    "guesses = []\n",
    "guess = 10\n",
    "\n",
    "while pi_error(guess) > 0.000001:\n",
    "    guesses = [guess]\n",
    "    guess = guess * 2\n",
    "    guesses.append(guess)\n",
    "    print(guess)\n",
    "\n",
    "print(guesses.pop())\n",
    "\n",
    "upper_lim = guess\n",
    "lower_lim = guesses.pop()\n",
    "middle = math.floor(upper_lim - lower_lim / 2)\n",
    "\n",
    "print(\"Upper - {},\\nLower - {},\\nMiddle - {}\".format(upper_lim, lower_lim, middle))\n",
    "\n",
    "while True:\n",
    "    #Is middle point above or below desired answer?\n",
    "    if pi_error(middle) < 0.000001:\n",
    "        print(\"Above\")\n",
    "        upper_lim = middle\n",
    "        # lower, no change\n",
    "        diff = math.floor((upper_lim - lower_lim) / 2)\n",
    "        middle = lower_lim + diff\n",
    "    else:\n",
    "        print(\"Below\")\n",
    "        #upper_lim stays the same\n",
    "        lower_lim = middle\n",
    "        diff = math.floor((upper_lim - lower_lim) / 2)\n",
    "        middle = lower_lim + diff\n",
    "    print(\"Upper - {},\\nLower - {},\\nMiddle - {}\".format(upper_lim, lower_lim, middle))\n",
    "    if (middle == lower_lim) or (middle == upper_lim):\n",
    "        for input in range(lower_lim, upper_lim + 1):\n",
    "\n",
    "            if pi_error(input) < 0.000001:\n",
    "                print(\"Got 'eeeem at {}\".format(input))\n",
    "                break\n",
    "        break\n",
    "        # return middle"
   ]
  },
  {
   "cell_type": "code",
   "execution_count": null,
   "metadata": {
    "collapsed": true
   },
   "outputs": [],
   "source": []
  }
 ],
 "metadata": {
  "kernelspec": {
   "display_name": "Python 3",
   "language": "python",
   "name": "python3"
  },
  "language_info": {
   "codemirror_mode": {
    "name": "ipython",
    "version": 3
   },
   "file_extension": ".py",
   "mimetype": "text/x-python",
   "name": "python",
   "nbconvert_exporter": "python",
   "pygments_lexer": "ipython3",
   "version": "3.5.1"
  }
 },
 "nbformat": 4,
 "nbformat_minor": 2
}
