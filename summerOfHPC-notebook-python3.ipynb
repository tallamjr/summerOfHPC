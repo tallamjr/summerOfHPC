{
 "cells": [
  {
   "cell_type": "markdown",
   "metadata": {},
   "source": [
    "## Programming Exercise Background\n",
    "\n",
    "The following expansion gives an approximation to the exact value of π:"
   ]
  },
  {
   "cell_type": "markdown",
   "metadata": {
    "collapsed": true
   },
   "source": [
    "$$\\pi(N) = \\frac{4}{N}\\sum_{i=1}^N\\frac{1}{1 + \\left(\\frac{i - \\frac{1}{2}}{N}\\right)^2}$$"
   ]
  },
  {
   "cell_type": "markdown",
   "metadata": {},
   "source": [
    "We can check this by hand like so..."
   ]
  },
  {
   "cell_type": "markdown",
   "metadata": {},
   "source": [
    "$$\\pi(1) = 4\\frac{4}{5} = 3.2$$, $$\\pi(2) = 4\\left(\\frac{16}{17}+\\frac{16}{25}\\right) = 3.162$$"
   ]
  },
  {
   "cell_type": "markdown",
   "metadata": {},
   "source": [
    "It can be shown that the approximation continues to become more accurate as N is increased."
   ]
  },
  {
   "cell_type": "markdown",
   "metadata": {},
   "source": [
    "### Exercises\n",
    "\n",
    "Note that you must use double-precision variables for ALL floating-point numbers.\n",
    "\n",
    "### Exercise 1\n",
    "\n",
    "Write a program in C, C++, Fortran or Java that computes an approximation to π using the above formula for the following values of N: 1, 2, 10, 50, 100, 500. For each value of N, print out the approximate value π(N) and the error err(N). The error is the difference between π(N) and the true value of π, ie err(N) = π(N) − π. As N increases the value of the error should decrease."
   ]
  },
  {
   "cell_type": "code",
   "execution_count": 1,
   "metadata": {
    "collapsed": true
   },
   "outputs": [],
   "source": [
    "import numpy as np\n",
    "import matplotlib.pyplot as plt\n",
    "import pandas as pd\n",
    "\n",
    "%matplotlib inline\n",
    "import mpld3\n",
    "mpld3.enable_notebook()"
   ]
  },
  {
   "cell_type": "code",
   "execution_count": 2,
   "metadata": {
    "collapsed": false
   },
   "outputs": [
    {
     "name": "stdout",
     "output_type": "stream",
     "text": [
      "3.141592653589793\n"
     ]
    }
   ],
   "source": [
    "pi_true = np.pi\n",
    "print(pi_true)"
   ]
  },
  {
   "cell_type": "code",
   "execution_count": 3,
   "metadata": {
    "collapsed": true
   },
   "outputs": [],
   "source": [
    "def pi_approx(N):\n",
    "    summation = 0\n",
    "    for i in range(N):\n",
    "        alpha  = (i - 0.5)/N       \n",
    "        summation = summation + 1 / (1 + alpha**2)\n",
    "        #print(\"i = {} and summation = {}\".format(i, summation))\n",
    " \n",
    "    result = (4 / N)*summation\n",
    "    #print(\"pi approximation = {}\".format(result))\n",
    "        \n",
    "    return result"
   ]
  },
  {
   "cell_type": "code",
   "execution_count": 4,
   "metadata": {
    "collapsed": false
   },
   "outputs": [
    {
     "data": {
      "text/plain": [
       "3.4950161216478772"
      ]
     },
     "execution_count": 4,
     "metadata": {},
     "output_type": "execute_result"
    }
   ],
   "source": [
    "pi_approx(5)"
   ]
  },
  {
   "cell_type": "code",
   "execution_count": 5,
   "metadata": {
    "collapsed": false
   },
   "outputs": [
    {
     "data": {
      "text/plain": [
       "0.35342346805808411"
      ]
     },
     "execution_count": 5,
     "metadata": {},
     "output_type": "execute_result"
    }
   ],
   "source": [
    "def pi_error(N):\n",
    "    \n",
    "    pi_err = np.abs(pi_true - pi_approx(N))\n",
    "\n",
    "    #print(\"The true value of pi = {}, the approxiamtion = {}\".format(pi_true, pi_approx(N)))\n",
    "    #print(\"Thus, the error is = {}\".format(pi_err))\n",
    "    \n",
    "    return pi_err\n",
    "\n",
    "pi_error(5)"
   ]
  },
  {
   "cell_type": "code",
   "execution_count": 6,
   "metadata": {
    "collapsed": false
   },
   "outputs": [
    {
     "name": "stdout",
     "output_type": "stream",
     "text": [
      "1 inputs = PI approximation of 3.2.\n",
      "0.0584073464102\n",
      "2 inputs = PI approximation of 3.764705882352941.\n",
      "0.623113228763\n",
      "10 inputs = PI approximation of 3.3311788072817965.\n",
      "0.189586153692\n",
      "50 inputs = PI approximation of 3.1812159878239283.\n",
      "0.0396233342341\n",
      "100 inputs = PI approximation of 3.161499736951266.\n",
      "0.0199070833615\n",
      "500 inputs = PI approximation of 3.145588976923137.\n",
      "0.00399632333334\n"
     ]
    }
   ],
   "source": [
    "N = [1,2,10,50,100,500]\n",
    "#N = [2000, 5000, 10000, 20000]\n",
    "\n",
    "outputs_list = []\n",
    "for input in N:\n",
    "    outputs = pi_approx(input)\n",
    "    outputs_list.append(pi_error(input))\n",
    "    print(\"{} inputs = PI approximation of {}.\".format(input, outputs))\n",
    "    print(pi_error(input))\n",
    "    "
   ]
  },
  {
   "cell_type": "markdown",
   "metadata": {},
   "source": [
    "### Exercise 2\n",
    "\n",
    "We now want to find out the minimum value of N that is required to give a value for π(N) that is accurate to some specified value. We will call this value Nmin. By computing π(N) for increasing values of N, calculate Nmin such that err(Nmin) < 10−6"
   ]
  },
  {
   "cell_type": "code",
   "execution_count": null,
   "metadata": {
    "collapsed": true
   },
   "outputs": [],
   "source": [
    "import time\n",
    "\n",
    "start = time.time()\n",
    "for input in range(500, 500000):\n",
    "    \n",
    "    if pi_error(input) < 0.000001:\n",
    "        print(\"Got 'eeeem at {}\".format(input))\n",
    "        break\n",
    "        \n",
    "end = time.time()\n",
    "print(\"Took {} ms\".format(((end - start) * 1000.0)))"
   ]
  },
  {
   "cell_type": "code",
   "execution_count": 7,
   "metadata": {
    "collapsed": false
   },
   "outputs": [
    {
     "name": "stdout",
     "output_type": "stream",
     "text": [
      "pi approx = 3.1415936535897444\n",
      "pi error = 9.999999512899649e-07\n"
     ]
    }
   ],
   "source": [
    "print(\"pi approx = {}\".format(pi_approx(2000000)))\n",
    "print(\"pi error = {}\".format(pi_error(2000000)))"
   ]
  },
  {
   "cell_type": "markdown",
   "metadata": {},
   "source": [
    "### Exercise 3\n",
    "\n",
    "This way of computing Nmin is clearly inefficient. For example, if we require err(Nmin) < 10−6. and we calculate err(2) = 0.02, it is a waste of time to calculate err(3) as it is already obvious that Nmin is very much larger than 2!  ",
    " Rewrite your program so that is uses a more efficient way to locate the minimum value of N. Your new method must produce exactly the same value for Nmin as before but should be faster. For example, you might try and reduce the number of times that you have to evaluate err(N). You should also tell us how much faster your new program is."
   ]
  },
  {
   "cell_type": "markdown",
   "metadata": {},
   "source": [
    "Explain binary search method n log n etc. Why I chose that.\n",
    "\n",
    "* scipy.optimize\n",
    "* Newtons method\n",
    "\n",
    "Look up other methods\n",
    "\n",
    "Use recusion"
   ]
  },
  {
   "cell_type": "code",
   "execution_count": 9,
   "metadata": {
    "collapsed": false
   },
   "outputs": [
    {
     "name": "stdout",
     "output_type": "stream",
     "text": [
      "3.141592653589793\n",
      "20\n",
      "40\n",
      "80\n",
      "160\n",
      "320\n",
      "640\n",
      "1280\n",
      "2560\n",
      "5120\n",
      "10240\n",
      "20480\n",
      "40960\n",
      "81920\n",
      "163840\n",
      "327680\n",
      "655360\n",
      "1310720\n",
      "2621440\n",
      "2621440\n",
      "Upper - 2621440,\n",
      "Lower - 1310720,\n",
      "Middle - 1966080\n",
      "Below\n",
      "Upper - 2621440,\n",
      "Lower - 1966080,\n",
      "Middle - 2293760\n",
      "Above\n",
      "Upper - 2293760,\n",
      "Lower - 1966080,\n",
      "Middle - 2129920\n",
      "Above\n",
      "Upper - 2129920,\n",
      "Lower - 1966080,\n",
      "Middle - 2048000\n",
      "Above\n",
      "Upper - 2048000,\n",
      "Lower - 1966080,\n",
      "Middle - 2007040\n",
      "Above\n",
      "Upper - 2007040,\n",
      "Lower - 1966080,\n",
      "Middle - 1986560\n",
      "Below\n",
      "Upper - 2007040,\n",
      "Lower - 1986560,\n",
      "Middle - 1996800\n",
      "Below\n",
      "Upper - 2007040,\n",
      "Lower - 1996800,\n",
      "Middle - 2001920\n",
      "Above\n",
      "Upper - 2001920,\n",
      "Lower - 1996800,\n",
      "Middle - 1999360\n",
      "Below\n",
      "Upper - 2001920,\n",
      "Lower - 1999360,\n",
      "Middle - 2000640\n",
      "Above\n",
      "Upper - 2000640,\n",
      "Lower - 1999360,\n",
      "Middle - 2000000\n",
      "Above\n",
      "Upper - 2000000,\n",
      "Lower - 1999360,\n",
      "Middle - 1999680\n",
      "Below\n",
      "Upper - 2000000,\n",
      "Lower - 1999680,\n",
      "Middle - 1999840\n",
      "Below\n",
      "Upper - 2000000,\n",
      "Lower - 1999840,\n",
      "Middle - 1999920\n",
      "Below\n",
      "Upper - 2000000,\n",
      "Lower - 1999920,\n",
      "Middle - 1999960\n",
      "Below\n",
      "Upper - 2000000,\n",
      "Lower - 1999960,\n",
      "Middle - 1999980\n",
      "Below\n",
      "Upper - 2000000,\n",
      "Lower - 1999980,\n",
      "Middle - 1999990\n",
      "Below\n",
      "Upper - 2000000,\n",
      "Lower - 1999990,\n",
      "Middle - 1999995\n",
      "Below\n",
      "Upper - 2000000,\n",
      "Lower - 1999995,\n",
      "Middle - 1999997\n",
      "Below\n",
      "Upper - 2000000,\n",
      "Lower - 1999997,\n",
      "Middle - 1999998\n",
      "Below\n",
      "Upper - 2000000,\n",
      "Lower - 1999998,\n",
      "Middle - 1999999\n",
      "Below\n",
      "Upper - 2000000,\n",
      "Lower - 1999999,\n",
      "Middle - 1999999\n",
      "Got 'eeeem at 2000000\n",
      "Took 44.59676790237427 s\n"
     ]
    }
   ],
   "source": [
    "import math\n",
    "import numpy as np\n",
    "import time\n",
    "\n",
    "start = time.time()\n",
    "\n",
    "pi_true = np.pi\n",
    "print(pi_true)\n",
    "\n",
    "def pi_error(N):\n",
    "\n",
    "    pi_err = np.abs(pi_true - pi_approx(N))\n",
    "\n",
    "    #print(\"The true value of pi = {}, the approxiamtion = {}\".format(pi_true, pi_approx(N)))\n",
    "    #print(\"Thus, the error is = {}\".format(pi_err))\n",
    "\n",
    "    return pi_err\n",
    "\n",
    "def pi_approx(N):\n",
    "    summation = 0\n",
    "    for i in range(N):\n",
    "        alpha  = (i - 0.5)/N\n",
    "        summation = summation + 1 / (1 + alpha**2)\n",
    "        #print(\"i = {} and summation = {}\".format(i, summation))\n",
    "\n",
    "    result = (4 / N)*summation\n",
    "    #print(\"pi approximation = {}\".format(result))\n",
    "\n",
    "    return result\n",
    "\n",
    "# first search\n",
    "guesses = []\n",
    "guess = 10\n",
    "\n",
    "while pi_error(guess) > 0.000001:\n",
    "    guesses = [guess]\n",
    "    guess = guess * 2\n",
    "    guesses.append(guess)\n",
    "    print(guess)\n",
    "\n",
    "print(guesses.pop())\n",
    "\n",
    "upper_lim = guess\n",
    "lower_lim = guesses.pop()\n",
    "middle = math.floor(upper_lim - lower_lim / 2)\n",
    "\n",
    "print(\"Upper - {},\\nLower - {},\\nMiddle - {}\".format(upper_lim, lower_lim, middle))\n",
    "\n",
    "while True:\n",
    "    #Is middle point above or below desired answer?\n",
    "    if pi_error(middle) < 0.000001:\n",
    "        print(\"Above\")\n",
    "        upper_lim = middle\n",
    "        # lower, no change\n",
    "        diff = math.floor((upper_lim - lower_lim) / 2)\n",
    "        middle = lower_lim + diff\n",
    "    else:\n",
    "        print(\"Below\")\n",
    "        #upper_lim stays the same\n",
    "        lower_lim = middle\n",
    "        diff = math.floor((upper_lim - lower_lim) / 2)\n",
    "        middle = lower_lim + diff\n",
    "    print(\"Upper - {},\\nLower - {},\\nMiddle - {}\".format(upper_lim, lower_lim, middle))\n",
    "    if (middle == lower_lim) or (middle == upper_lim):\n",
    "        for input in range(lower_lim, upper_lim + 1):\n",
    "\n",
    "            if pi_error(input) < 0.000001:\n",
    "                print(\"Got 'eeeem at {}\".format(input))\n",
    "                break\n",
    "        break\n",
    "        # return middle\n",
    "        \n",
    "end = time.time()\n",
    "print(\"Took {} s\".format((end - start)))"
   ]
  },
  {
   "cell_type": "markdown",
   "metadata": {},
   "source": [
    "Explain results, talk about complexity. etc."
   ]
  }
 ],
 "metadata": {
  "kernelspec": {
   "display_name": "Python 3",
   "language": "python",
   "name": "python3"
  },
  "language_info": {
   "codemirror_mode": {
    "name": "ipython",
    "version": 3
   },
   "file_extension": ".py",
   "mimetype": "text/x-python",
   "name": "python",
   "nbconvert_exporter": "python",
   "pygments_lexer": "ipython3",
   "version": "3.5.1"
  }
 },
 "nbformat": 4,
 "nbformat_minor": 2
}
