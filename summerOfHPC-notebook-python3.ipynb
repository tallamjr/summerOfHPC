{
 "cells": [
  {
   "cell_type": "markdown",
   "metadata": {},
   "source": [
    "## Programming Exercise Background\n",
    "\n",
    "The following expansion gives an approximation to the exact value of π:"
   ]
  },
  {
   "cell_type": "markdown",
   "metadata": {
    "collapsed": true
   },
   "source": [
    "$$\\pi(N) = \\frac{4}{N}\\sum_{i=1}^N\\frac{1}{1 + \\left(\\frac{i - \\frac{1}{2}}{N}\\right)^2}$$"
   ]
  },
  {
   "cell_type": "markdown",
   "metadata": {},
   "source": [
    "We can check this by hand like so..."
   ]
  },
  {
   "cell_type": "markdown",
   "metadata": {},
   "source": [
    "$$\\pi(1) = 4\\frac{4}{5} = 3.2$$, $$\\pi(2) = 4\\left(\\frac{16}{17}+\\frac{16}{25}\\right) = 3.162$$"
   ]
  },
  {
   "cell_type": "markdown",
   "metadata": {},
   "source": [
    "It can be shown that the approximation continues to become more accurate as N is increased."
   ]
  },
  {
   "cell_type": "markdown",
   "metadata": {},
   "source": [
    "### Exercises\n",
    "\n",
    "Note that you must use double-precision variables for ALL floating-point numbers.\n",
    "\n",
    "### Exercise 1\n",
    "\n",
    "Write a program in C, C++, Fortran or Java that computes an approximation to π using the above formula for the following values of N: 1, 2, 10, 50, 100, 500. For each value of N, print out the approximate value π(N) and the error err(N). The error is the difference between π(N) and the true value of π, ie err(N) = π(N) − π. As N increases the value of the error should decrease."
   ]
  },
  {
   "cell_type": "code",
   "execution_count": 1,
   "metadata": {
    "collapsed": false
   },
   "outputs": [],
   "source": [
    "import numpy as np"
   ]
  },
  {
   "cell_type": "code",
   "execution_count": 2,
   "metadata": {
    "collapsed": false
   },
   "outputs": [
    {
     "name": "stdout",
     "output_type": "stream",
     "text": [
      "3.141592653589793\n"
     ]
    }
   ],
   "source": [
    "pi_true = np.pi\n",
    "print(pi_true)"
   ]
  },
  {
   "cell_type": "code",
   "execution_count": 3,
   "metadata": {
    "collapsed": true
   },
   "outputs": [],
   "source": [
    "def pi_approx(N):\n",
    "    summation = 0\n",
    "    for i in range(N):\n",
    "        alpha  = (i - 0.5)/N       \n",
    "        summation = summation + 1 / (1 + alpha**2)\n",
    " \n",
    "    result = (4 / N)*summation\n",
    "        \n",
    "    return result"
   ]
  },
  {
   "cell_type": "code",
   "execution_count": 4,
   "metadata": {
    "collapsed": false
   },
   "outputs": [
    {
     "data": {
      "text/plain": [
       "3.4950161216478772"
      ]
     },
     "execution_count": 4,
     "metadata": {},
     "output_type": "execute_result"
    }
   ],
   "source": [
    "pi_approx(5)"
   ]
  },
  {
   "cell_type": "code",
   "execution_count": 5,
   "metadata": {
    "collapsed": false
   },
   "outputs": [
    {
     "data": {
      "text/plain": [
       "0.35342346805808411"
      ]
     },
     "execution_count": 5,
     "metadata": {},
     "output_type": "execute_result"
    }
   ],
   "source": [
    "def pi_error(N):\n",
    "    \n",
    "    pi_err = np.abs(pi_true - pi_approx(N))\n",
    "\n",
    "    return pi_err\n",
    "\n",
    "pi_error(5)"
   ]
  },
  {
   "cell_type": "code",
   "execution_count": 10,
   "metadata": {
    "collapsed": false
   },
   "outputs": [
    {
     "name": "stdout",
     "output_type": "stream",
     "text": [
      "1 inputs approximates π to be 3.2 with an error of 0.05840734641020706.\n",
      "2 inputs approximates π to be 3.764705882352941 with an error of 0.623113228763148.\n",
      "10 inputs approximates π to be 3.3311788072817965 with an error of 0.18958615369200338.\n",
      "50 inputs approximates π to be 3.1812159878239283 with an error of 0.03962333423413522.\n",
      "100 inputs approximates π to be 3.161499736951266 with an error of 0.019907083361472733.\n",
      "500 inputs approximates π to be 3.145588976923137 with an error of 0.003996323333343987.\n"
     ]
    }
   ],
   "source": [
    "N = [1,2,10,50,100,500]\n",
    "\n",
    "outputs_list = []\n",
    "\n",
    "for input in N:\n",
    "    outputs = pi_approx(input)\n",
    "    outputs_list.append(pi_error(input))\n",
    "    print(\"{} inputs approximates \\N{GREEK SMALL LETTER PI} to be {} with an error of {}.\".format(input, outputs, pi_error(input)))\n",
    "    "
   ]
  },
  {
   "cell_type": "markdown",
   "metadata": {},
   "source": [
    "### Exercise 2\n",
    "\n",
    "We now want to find out the minimum value of N that is required to give a value for π(N) that is accurate to some specified value. We will call this value Nmin. By computing π(N) for increasing values of N, calculate Nmin such that err(Nmin) < 10−6"
   ]
  },
  {
   "cell_type": "markdown",
   "metadata": {},
   "source": [
    "As we know from Exercise 1, we have seen N = 500 only has an error of: 0.00399632333334 which is more than 0.00001 that is required.\n",
    "With this knowledge, we do not need to test each iteration up to 500. However, we do not know the upper bound to which we will need to test. We could test up to 10,000 and still not reach the smallest N that gives pi to the required accuracy. Therefore we shall make an abituary guess of the upper bound, i.e. a guess of an N that would surely produce the desired acurrcy of 5 million (5000000)"
   ]
  },
  {
   "cell_type": "markdown",
   "metadata": {},
   "source": [
    "This brute force search of comparing each N up to the upper bound is clearly ineffecient and Exercise 3 will address this issue. However, for the purpose of this task, below is an iterative search for pi accurate to an error < 0.00001"
   ]
  },
  {
   "cell_type": "code",
   "execution_count": 15,
   "metadata": {
    "collapsed": false
   },
   "outputs": [
    {
     "name": "stdout",
     "output_type": "stream",
     "text": [
      "Iteration at 5000\n",
      "Iteration at 10000\n",
      "Iteration at 15000\n",
      "Iteration at 20000\n",
      "Iteration at 25000\n",
      "Iteration at 30000\n",
      "Iteration at 35000\n",
      "Iteration at 40000\n",
      "Iteration at 45000\n",
      "Iteration at 50000\n",
      "Iteration at 55000\n",
      "Iteration at 60000\n",
      "Iteration at 65000\n",
      "Iteration at 70000\n",
      "Iteration at 75000\n",
      "Iteration at 80000\n",
      "Iteration at 85000\n",
      "Iteration at 90000\n",
      "Iteration at 95000\n",
      "Iteration at 100000\n",
      "Iteration at 105000\n",
      "Iteration at 110000\n",
      "Iteration at 115000\n",
      "Iteration at 120000\n",
      "Iteration at 125000\n",
      "Iteration at 130000\n",
      "Iteration at 135000\n",
      "Iteration at 140000\n",
      "Iteration at 145000\n",
      "Iteration at 150000\n",
      "Iteration at 155000\n",
      "Iteration at 160000\n",
      "Iteration at 165000\n",
      "Iteration at 170000\n",
      "Iteration at 175000\n",
      "Iteration at 180000\n",
      "Iteration at 185000\n",
      "Iteration at 190000\n",
      "Iteration at 195000\n",
      "Iteration at 200000\n",
      "Got 'eeeem at 200000\n",
      "Took 7694.693068027496 s\n"
     ]
    }
   ],
   "source": [
    "import time\n",
    "\n",
    "upper_bound = 5000000\n",
    "\n",
    "def iterative_search(upper_bound):\n",
    "\n",
    "    for input in range(500, upper_bound):\n",
    "        if input % 5000 == 0:\n",
    "            print(\"Iteration at {}\".format(input))\n",
    "        if pi_error(input) < 0.00001:\n",
    "            print(\"Got 'eeeem at {}\".format(input))\n",
    "            break\n",
    "            \n",
    "            \n",
    "start = time.time()\n",
    "\n",
    "# Careful, a large upper will take a long time.\n",
    "iterative_search(upper_bound)\n",
    "\n",
    "end = time.time()\n",
    "print(\"Took {} s\".format((end - start)))"
   ]
  },
  {
   "cell_type": "code",
   "execution_count": 13,
   "metadata": {
    "collapsed": false
   },
   "outputs": [
    {
     "name": "stdout",
     "output_type": "stream",
     "text": [
      "pi approx = 3.1416026535668897\n",
      "pi error = 9.999977096608603e-06\n"
     ]
    }
   ],
   "source": [
    "print(\"pi approx = {}\".format(pi_approx(200000)))\n",
    "print(\"pi error = {}\".format(pi_error(200000)))"
   ]
  },
  {
   "cell_type": "markdown",
   "metadata": {},
   "source": [
    "The output shows we have found the smallest N that gives pi to within an error of 0.00001. The time taken to achieve this is very long. The next exercise will look at other methods one could use to dramatically reduce compute time."
   ]
  },
  {
   "cell_type": "markdown",
   "metadata": {},
   "source": [
    "### Exercise 3\n",
    "\n",
    "This way of computing Nmin is clearly inefficient. For example, if we require err(Nmin) < 10−6. and we calculate err(2) = 0.02, it is a waste of time to calculate err(3) as it is already obvious that Nmin is very much larger than 2!  ",
    " Rewrite your program so that is uses a more efficient way to locate the minimum value of N. Your new method must produce exactly the same value for Nmin as before but should be faster. For example, you might try and reduce the number of times that you have to evaluate err(N). You should also tell us how much faster your new program is."
   ]
  },
  {
   "cell_type": "markdown",
   "metadata": {},
   "source": [
    "### My Solution\n",
    "\n",
    "The iterative method shown in exercise 2 takes a long time because number of checks one needs to do for each input scales as N^3. Therefore, if we double the input, we are affecting the time taken to check the result by a factor of 100. So whatever we do, checking a large value of N will take time, but there is nothing to say we have to check every value of N up to the desired result. If we know N = 50 is nowhere even close to the answer we require, then perhaps we could try N = 500 as our next input instead of N = 51, 52, 53 etc.\n",
    "\n",
    "The approached used here is a Binary Search method, which splits the range at which we are looking at into two, and then asks which side is the answer on. When it determines whether the answer is on the left or right, it then splits that new range by two again and asks the same question. The process is repeated until the range is of size one + one. Then from here an iterative search of the 2 values if done to determine which input gives our desrired result. This method runs with complexity nlogn which is considerably quicker than our previous approch. This can be seen in the timing metrics shown below."
   ]
  },
  {
   "cell_type": "code",
   "execution_count": 16,
   "metadata": {
    "collapsed": false
   },
   "outputs": [
    {
     "name": "stdout",
     "output_type": "stream",
     "text": [
      "3.141592653589793\n",
      "20\n",
      "40\n",
      "80\n",
      "160\n",
      "320\n",
      "640\n",
      "1280\n",
      "2560\n",
      "5120\n",
      "10240\n",
      "20480\n",
      "40960\n",
      "81920\n",
      "163840\n",
      "327680\n",
      "327680\n",
      "Upper - 327680,\n",
      "Lower - 163840,\n",
      "Middle - 245760\n",
      "Above\n",
      "Upper - 245760,\n",
      "Lower - 163840,\n",
      "Middle - 204800\n",
      "Above\n",
      "Upper - 204800,\n",
      "Lower - 163840,\n",
      "Middle - 184320\n",
      "Below\n",
      "Upper - 204800,\n",
      "Lower - 184320,\n",
      "Middle - 194560\n",
      "Below\n",
      "Upper - 204800,\n",
      "Lower - 194560,\n",
      "Middle - 199680\n",
      "Below\n",
      "Upper - 204800,\n",
      "Lower - 199680,\n",
      "Middle - 202240\n",
      "Above\n",
      "Upper - 202240,\n",
      "Lower - 199680,\n",
      "Middle - 200960\n",
      "Above\n",
      "Upper - 200960,\n",
      "Lower - 199680,\n",
      "Middle - 200320\n",
      "Above\n",
      "Upper - 200320,\n",
      "Lower - 199680,\n",
      "Middle - 200000\n",
      "Above\n",
      "Upper - 200000,\n",
      "Lower - 199680,\n",
      "Middle - 199840\n",
      "Below\n",
      "Upper - 200000,\n",
      "Lower - 199840,\n",
      "Middle - 199920\n",
      "Below\n",
      "Upper - 200000,\n",
      "Lower - 199920,\n",
      "Middle - 199960\n",
      "Below\n",
      "Upper - 200000,\n",
      "Lower - 199960,\n",
      "Middle - 199980\n",
      "Below\n",
      "Upper - 200000,\n",
      "Lower - 199980,\n",
      "Middle - 199990\n",
      "Below\n",
      "Upper - 200000,\n",
      "Lower - 199990,\n",
      "Middle - 199995\n",
      "Below\n",
      "Upper - 200000,\n",
      "Lower - 199995,\n",
      "Middle - 199997\n",
      "Below\n",
      "Upper - 200000,\n",
      "Lower - 199997,\n",
      "Middle - 199998\n",
      "Below\n",
      "Upper - 200000,\n",
      "Lower - 199998,\n",
      "Middle - 199999\n",
      "Below\n",
      "Upper - 200000,\n",
      "Lower - 199999,\n",
      "Middle - 199999\n",
      "Got 'eeeem at 200000\n",
      "Took 1.9497771263122559 s\n"
     ]
    }
   ],
   "source": [
    "import math\n",
    "import numpy as np\n",
    "import time\n",
    "\n",
    "start = time.time()\n",
    "\n",
    "pi_true = np.pi\n",
    "print(pi_true)\n",
    "\n",
    "def pi_error(N):\n",
    "\n",
    "    pi_err = np.abs(pi_true - pi_approx(N))\n",
    "\n",
    "    return pi_err\n",
    "\n",
    "def pi_approx(N):\n",
    "    summation = 0\n",
    "    for i in range(N):\n",
    "        alpha  = (i - 0.5)/N\n",
    "        summation = summation + 1 / (1 + alpha**2)\n",
    "\n",
    "    result = (4 / N)*summation\n",
    "\n",
    "    return result\n",
    "\n",
    "# First search\n",
    "guesses = []\n",
    "guess = 10\n",
    "\n",
    "while pi_error(guess) > 0.00001:\n",
    "    guesses = [guess]\n",
    "    guess = guess * 2\n",
    "    guesses.append(guess)\n",
    "    print(guess)\n",
    "\n",
    "print(guesses.pop())\n",
    "\n",
    "upper_lim = guess\n",
    "lower_lim = guesses.pop()\n",
    "middle = math.floor(upper_lim - lower_lim / 2)\n",
    "\n",
    "print(\"Upper - {},\\nLower - {},\\nMiddle - {}\".format(upper_lim, lower_lim, middle))\n",
    "\n",
    "# Interval search\n",
    "while True:\n",
    "    #Is middle point above or below desired answer?\n",
    "    if pi_error(middle) < 0.00001:\n",
    "        print(\"Above\")\n",
    "        upper_lim = middle\n",
    "        # lower, no change\n",
    "        diff = math.floor((upper_lim - lower_lim) / 2)\n",
    "        middle = lower_lim + diff\n",
    "    else:\n",
    "        print(\"Below\")\n",
    "        #upper_lim stays the same\n",
    "        lower_lim = middle\n",
    "        diff = math.floor((upper_lim - lower_lim) / 2)\n",
    "        middle = lower_lim + diff\n",
    "    print(\"Upper - {},\\nLower - {},\\nMiddle - {}\".format(upper_lim, lower_lim, middle))\n",
    "    if (middle == lower_lim) or (middle == upper_lim):\n",
    "        for input in range(lower_lim, upper_lim + 1):\n",
    "\n",
    "            if pi_error(input) < 0.00001:\n",
    "                print(\"Got 'eeeem at {}\".format(input))\n",
    "                break\n",
    "        break\n",
    "        # return middle\n",
    "        \n",
    "end = time.time()\n",
    "print(\"Took {} s\".format((end - start)))"
   ]
  },
  {
   "cell_type": "markdown",
   "metadata": {},
   "source": [
    "As can be seen above, the time taken to achieve the desired result is considerably shorter than the iterative search method.\n",
    "\n",
    "Since I did not know the true value (although I did I had to apprach this in a way where I would not know the upper bound)"
   ]
  }
 ],
 "metadata": {
  "anaconda-cloud": {},
  "kernelspec": {
   "display_name": "Python 3",
   "language": "python",
   "name": "python3"
  },
  "language_info": {
   "codemirror_mode": {
    "name": "ipython",
    "version": 3
   },
   "file_extension": ".py",
   "mimetype": "text/x-python",
   "name": "python",
   "nbconvert_exporter": "python",
   "pygments_lexer": "ipython3",
   "version": "3.5.1"
  }
 },
 "nbformat": 4,
 "nbformat_minor": 2
}
