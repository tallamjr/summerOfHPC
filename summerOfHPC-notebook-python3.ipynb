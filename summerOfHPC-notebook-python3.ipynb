{
 "cells": [
  {
   "cell_type": "markdown",
   "metadata": {},
   "source": [
    "## Programming Exercise Background\n",
    "\n",
    "The following expansion gives an approximation to the exact value of π:"
   ]
  },
  {
   "cell_type": "markdown",
   "metadata": {
    "collapsed": true
   },
   "source": [
    "$$\\pi(N) = \\frac{4}{N}\\sum_{i=1}^N\\frac{1}{1 + \\left(\\frac{i - \\frac{1}{2}}{N}\\right)^2}$$"
   ]
  },
  {
   "cell_type": "markdown",
   "metadata": {},
   "source": [
    "We can check this by hand like so..."
   ]
  },
  {
   "cell_type": "markdown",
   "metadata": {},
   "source": [
    "$$\\pi(1) = 4\\frac{4}{5} = 3.2$$, $$\\pi(2) = 4\\left(\\frac{16}{17}+\\frac{16}{25}\\right) = 3.162$$"
   ]
  },
  {
   "cell_type": "markdown",
   "metadata": {},
   "source": [
    "It can be shown that the approximation continues to become more accurate as N is increased."
   ]
  },
  {
   "cell_type": "markdown",
   "metadata": {},
   "source": [
    "### Exercises\n",
    "\n",
    "Note that you must use double-precision variables for ALL floating-point numbers.\n",
    "\n",
    "### Exercise 1\n",
    "\n",
    "Write a program in C, C++, Fortran or Java that computes an approximation to π using the above formula for the following values of N: 1, 2, 10, 50, 100, 500. For each value of N, print out the approximate value π(N) and the error err(N). The error is the difference between π(N) and the true value of π, ie err(N) = π(N) − π. As N increases the value of the error should decrease."
   ]
  },
  {
   "cell_type": "code",
   "execution_count": 1,
   "metadata": {
    "collapsed": true
   },
   "outputs": [],
   "source": [
    "import numpy as np\n",
    "import matplotlib.pyplot as plt\n",
    "import pandas as pd\n",
    "\n",
    "%matplotlib inline\n",
    "import mpld3\n",
    "mpld3.enable_notebook()"
   ]
  },
  {
   "cell_type": "code",
   "execution_count": 2,
   "metadata": {
    "collapsed": false
   },
   "outputs": [
    {
     "name": "stdout",
     "output_type": "stream",
     "text": [
      "3.141592653589793\n"
     ]
    }
   ],
   "source": [
    "pi_true = np.pi\n",
    "print(pi_true)"
   ]
  },
  {
   "cell_type": "code",
   "execution_count": 3,
   "metadata": {
    "collapsed": true
   },
   "outputs": [],
   "source": [
    "def pi_approx(N):\n",
    "    summation = 0\n",
    "    for i in range(N):\n",
    "        alpha  = (i - 0.5)/N       \n",
    "        summation = summation + 1 / (1 + alpha**2)\n",
    "        #print(\"i = {} and summation = {}\".format(i, summation))\n",
    " \n",
    "    result = (4 / N)*summation\n",
    "    #print(\"pi approximation = {}\".format(result))\n",
    "        \n",
    "    return result"
   ]
  },
  {
   "cell_type": "code",
   "execution_count": 4,
   "metadata": {
    "collapsed": false
   },
   "outputs": [
    {
     "data": {
      "text/plain": [
       "3.4950161216478772"
      ]
     },
     "execution_count": 4,
     "metadata": {},
     "output_type": "execute_result"
    }
   ],
   "source": [
    "pi_approx(5)"
   ]
  },
  {
   "cell_type": "code",
   "execution_count": 5,
   "metadata": {
    "collapsed": false
   },
   "outputs": [
    {
     "data": {
      "text/plain": [
       "0.35342346805808411"
      ]
     },
     "execution_count": 5,
     "metadata": {},
     "output_type": "execute_result"
    }
   ],
   "source": [
    "def pi_error(N):\n",
    "    \n",
    "    pi_err = np.abs(pi_true - pi_approx(N))\n",
    "\n",
    "    #print(\"The true value of pi = {}, the approxiamtion = {}\".format(pi_true, pi_approx(N)))\n",
    "    #print(\"Thus, the error is = {}\".format(pi_err))\n",
    "    \n",
    "    return pi_err\n",
    "\n",
    "pi_error(5)"
   ]
  },
  {
   "cell_type": "code",
   "execution_count": 6,
   "metadata": {
    "collapsed": false
   },
   "outputs": [
    {
     "name": "stdout",
     "output_type": "stream",
     "text": [
      "1 inputs = PI approximation of 3.2.\n",
      "0.0584073464102\n",
      "2 inputs = PI approximation of 3.764705882352941.\n",
      "0.623113228763\n",
      "10 inputs = PI approximation of 3.3311788072817965.\n",
      "0.189586153692\n",
      "50 inputs = PI approximation of 3.1812159878239283.\n",
      "0.0396233342341\n",
      "100 inputs = PI approximation of 3.161499736951266.\n",
      "0.0199070833615\n",
      "500 inputs = PI approximation of 3.145588976923137.\n",
      "0.00399632333334\n"
     ]
    }
   ],
   "source": [
    "N = [1,2,10,50,100,500]\n",
    "#N = [2000, 5000, 10000, 20000]\n",
    "\n",
    "outputs_list = []\n",
    "for input in N:\n",
    "    outputs = pi_approx(input)\n",
    "    outputs_list.append(pi_error(input))\n",
    "    print(\"{} inputs = PI approximation of {}.\".format(input, outputs))\n",
    "    print(pi_error(input))\n",
    "    "
   ]
  },
  {
   "cell_type": "markdown",
   "metadata": {},
   "source": [
    "### Exercise 2\n",
    "\n",
    "We now want to find out the minimum value of N that is required to give a value for π(N) that is accurate to some specified value. We will call this value Nmin. By computing π(N) for increasing values of N, calculate Nmin such that err(Nmin) < 10−6"
   ]
  },
  {
   "cell_type": "markdown",
   "metadata": {},
   "source": [
    "As we know from Exercise 1, we have seen N = 500 only has an error of: 0.00399632333334 which is more than 0.000001 that is required.\n",
    "With this knowledge, we do not need to test each iteration up to 500. However, we do not know the upper bound to which we will need to test. We could test up to 10,000 and still not reach the smallest N that gives pi to the required accuracy. Therefore we shall make an abituary guess of the upper bound, i.e. a guess of an N that would surely produce the desired acurrcy of 5 million (5000000)"
   ]
  },
  {
   "cell_type": "markdown",
   "metadata": {},
   "source": [
    "This brute force search of comparing each N up to the upper bound is clearly ineffecient and Exercise 3 will address this issue. However, for the purpose of this task, below is an iterative search for pi accurate to an error < 0.000001"
   ]
  },
  {
   "cell_type": "code",
   "execution_count": 16,
   "metadata": {
    "collapsed": false
   },
   "outputs": [
    {
     "name": "stdout",
     "output_type": "stream",
     "text": [
      "Iteration at 5000\n",
      "Iteration at 10000\n",
      "Iteration at 15000\n",
      "Iteration at 20000\n",
      "Iteration at 25000\n",
      "Iteration at 30000\n",
      "Iteration at 35000\n",
      "Iteration at 40000\n",
      "Iteration at 45000\n",
      "Iteration at 50000\n",
      "Iteration at 55000\n",
      "Iteration at 60000\n",
      "Iteration at 65000\n",
      "Iteration at 70000\n",
      "Iteration at 75000\n",
      "Iteration at 80000\n",
      "Iteration at 85000\n",
      "Iteration at 90000\n",
      "Iteration at 95000\n",
      "Iteration at 100000\n",
      "Iteration at 105000\n",
      "Iteration at 110000\n",
      "Iteration at 115000\n",
      "Iteration at 120000\n",
      "Iteration at 125000\n",
      "Iteration at 130000\n",
      "Iteration at 135000\n",
      "Iteration at 140000\n",
      "Iteration at 145000\n",
      "Iteration at 150000\n",
      "Iteration at 155000\n",
      "Iteration at 160000\n",
      "Iteration at 165000\n",
      "Iteration at 170000\n",
      "Iteration at 175000\n",
      "Iteration at 180000\n",
      "Iteration at 185000\n",
      "Iteration at 190000\n",
      "Iteration at 195000\n",
      "Iteration at 200000\n",
      "Iteration at 205000\n",
      "Iteration at 210000\n",
      "Iteration at 215000\n",
      "Iteration at 220000\n",
      "Iteration at 225000\n",
      "Iteration at 230000\n",
      "Iteration at 235000\n",
      "Iteration at 240000\n",
      "Iteration at 245000\n",
      "Iteration at 250000\n",
      "Iteration at 255000\n"
     ]
    },
    {
     "ename": "KeyboardInterrupt",
     "evalue": "",
     "output_type": "error",
     "traceback": [
      "\u001b[0;31m---------------------------------------------------------------------------\u001b[0m",
      "\u001b[0;31mKeyboardInterrupt\u001b[0m                         Traceback (most recent call last)",
      "\u001b[0;32m<ipython-input-16-e39c285b0a24>\u001b[0m in \u001b[0;36m<module>\u001b[0;34m()\u001b[0m\n\u001b[1;32m     16\u001b[0m \u001b[0;34m\u001b[0m\u001b[0m\n\u001b[1;32m     17\u001b[0m \u001b[0;31m# Careful, a large upper will take a long time.\u001b[0m\u001b[0;34m\u001b[0m\u001b[0;34m\u001b[0m\u001b[0m\n\u001b[0;32m---> 18\u001b[0;31m \u001b[0miterative_search\u001b[0m\u001b[0;34m(\u001b[0m\u001b[0mupper_bound\u001b[0m\u001b[0;34m)\u001b[0m\u001b[0;34m\u001b[0m\u001b[0m\n\u001b[0m\u001b[1;32m     19\u001b[0m \u001b[0;34m\u001b[0m\u001b[0m\n\u001b[1;32m     20\u001b[0m \u001b[0mend\u001b[0m \u001b[0;34m=\u001b[0m \u001b[0mtime\u001b[0m\u001b[0;34m.\u001b[0m\u001b[0mtime\u001b[0m\u001b[0;34m(\u001b[0m\u001b[0;34m)\u001b[0m\u001b[0;34m\u001b[0m\u001b[0m\n",
      "\u001b[0;32m<ipython-input-16-e39c285b0a24>\u001b[0m in \u001b[0;36miterative_search\u001b[0;34m(upper_bound)\u001b[0m\n\u001b[1;32m      8\u001b[0m         \u001b[0;32mif\u001b[0m \u001b[0minput\u001b[0m \u001b[0;34m%\u001b[0m \u001b[0;36m5000\u001b[0m \u001b[0;34m==\u001b[0m \u001b[0;36m0\u001b[0m\u001b[0;34m:\u001b[0m\u001b[0;34m\u001b[0m\u001b[0m\n\u001b[1;32m      9\u001b[0m             \u001b[0mprint\u001b[0m\u001b[0;34m(\u001b[0m\u001b[0;34m\"Iteration at {}\"\u001b[0m\u001b[0;34m.\u001b[0m\u001b[0mformat\u001b[0m\u001b[0;34m(\u001b[0m\u001b[0minput\u001b[0m\u001b[0;34m)\u001b[0m\u001b[0;34m)\u001b[0m\u001b[0;34m\u001b[0m\u001b[0m\n\u001b[0;32m---> 10\u001b[0;31m         \u001b[0;32mif\u001b[0m \u001b[0mpi_error\u001b[0m\u001b[0;34m(\u001b[0m\u001b[0minput\u001b[0m\u001b[0;34m)\u001b[0m \u001b[0;34m<\u001b[0m \u001b[0;36m0.000001\u001b[0m\u001b[0;34m:\u001b[0m\u001b[0;34m\u001b[0m\u001b[0m\n\u001b[0m\u001b[1;32m     11\u001b[0m             \u001b[0mprint\u001b[0m\u001b[0;34m(\u001b[0m\u001b[0;34m\"Got 'eeeem at {}\"\u001b[0m\u001b[0;34m.\u001b[0m\u001b[0mformat\u001b[0m\u001b[0;34m(\u001b[0m\u001b[0minput\u001b[0m\u001b[0;34m)\u001b[0m\u001b[0;34m)\u001b[0m\u001b[0;34m\u001b[0m\u001b[0m\n\u001b[1;32m     12\u001b[0m             \u001b[0;32mbreak\u001b[0m\u001b[0;34m\u001b[0m\u001b[0m\n",
      "\u001b[0;32m<ipython-input-9-efd3392efb1b>\u001b[0m in \u001b[0;36mpi_error\u001b[0;34m(N)\u001b[0m\n\u001b[1;32m     10\u001b[0m \u001b[0;32mdef\u001b[0m \u001b[0mpi_error\u001b[0m\u001b[0;34m(\u001b[0m\u001b[0mN\u001b[0m\u001b[0;34m)\u001b[0m\u001b[0;34m:\u001b[0m\u001b[0;34m\u001b[0m\u001b[0m\n\u001b[1;32m     11\u001b[0m \u001b[0;34m\u001b[0m\u001b[0m\n\u001b[0;32m---> 12\u001b[0;31m     \u001b[0mpi_err\u001b[0m \u001b[0;34m=\u001b[0m \u001b[0mnp\u001b[0m\u001b[0;34m.\u001b[0m\u001b[0mabs\u001b[0m\u001b[0;34m(\u001b[0m\u001b[0mpi_true\u001b[0m \u001b[0;34m-\u001b[0m \u001b[0mpi_approx\u001b[0m\u001b[0;34m(\u001b[0m\u001b[0mN\u001b[0m\u001b[0;34m)\u001b[0m\u001b[0;34m)\u001b[0m\u001b[0;34m\u001b[0m\u001b[0m\n\u001b[0m\u001b[1;32m     13\u001b[0m \u001b[0;34m\u001b[0m\u001b[0m\n\u001b[1;32m     14\u001b[0m     \u001b[0;31m#print(\"The true value of pi = {}, the approxiamtion = {}\".format(pi_true, pi_approx(N)))\u001b[0m\u001b[0;34m\u001b[0m\u001b[0;34m\u001b[0m\u001b[0m\n",
      "\u001b[0;32m<ipython-input-9-efd3392efb1b>\u001b[0m in \u001b[0;36mpi_approx\u001b[0;34m(N)\u001b[0m\n\u001b[1;32m     20\u001b[0m     \u001b[0msummation\u001b[0m \u001b[0;34m=\u001b[0m \u001b[0;36m0\u001b[0m\u001b[0;34m\u001b[0m\u001b[0m\n\u001b[1;32m     21\u001b[0m     \u001b[0;32mfor\u001b[0m \u001b[0mi\u001b[0m \u001b[0;32min\u001b[0m \u001b[0mrange\u001b[0m\u001b[0;34m(\u001b[0m\u001b[0mN\u001b[0m\u001b[0;34m)\u001b[0m\u001b[0;34m:\u001b[0m\u001b[0;34m\u001b[0m\u001b[0m\n\u001b[0;32m---> 22\u001b[0;31m         \u001b[0malpha\u001b[0m  \u001b[0;34m=\u001b[0m \u001b[0;34m(\u001b[0m\u001b[0mi\u001b[0m \u001b[0;34m-\u001b[0m \u001b[0;36m0.5\u001b[0m\u001b[0;34m)\u001b[0m\u001b[0;34m/\u001b[0m\u001b[0mN\u001b[0m\u001b[0;34m\u001b[0m\u001b[0m\n\u001b[0m\u001b[1;32m     23\u001b[0m         \u001b[0msummation\u001b[0m \u001b[0;34m=\u001b[0m \u001b[0msummation\u001b[0m \u001b[0;34m+\u001b[0m \u001b[0;36m1\u001b[0m \u001b[0;34m/\u001b[0m \u001b[0;34m(\u001b[0m\u001b[0;36m1\u001b[0m \u001b[0;34m+\u001b[0m \u001b[0malpha\u001b[0m\u001b[0;34m**\u001b[0m\u001b[0;36m2\u001b[0m\u001b[0;34m)\u001b[0m\u001b[0;34m\u001b[0m\u001b[0m\n\u001b[1;32m     24\u001b[0m         \u001b[0;31m#print(\"i = {} and summation = {}\".format(i, summation))\u001b[0m\u001b[0;34m\u001b[0m\u001b[0;34m\u001b[0m\u001b[0m\n",
      "\u001b[0;31mKeyboardInterrupt\u001b[0m: "
     ]
    }
   ],
   "source": [
    "import time\n",
    "\n",
    "upper_bound = 5000000\n",
    "\n",
    "def iterative_search(upper_bound):\n",
    "\n",
    "    for input in range(500, upper_bound):\n",
    "        if input % 5000 == 0:\n",
    "            print(\"Iteration at {}\".format(input))\n",
    "        if pi_error(input) < 0.000001:\n",
    "            print(\"Got 'eeeem at {}\".format(input))\n",
    "            break\n",
    "            \n",
    "            \n",
    "start = time.time()\n",
    "\n",
    "# Careful, a large upper will take a long time.\n",
    "iterative_search(upper_bound)\n",
    "\n",
    "end = time.time()\n",
    "print(\"Took {} s\".format((end - start)))"
   ]
  },
  {
   "cell_type": "code",
   "execution_count": 7,
   "metadata": {
    "collapsed": false
   },
   "outputs": [
    {
     "name": "stdout",
     "output_type": "stream",
     "text": [
      "pi approx = 3.1415936535897444\n",
      "pi error = 9.999999512899649e-07\n"
     ]
    }
   ],
   "source": [
    "print(\"pi approx = {}\".format(pi_approx(2000000)))\n",
    "print(\"pi error = {}\".format(pi_error(2000000)))"
   ]
  },
  {
   "cell_type": "markdown",
   "metadata": {},
   "source": [
    "The output shows we have found the smallest N that gives pi to within an error of 0.000001. The time taken to achieve this is very long. The next exercise will look at other methods one could use to dramatically reduce compute time."
   ]
  },
  {
   "cell_type": "markdown",
   "metadata": {},
   "source": [
    "### Exercise 3\n",
    "\n",
    "This way of computing Nmin is clearly inefficient. For example, if we require err(Nmin) < 10−6. and we calculate err(2) = 0.02, it is a waste of time to calculate err(3) as it is already obvious that Nmin is very much larger than 2!  ",
    " Rewrite your program so that is uses a more efficient way to locate the minimum value of N. Your new method must produce exactly the same value for Nmin as before but should be faster. For example, you might try and reduce the number of times that you have to evaluate err(N). You should also tell us how much faster your new program is."
   ]
  },
  {
   "cell_type": "markdown",
   "metadata": {},
   "source": [
    "Explain binary search method n log n etc. Why I chose that.\n",
    "\n",
    "* scipy.optimize\n",
    "* Newtons method\n",
    "\n",
    "Look up other methods\n",
    "\n",
    "Use recusion"
   ]
  },
  {
   "cell_type": "code",
   "execution_count": 9,
   "metadata": {
    "collapsed": false
   },
   "outputs": [
    {
     "name": "stdout",
     "output_type": "stream",
     "text": [
      "3.141592653589793\n",
      "20\n",
      "40\n",
      "80\n",
      "160\n",
      "320\n",
      "640\n",
      "1280\n",
      "2560\n",
      "5120\n",
      "10240\n",
      "20480\n",
      "40960\n",
      "81920\n",
      "163840\n",
      "327680\n",
      "655360\n",
      "1310720\n",
      "2621440\n",
      "2621440\n",
      "Upper - 2621440,\n",
      "Lower - 1310720,\n",
      "Middle - 1966080\n",
      "Below\n",
      "Upper - 2621440,\n",
      "Lower - 1966080,\n",
      "Middle - 2293760\n",
      "Above\n",
      "Upper - 2293760,\n",
      "Lower - 1966080,\n",
      "Middle - 2129920\n",
      "Above\n",
      "Upper - 2129920,\n",
      "Lower - 1966080,\n",
      "Middle - 2048000\n",
      "Above\n",
      "Upper - 2048000,\n",
      "Lower - 1966080,\n",
      "Middle - 2007040\n",
      "Above\n",
      "Upper - 2007040,\n",
      "Lower - 1966080,\n",
      "Middle - 1986560\n",
      "Below\n",
      "Upper - 2007040,\n",
      "Lower - 1986560,\n",
      "Middle - 1996800\n",
      "Below\n",
      "Upper - 2007040,\n",
      "Lower - 1996800,\n",
      "Middle - 2001920\n",
      "Above\n",
      "Upper - 2001920,\n",
      "Lower - 1996800,\n",
      "Middle - 1999360\n",
      "Below\n",
      "Upper - 2001920,\n",
      "Lower - 1999360,\n",
      "Middle - 2000640\n",
      "Above\n",
      "Upper - 2000640,\n",
      "Lower - 1999360,\n",
      "Middle - 2000000\n",
      "Above\n",
      "Upper - 2000000,\n",
      "Lower - 1999360,\n",
      "Middle - 1999680\n",
      "Below\n",
      "Upper - 2000000,\n",
      "Lower - 1999680,\n",
      "Middle - 1999840\n",
      "Below\n",
      "Upper - 2000000,\n",
      "Lower - 1999840,\n",
      "Middle - 1999920\n",
      "Below\n",
      "Upper - 2000000,\n",
      "Lower - 1999920,\n",
      "Middle - 1999960\n",
      "Below\n",
      "Upper - 2000000,\n",
      "Lower - 1999960,\n",
      "Middle - 1999980\n",
      "Below\n",
      "Upper - 2000000,\n",
      "Lower - 1999980,\n",
      "Middle - 1999990\n",
      "Below\n",
      "Upper - 2000000,\n",
      "Lower - 1999990,\n",
      "Middle - 1999995\n",
      "Below\n",
      "Upper - 2000000,\n",
      "Lower - 1999995,\n",
      "Middle - 1999997\n",
      "Below\n",
      "Upper - 2000000,\n",
      "Lower - 1999997,\n",
      "Middle - 1999998\n",
      "Below\n",
      "Upper - 2000000,\n",
      "Lower - 1999998,\n",
      "Middle - 1999999\n",
      "Below\n",
      "Upper - 2000000,\n",
      "Lower - 1999999,\n",
      "Middle - 1999999\n",
      "Got 'eeeem at 2000000\n",
      "Took 44.59676790237427 s\n"
     ]
    }
   ],
   "source": [
    "import math\n",
    "import numpy as np\n",
    "import time\n",
    "\n",
    "start = time.time()\n",
    "\n",
    "pi_true = np.pi\n",
    "print(pi_true)\n",
    "\n",
    "def pi_error(N):\n",
    "\n",
    "    pi_err = np.abs(pi_true - pi_approx(N))\n",
    "\n",
    "    #print(\"The true value of pi = {}, the approxiamtion = {}\".format(pi_true, pi_approx(N)))\n",
    "    #print(\"Thus, the error is = {}\".format(pi_err))\n",
    "\n",
    "    return pi_err\n",
    "\n",
    "def pi_approx(N):\n",
    "    summation = 0\n",
    "    for i in range(N):\n",
    "        alpha  = (i - 0.5)/N\n",
    "        summation = summation + 1 / (1 + alpha**2)\n",
    "        #print(\"i = {} and summation = {}\".format(i, summation))\n",
    "\n",
    "    result = (4 / N)*summation\n",
    "    #print(\"pi approximation = {}\".format(result))\n",
    "\n",
    "    return result\n",
    "\n",
    "# first search\n",
    "guesses = []\n",
    "guess = 10\n",
    "\n",
    "while pi_error(guess) > 0.000001:\n",
    "    guesses = [guess]\n",
    "    guess = guess * 2\n",
    "    guesses.append(guess)\n",
    "    print(guess)\n",
    "\n",
    "print(guesses.pop())\n",
    "\n",
    "upper_lim = guess\n",
    "lower_lim = guesses.pop()\n",
    "middle = math.floor(upper_lim - lower_lim / 2)\n",
    "\n",
    "print(\"Upper - {},\\nLower - {},\\nMiddle - {}\".format(upper_lim, lower_lim, middle))\n",
    "\n",
    "while True:\n",
    "    #Is middle point above or below desired answer?\n",
    "    if pi_error(middle) < 0.000001:\n",
    "        print(\"Above\")\n",
    "        upper_lim = middle\n",
    "        # lower, no change\n",
    "        diff = math.floor((upper_lim - lower_lim) / 2)\n",
    "        middle = lower_lim + diff\n",
    "    else:\n",
    "        print(\"Below\")\n",
    "        #upper_lim stays the same\n",
    "        lower_lim = middle\n",
    "        diff = math.floor((upper_lim - lower_lim) / 2)\n",
    "        middle = lower_lim + diff\n",
    "    print(\"Upper - {},\\nLower - {},\\nMiddle - {}\".format(upper_lim, lower_lim, middle))\n",
    "    if (middle == lower_lim) or (middle == upper_lim):\n",
    "        for input in range(lower_lim, upper_lim + 1):\n",
    "\n",
    "            if pi_error(input) < 0.000001:\n",
    "                print(\"Got 'eeeem at {}\".format(input))\n",
    "                break\n",
    "        break\n",
    "        # return middle\n",
    "        \n",
    "end = time.time()\n",
    "print(\"Took {} s\".format((end - start)))"
   ]
  },
  {
   "cell_type": "markdown",
   "metadata": {},
   "source": [
    "Explain results, talk about complexity. etc."
   ]
  }
 ],
 "metadata": {
  "kernelspec": {
   "display_name": "Python 3",
   "language": "python",
   "name": "python3"
  },
  "language_info": {
   "codemirror_mode": {
    "name": "ipython",
    "version": 3
   },
   "file_extension": ".py",
   "mimetype": "text/x-python",
   "name": "python",
   "nbconvert_exporter": "python",
   "pygments_lexer": "ipython3",
   "version": "3.5.1"
  }
 },
 "nbformat": 4,
 "nbformat_minor": 2
}
